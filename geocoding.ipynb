{
  "nbformat": 4,
  "nbformat_minor": 0,
  "metadata": {
    "colab": {
      "name": "geocoding.ipynb",
      "provenance": []
    },
    "kernelspec": {
      "name": "python3",
      "display_name": "Python 3"
    },
    "language_info": {
      "name": "python"
    }
  },
  "cells": [
    {
      "cell_type": "code",
      "execution_count": 1,
      "metadata": {
        "id": "OlSy_WDlMGWo"
      },
      "outputs": [],
      "source": [
        "!apt-get install -qq curl g++ make"
      ]
    },
    {
      "cell_type": "code",
      "source": [
        "!curl -L http://download.osgeo.org/libspatialindex/spatialindex-src-1.8.5.tar.gz | tar xz"
      ],
      "metadata": {
        "colab": {
          "base_uri": "https://localhost:8080/"
        },
        "id": "Aa5s4hR2MJcf",
        "outputId": "9e94bd90-b2a3-4cb8-90b7-bb63cb35fef7"
      },
      "execution_count": 2,
      "outputs": [
        {
          "output_type": "stream",
          "name": "stdout",
          "text": [
            "  % Total    % Received % Xferd  Average Speed   Time    Time     Time  Current\n",
            "                                 Dload  Upload   Total   Spent    Left  Speed\n",
            "100  556k  100  556k    0     0   826k      0 --:--:-- --:--:-- --:--:--  825k\n"
          ]
        }
      ]
    },
    {
      "cell_type": "code",
      "source": [
        "import os\n",
        "os.chdir('spatialindex-src-1.8.5')"
      ],
      "metadata": {
        "id": "0PJZwTFMMwvY"
      },
      "execution_count": 3,
      "outputs": []
    },
    {
      "cell_type": "code",
      "source": [
        "!./configure"
      ],
      "metadata": {
        "colab": {
          "base_uri": "https://localhost:8080/"
        },
        "id": "wQMyOWsjM1I5",
        "outputId": "790ad072-8ec2-43b7-806f-c8998da4d94d"
      },
      "execution_count": 4,
      "outputs": [
        {
          "output_type": "stream",
          "name": "stdout",
          "text": [
            "checking build system type... x86_64-unknown-linux-gnu\n",
            "checking for g++... g++\n",
            "checking whether the C++ compiler works... yes\n",
            "checking for C++ compiler default output file name... a.out\n",
            "checking for suffix of executables... \n",
            "checking whether we are cross compiling... no\n",
            "checking for suffix of object files... o\n",
            "checking whether we are using the GNU C++ compiler... yes\n",
            "checking whether g++ accepts -g... yes\n",
            "checking how to run the C++ preprocessor... g++ -E\n",
            "checking for a BSD-compatible install... /usr/bin/install -c\n",
            "checking whether ln -s works... yes\n",
            "checking whether make sets $(MAKE)... yes\n",
            "checking host system type... x86_64-unknown-linux-gnu\n",
            "checking how to print strings... printf\n",
            "checking for gcc... gcc\n",
            "checking whether we are using the GNU C compiler... yes\n",
            "checking whether gcc accepts -g... yes\n",
            "checking for gcc option to accept ISO C89... none needed\n",
            "checking whether gcc understands -c and -o together... yes\n",
            "checking for a sed that does not truncate output... /bin/sed\n",
            "checking for grep that handles long lines and -e... /bin/grep\n",
            "checking for egrep... /bin/grep -E\n",
            "checking for fgrep... /bin/grep -F\n",
            "checking for ld used by gcc... /usr/bin/ld\n",
            "checking if the linker (/usr/bin/ld) is GNU ld... yes\n",
            "checking for BSD- or MS-compatible name lister (nm)... /usr/bin/nm -B\n",
            "checking the name lister (/usr/bin/nm -B) interface... BSD nm\n",
            "checking the maximum length of command line arguments... 1572864\n",
            "checking whether the shell understands some XSI constructs... yes\n",
            "checking whether the shell understands \"+=\"... yes\n",
            "checking how to convert x86_64-unknown-linux-gnu file names to x86_64-unknown-linux-gnu format... func_convert_file_noop\n",
            "checking how to convert x86_64-unknown-linux-gnu file names to toolchain format... func_convert_file_noop\n",
            "checking for /usr/bin/ld option to reload object files... -r\n",
            "checking for objdump... objdump\n",
            "checking how to recognize dependent libraries... pass_all\n",
            "checking for dlltool... no\n",
            "checking how to associate runtime and link libraries... printf %s\\n\n",
            "checking for ar... ar\n",
            "checking for archiver @FILE support... @\n",
            "checking for strip... strip\n",
            "checking for ranlib... ranlib\n",
            "checking for gawk... no\n",
            "checking for mawk... mawk\n",
            "checking command to parse /usr/bin/nm -B output from gcc object... ok\n",
            "checking for sysroot... no\n",
            "./configure: line 6204: /usr/bin/file: No such file or directory\n",
            "checking for mt... no\n",
            "checking if : is a manifest tool... no\n",
            "checking how to run the C preprocessor... gcc -E\n",
            "checking for ANSI C header files... yes\n",
            "checking for sys/types.h... yes\n",
            "checking for sys/stat.h... yes\n",
            "checking for stdlib.h... yes\n",
            "checking for string.h... yes\n",
            "checking for memory.h... yes\n",
            "checking for strings.h... yes\n",
            "checking for inttypes.h... yes\n",
            "checking for stdint.h... yes\n",
            "checking for unistd.h... yes\n",
            "checking for dlfcn.h... yes\n",
            "checking for objdir... .libs\n",
            "checking if gcc supports -fno-rtti -fno-exceptions... no\n",
            "checking for gcc option to produce PIC... -fPIC -DPIC\n",
            "checking if gcc PIC flag -fPIC -DPIC works... yes\n",
            "checking if gcc static flag -static works... yes\n",
            "checking if gcc supports -c -o file.o... yes\n",
            "checking if gcc supports -c -o file.o... (cached) yes\n",
            "checking whether the gcc linker (/usr/bin/ld) supports shared libraries... yes\n",
            "checking whether -lc should be explicitly linked in... no\n",
            "checking dynamic linker characteristics... GNU/Linux ld.so\n",
            "checking how to hardcode library paths into programs... immediate\n",
            "checking whether stripping libraries is possible... yes\n",
            "checking if libtool supports shared libraries... yes\n",
            "checking whether to build shared libraries... yes\n",
            "checking whether to build static libraries... yes\n",
            "checking how to run the C++ preprocessor... g++ -E\n",
            "checking for ld used by g++... /usr/bin/ld\n",
            "checking if the linker (/usr/bin/ld) is GNU ld... yes\n",
            "checking whether the g++ linker (/usr/bin/ld) supports shared libraries... yes\n",
            "checking for g++ option to produce PIC... -fPIC -DPIC\n",
            "checking if g++ PIC flag -fPIC -DPIC works... yes\n",
            "checking if g++ static flag -static works... yes\n",
            "checking if g++ supports -c -o file.o... yes\n",
            "checking if g++ supports -c -o file.o... (cached) yes\n",
            "checking whether the g++ linker (/usr/bin/ld) supports shared libraries... yes\n",
            "checking dynamic linker characteristics... (cached) GNU/Linux ld.so\n",
            "checking how to hardcode library paths into programs... immediate\n",
            "checking whether build environment is sane... yes\n",
            "/content/spatialindex-src-1.8.5/missing: Unknown `--is-lightweight' option\n",
            "Try `/content/spatialindex-src-1.8.5/missing --help' for more information\n",
            "configure: WARNING: 'missing' script is too old or missing\n",
            "checking for a thread-safe mkdir -p... /bin/mkdir -p\n",
            "checking for style of include used by make... GNU\n",
            "checking whether make supports nested variables... yes\n",
            "checking dependency style of gcc... gcc3\n",
            "checking dependency style of g++... gcc3\n",
            "checking fcntl.h usability... yes\n",
            "checking fcntl.h presence... yes\n",
            "checking for fcntl.h... yes\n",
            "checking for unistd.h... (cached) yes\n",
            "checking for sys/types.h... (cached) yes\n",
            "checking for sys/stat.h... (cached) yes\n",
            "checking pthread.h usability... yes\n",
            "checking pthread.h presence... yes\n",
            "checking for pthread.h... yes\n",
            "checking sys/resource.h usability... yes\n",
            "checking sys/resource.h presence... yes\n",
            "checking for sys/resource.h... yes\n",
            "checking sys/time.h usability... yes\n",
            "checking sys/time.h presence... yes\n",
            "checking for sys/time.h... yes\n",
            "checking for stdint.h... (cached) yes\n",
            "checking features.h usability... yes\n",
            "checking features.h presence... yes\n",
            "checking for features.h... yes\n",
            "checking wether debug information is enabled... no\n",
            "checking for gettimeofday... yes\n",
            "checking for memset... yes\n",
            "checking for memcpy... yes\n",
            "checking for bcopy... yes\n",
            "checking for srand48... yes\n",
            "checking that generated files are newer than configure... done\n",
            "configure: creating ./config.status\n",
            "config.status: creating Makefile\n",
            "config.status: creating include/Makefile\n",
            "config.status: creating src/Makefile\n",
            "config.status: creating src/libspatialindex.pc\n",
            "config.status: creating src/capi/Makefile\n",
            "config.status: creating src/spatialindex/Makefile\n",
            "config.status: creating src/storagemanager/Makefile\n",
            "config.status: creating src/rtree/Makefile\n",
            "config.status: creating src/mvrtree/Makefile\n",
            "config.status: creating src/tprtree/Makefile\n",
            "config.status: creating src/tools/Makefile\n",
            "config.status: creating test/Makefile\n",
            "config.status: creating test/geometry/Makefile\n",
            "config.status: creating test/rtree/Makefile\n",
            "config.status: creating test/mvrtree/Makefile\n",
            "config.status: creating test/tprtree/Makefile\n",
            "config.status: executing libtool commands\n",
            "config.status: executing depfiles commands\n"
          ]
        }
      ]
    },
    {
      "cell_type": "code",
      "source": [
        "!make"
      ],
      "metadata": {
        "colab": {
          "base_uri": "https://localhost:8080/"
        },
        "id": "I0_uVEuCM4P5",
        "outputId": "2311c943-95d4-429c-e273-edca0b24888d"
      },
      "execution_count": 5,
      "outputs": [
        {
          "output_type": "stream",
          "name": "stdout",
          "text": [
            "Making all in src\n",
            "make[1]: Entering directory '/content/spatialindex-src-1.8.5/src'\n",
            "Making all in storagemanager\n",
            "make[2]: Entering directory '/content/spatialindex-src-1.8.5/src/storagemanager'\n",
            "depbase=`echo Buffer.lo | sed 's|[^/]*$|.deps/&|;s|\\.lo$||'`;\\\n",
            "/bin/bash ../../libtool  --tag=CXX   --mode=compile g++ -DPACKAGE_NAME=\\\"spatialindex\\\" -DPACKAGE_TARNAME=\\\"spatialindex-src\\\" -DPACKAGE_VERSION=\\\"1.8.5\\\" -DPACKAGE_STRING=\\\"spatialindex\\ 1.8.5\\\" -DPACKAGE_BUGREPORT=\\\"mhadji@gmail.com\\\" -DPACKAGE_URL=\\\"\\\" -DSTDC_HEADERS=1 -DHAVE_SYS_TYPES_H=1 -DHAVE_SYS_STAT_H=1 -DHAVE_STDLIB_H=1 -DHAVE_STRING_H=1 -DHAVE_MEMORY_H=1 -DHAVE_STRINGS_H=1 -DHAVE_INTTYPES_H=1 -DHAVE_STDINT_H=1 -DHAVE_UNISTD_H=1 -DHAVE_DLFCN_H=1 -DLT_OBJDIR=\\\".libs/\\\" -DPACKAGE=\\\"spatialindex-src\\\" -DVERSION=\\\"1.8.5\\\" -DHAVE_FCNTL_H=1 -DHAVE_UNISTD_H=1 -DHAVE_SYS_TYPES_H=1 -DHAVE_SYS_STAT_H=1 -DHAVE_PTHREAD_H=1 -DHAVE_SYS_RESOURCE_H=1 -DHAVE_SYS_TIME_H=1 -DHAVE_STDINT_H=1 -DHAVE_FEATURES_H=1 -DHAVE_GETTIMEOFDAY=1 -DHAVE_MEMSET=1 -DHAVE_MEMCPY=1 -DHAVE_BCOPY=1 -DHAVE_SRAND48=1 -I. -I../../include     -Wall -Wno-long-long -pedantic -std=c++98  -O2 -DNDEBUG -MT Buffer.lo -MD -MP -MF $depbase.Tpo -c -o Buffer.lo Buffer.cc &&\\\n",
            "mv -f $depbase.Tpo $depbase.Plo\n",
            "libtool: compile:  g++ -DPACKAGE_NAME=\\\"spatialindex\\\" -DPACKAGE_TARNAME=\\\"spatialindex-src\\\" -DPACKAGE_VERSION=\\\"1.8.5\\\" \"-DPACKAGE_STRING=\\\"spatialindex 1.8.5\\\"\" -DPACKAGE_BUGREPORT=\\\"mhadji@gmail.com\\\" -DPACKAGE_URL=\\\"\\\" -DSTDC_HEADERS=1 -DHAVE_SYS_TYPES_H=1 -DHAVE_SYS_STAT_H=1 -DHAVE_STDLIB_H=1 -DHAVE_STRING_H=1 -DHAVE_MEMORY_H=1 -DHAVE_STRINGS_H=1 -DHAVE_INTTYPES_H=1 -DHAVE_STDINT_H=1 -DHAVE_UNISTD_H=1 -DHAVE_DLFCN_H=1 -DLT_OBJDIR=\\\".libs/\\\" -DPACKAGE=\\\"spatialindex-src\\\" -DVERSION=\\\"1.8.5\\\" -DHAVE_FCNTL_H=1 -DHAVE_UNISTD_H=1 -DHAVE_SYS_TYPES_H=1 -DHAVE_SYS_STAT_H=1 -DHAVE_PTHREAD_H=1 -DHAVE_SYS_RESOURCE_H=1 -DHAVE_SYS_TIME_H=1 -DHAVE_STDINT_H=1 -DHAVE_FEATURES_H=1 -DHAVE_GETTIMEOFDAY=1 -DHAVE_MEMSET=1 -DHAVE_MEMCPY=1 -DHAVE_BCOPY=1 -DHAVE_SRAND48=1 -I. -I../../include -Wall -Wno-long-long -pedantic -std=c++98 -O2 -DNDEBUG -MT Buffer.lo -MD -MP -MF .deps/Buffer.Tpo -c Buffer.cc  -fPIC -DPIC -o .libs/Buffer.o\n",
            "libtool: compile:  g++ -DPACKAGE_NAME=\\\"spatialindex\\\" -DPACKAGE_TARNAME=\\\"spatialindex-src\\\" -DPACKAGE_VERSION=\\\"1.8.5\\\" \"-DPACKAGE_STRING=\\\"spatialindex 1.8.5\\\"\" -DPACKAGE_BUGREPORT=\\\"mhadji@gmail.com\\\" -DPACKAGE_URL=\\\"\\\" -DSTDC_HEADERS=1 -DHAVE_SYS_TYPES_H=1 -DHAVE_SYS_STAT_H=1 -DHAVE_STDLIB_H=1 -DHAVE_STRING_H=1 -DHAVE_MEMORY_H=1 -DHAVE_STRINGS_H=1 -DHAVE_INTTYPES_H=1 -DHAVE_STDINT_H=1 -DHAVE_UNISTD_H=1 -DHAVE_DLFCN_H=1 -DLT_OBJDIR=\\\".libs/\\\" -DPACKAGE=\\\"spatialindex-src\\\" -DVERSION=\\\"1.8.5\\\" -DHAVE_FCNTL_H=1 -DHAVE_UNISTD_H=1 -DHAVE_SYS_TYPES_H=1 -DHAVE_SYS_STAT_H=1 -DHAVE_PTHREAD_H=1 -DHAVE_SYS_RESOURCE_H=1 -DHAVE_SYS_TIME_H=1 -DHAVE_STDINT_H=1 -DHAVE_FEATURES_H=1 -DHAVE_GETTIMEOFDAY=1 -DHAVE_MEMSET=1 -DHAVE_MEMCPY=1 -DHAVE_BCOPY=1 -DHAVE_SRAND48=1 -I. -I../../include -Wall -Wno-long-long -pedantic -std=c++98 -O2 -DNDEBUG -MT Buffer.lo -MD -MP -MF .deps/Buffer.Tpo -c Buffer.cc -o Buffer.o >/dev/null 2>&1\n",
            "depbase=`echo DiskStorageManager.lo | sed 's|[^/]*$|.deps/&|;s|\\.lo$||'`;\\\n",
            "/bin/bash ../../libtool  --tag=CXX   --mode=compile g++ -DPACKAGE_NAME=\\\"spatialindex\\\" -DPACKAGE_TARNAME=\\\"spatialindex-src\\\" -DPACKAGE_VERSION=\\\"1.8.5\\\" -DPACKAGE_STRING=\\\"spatialindex\\ 1.8.5\\\" -DPACKAGE_BUGREPORT=\\\"mhadji@gmail.com\\\" -DPACKAGE_URL=\\\"\\\" -DSTDC_HEADERS=1 -DHAVE_SYS_TYPES_H=1 -DHAVE_SYS_STAT_H=1 -DHAVE_STDLIB_H=1 -DHAVE_STRING_H=1 -DHAVE_MEMORY_H=1 -DHAVE_STRINGS_H=1 -DHAVE_INTTYPES_H=1 -DHAVE_STDINT_H=1 -DHAVE_UNISTD_H=1 -DHAVE_DLFCN_H=1 -DLT_OBJDIR=\\\".libs/\\\" -DPACKAGE=\\\"spatialindex-src\\\" -DVERSION=\\\"1.8.5\\\" -DHAVE_FCNTL_H=1 -DHAVE_UNISTD_H=1 -DHAVE_SYS_TYPES_H=1 -DHAVE_SYS_STAT_H=1 -DHAVE_PTHREAD_H=1 -DHAVE_SYS_RESOURCE_H=1 -DHAVE_SYS_TIME_H=1 -DHAVE_STDINT_H=1 -DHAVE_FEATURES_H=1 -DHAVE_GETTIMEOFDAY=1 -DHAVE_MEMSET=1 -DHAVE_MEMCPY=1 -DHAVE_BCOPY=1 -DHAVE_SRAND48=1 -I. -I../../include     -Wall -Wno-long-long -pedantic -std=c++98  -O2 -DNDEBUG -MT DiskStorageManager.lo -MD -MP -MF $depbase.Tpo -c -o DiskStorageManager.lo DiskStorageManager.cc &&\\\n",
            "mv -f $depbase.Tpo $depbase.Plo\n",
            "libtool: compile:  g++ -DPACKAGE_NAME=\\\"spatialindex\\\" -DPACKAGE_TARNAME=\\\"spatialindex-src\\\" -DPACKAGE_VERSION=\\\"1.8.5\\\" \"-DPACKAGE_STRING=\\\"spatialindex 1.8.5\\\"\" -DPACKAGE_BUGREPORT=\\\"mhadji@gmail.com\\\" -DPACKAGE_URL=\\\"\\\" -DSTDC_HEADERS=1 -DHAVE_SYS_TYPES_H=1 -DHAVE_SYS_STAT_H=1 -DHAVE_STDLIB_H=1 -DHAVE_STRING_H=1 -DHAVE_MEMORY_H=1 -DHAVE_STRINGS_H=1 -DHAVE_INTTYPES_H=1 -DHAVE_STDINT_H=1 -DHAVE_UNISTD_H=1 -DHAVE_DLFCN_H=1 -DLT_OBJDIR=\\\".libs/\\\" -DPACKAGE=\\\"spatialindex-src\\\" -DVERSION=\\\"1.8.5\\\" -DHAVE_FCNTL_H=1 -DHAVE_UNISTD_H=1 -DHAVE_SYS_TYPES_H=1 -DHAVE_SYS_STAT_H=1 -DHAVE_PTHREAD_H=1 -DHAVE_SYS_RESOURCE_H=1 -DHAVE_SYS_TIME_H=1 -DHAVE_STDINT_H=1 -DHAVE_FEATURES_H=1 -DHAVE_GETTIMEOFDAY=1 -DHAVE_MEMSET=1 -DHAVE_MEMCPY=1 -DHAVE_BCOPY=1 -DHAVE_SRAND48=1 -I. -I../../include -Wall -Wno-long-long -pedantic -std=c++98 -O2 -DNDEBUG -MT DiskStorageManager.lo -MD -MP -MF .deps/DiskStorageManager.Tpo -c DiskStorageManager.cc  -fPIC -DPIC -o .libs/DiskStorageManager.o\n",
            "libtool: compile:  g++ -DPACKAGE_NAME=\\\"spatialindex\\\" -DPACKAGE_TARNAME=\\\"spatialindex-src\\\" -DPACKAGE_VERSION=\\\"1.8.5\\\" \"-DPACKAGE_STRING=\\\"spatialindex 1.8.5\\\"\" -DPACKAGE_BUGREPORT=\\\"mhadji@gmail.com\\\" -DPACKAGE_URL=\\\"\\\" -DSTDC_HEADERS=1 -DHAVE_SYS_TYPES_H=1 -DHAVE_SYS_STAT_H=1 -DHAVE_STDLIB_H=1 -DHAVE_STRING_H=1 -DHAVE_MEMORY_H=1 -DHAVE_STRINGS_H=1 -DHAVE_INTTYPES_H=1 -DHAVE_STDINT_H=1 -DHAVE_UNISTD_H=1 -DHAVE_DLFCN_H=1 -DLT_OBJDIR=\\\".libs/\\\" -DPACKAGE=\\\"spatialindex-src\\\" -DVERSION=\\\"1.8.5\\\" -DHAVE_FCNTL_H=1 -DHAVE_UNISTD_H=1 -DHAVE_SYS_TYPES_H=1 -DHAVE_SYS_STAT_H=1 -DHAVE_PTHREAD_H=1 -DHAVE_SYS_RESOURCE_H=1 -DHAVE_SYS_TIME_H=1 -DHAVE_STDINT_H=1 -DHAVE_FEATURES_H=1 -DHAVE_GETTIMEOFDAY=1 -DHAVE_MEMSET=1 -DHAVE_MEMCPY=1 -DHAVE_BCOPY=1 -DHAVE_SRAND48=1 -I. -I../../include -Wall -Wno-long-long -pedantic -std=c++98 -O2 -DNDEBUG -MT DiskStorageManager.lo -MD -MP -MF .deps/DiskStorageManager.Tpo -c DiskStorageManager.cc -o DiskStorageManager.o >/dev/null 2>&1\n",
            "depbase=`echo MemoryStorageManager.lo | sed 's|[^/]*$|.deps/&|;s|\\.lo$||'`;\\\n",
            "/bin/bash ../../libtool  --tag=CXX   --mode=compile g++ -DPACKAGE_NAME=\\\"spatialindex\\\" -DPACKAGE_TARNAME=\\\"spatialindex-src\\\" -DPACKAGE_VERSION=\\\"1.8.5\\\" -DPACKAGE_STRING=\\\"spatialindex\\ 1.8.5\\\" -DPACKAGE_BUGREPORT=\\\"mhadji@gmail.com\\\" -DPACKAGE_URL=\\\"\\\" -DSTDC_HEADERS=1 -DHAVE_SYS_TYPES_H=1 -DHAVE_SYS_STAT_H=1 -DHAVE_STDLIB_H=1 -DHAVE_STRING_H=1 -DHAVE_MEMORY_H=1 -DHAVE_STRINGS_H=1 -DHAVE_INTTYPES_H=1 -DHAVE_STDINT_H=1 -DHAVE_UNISTD_H=1 -DHAVE_DLFCN_H=1 -DLT_OBJDIR=\\\".libs/\\\" -DPACKAGE=\\\"spatialindex-src\\\" -DVERSION=\\\"1.8.5\\\" -DHAVE_FCNTL_H=1 -DHAVE_UNISTD_H=1 -DHAVE_SYS_TYPES_H=1 -DHAVE_SYS_STAT_H=1 -DHAVE_PTHREAD_H=1 -DHAVE_SYS_RESOURCE_H=1 -DHAVE_SYS_TIME_H=1 -DHAVE_STDINT_H=1 -DHAVE_FEATURES_H=1 -DHAVE_GETTIMEOFDAY=1 -DHAVE_MEMSET=1 -DHAVE_MEMCPY=1 -DHAVE_BCOPY=1 -DHAVE_SRAND48=1 -I. -I../../include     -Wall -Wno-long-long -pedantic -std=c++98  -O2 -DNDEBUG -MT MemoryStorageManager.lo -MD -MP -MF $depbase.Tpo -c -o MemoryStorageManager.lo MemoryStorageManager.cc &&\\\n",
            "mv -f $depbase.Tpo $depbase.Plo\n",
            "libtool: compile:  g++ -DPACKAGE_NAME=\\\"spatialindex\\\" -DPACKAGE_TARNAME=\\\"spatialindex-src\\\" -DPACKAGE_VERSION=\\\"1.8.5\\\" \"-DPACKAGE_STRING=\\\"spatialindex 1.8.5\\\"\" -DPACKAGE_BUGREPORT=\\\"mhadji@gmail.com\\\" -DPACKAGE_URL=\\\"\\\" -DSTDC_HEADERS=1 -DHAVE_SYS_TYPES_H=1 -DHAVE_SYS_STAT_H=1 -DHAVE_STDLIB_H=1 -DHAVE_STRING_H=1 -DHAVE_MEMORY_H=1 -DHAVE_STRINGS_H=1 -DHAVE_INTTYPES_H=1 -DHAVE_STDINT_H=1 -DHAVE_UNISTD_H=1 -DHAVE_DLFCN_H=1 -DLT_OBJDIR=\\\".libs/\\\" -DPACKAGE=\\\"spatialindex-src\\\" -DVERSION=\\\"1.8.5\\\" -DHAVE_FCNTL_H=1 -DHAVE_UNISTD_H=1 -DHAVE_SYS_TYPES_H=1 -DHAVE_SYS_STAT_H=1 -DHAVE_PTHREAD_H=1 -DHAVE_SYS_RESOURCE_H=1 -DHAVE_SYS_TIME_H=1 -DHAVE_STDINT_H=1 -DHAVE_FEATURES_H=1 -DHAVE_GETTIMEOFDAY=1 -DHAVE_MEMSET=1 -DHAVE_MEMCPY=1 -DHAVE_BCOPY=1 -DHAVE_SRAND48=1 -I. -I../../include -Wall -Wno-long-long -pedantic -std=c++98 -O2 -DNDEBUG -MT MemoryStorageManager.lo -MD -MP -MF .deps/MemoryStorageManager.Tpo -c MemoryStorageManager.cc  -fPIC -DPIC -o .libs/MemoryStorageManager.o\n",
            "libtool: compile:  g++ -DPACKAGE_NAME=\\\"spatialindex\\\" -DPACKAGE_TARNAME=\\\"spatialindex-src\\\" -DPACKAGE_VERSION=\\\"1.8.5\\\" \"-DPACKAGE_STRING=\\\"spatialindex 1.8.5\\\"\" -DPACKAGE_BUGREPORT=\\\"mhadji@gmail.com\\\" -DPACKAGE_URL=\\\"\\\" -DSTDC_HEADERS=1 -DHAVE_SYS_TYPES_H=1 -DHAVE_SYS_STAT_H=1 -DHAVE_STDLIB_H=1 -DHAVE_STRING_H=1 -DHAVE_MEMORY_H=1 -DHAVE_STRINGS_H=1 -DHAVE_INTTYPES_H=1 -DHAVE_STDINT_H=1 -DHAVE_UNISTD_H=1 -DHAVE_DLFCN_H=1 -DLT_OBJDIR=\\\".libs/\\\" -DPACKAGE=\\\"spatialindex-src\\\" -DVERSION=\\\"1.8.5\\\" -DHAVE_FCNTL_H=1 -DHAVE_UNISTD_H=1 -DHAVE_SYS_TYPES_H=1 -DHAVE_SYS_STAT_H=1 -DHAVE_PTHREAD_H=1 -DHAVE_SYS_RESOURCE_H=1 -DHAVE_SYS_TIME_H=1 -DHAVE_STDINT_H=1 -DHAVE_FEATURES_H=1 -DHAVE_GETTIMEOFDAY=1 -DHAVE_MEMSET=1 -DHAVE_MEMCPY=1 -DHAVE_BCOPY=1 -DHAVE_SRAND48=1 -I. -I../../include -Wall -Wno-long-long -pedantic -std=c++98 -O2 -DNDEBUG -MT MemoryStorageManager.lo -MD -MP -MF .deps/MemoryStorageManager.Tpo -c MemoryStorageManager.cc -o MemoryStorageManager.o >/dev/null 2>&1\n",
            "depbase=`echo RandomEvictionsBuffer.lo | sed 's|[^/]*$|.deps/&|;s|\\.lo$||'`;\\\n",
            "/bin/bash ../../libtool  --tag=CXX   --mode=compile g++ -DPACKAGE_NAME=\\\"spatialindex\\\" -DPACKAGE_TARNAME=\\\"spatialindex-src\\\" -DPACKAGE_VERSION=\\\"1.8.5\\\" -DPACKAGE_STRING=\\\"spatialindex\\ 1.8.5\\\" -DPACKAGE_BUGREPORT=\\\"mhadji@gmail.com\\\" -DPACKAGE_URL=\\\"\\\" -DSTDC_HEADERS=1 -DHAVE_SYS_TYPES_H=1 -DHAVE_SYS_STAT_H=1 -DHAVE_STDLIB_H=1 -DHAVE_STRING_H=1 -DHAVE_MEMORY_H=1 -DHAVE_STRINGS_H=1 -DHAVE_INTTYPES_H=1 -DHAVE_STDINT_H=1 -DHAVE_UNISTD_H=1 -DHAVE_DLFCN_H=1 -DLT_OBJDIR=\\\".libs/\\\" -DPACKAGE=\\\"spatialindex-src\\\" -DVERSION=\\\"1.8.5\\\" -DHAVE_FCNTL_H=1 -DHAVE_UNISTD_H=1 -DHAVE_SYS_TYPES_H=1 -DHAVE_SYS_STAT_H=1 -DHAVE_PTHREAD_H=1 -DHAVE_SYS_RESOURCE_H=1 -DHAVE_SYS_TIME_H=1 -DHAVE_STDINT_H=1 -DHAVE_FEATURES_H=1 -DHAVE_GETTIMEOFDAY=1 -DHAVE_MEMSET=1 -DHAVE_MEMCPY=1 -DHAVE_BCOPY=1 -DHAVE_SRAND48=1 -I. -I../../include     -Wall -Wno-long-long -pedantic -std=c++98  -O2 -DNDEBUG -MT RandomEvictionsBuffer.lo -MD -MP -MF $depbase.Tpo -c -o RandomEvictionsBuffer.lo RandomEvictionsBuffer.cc &&\\\n",
            "mv -f $depbase.Tpo $depbase.Plo\n",
            "libtool: compile:  g++ -DPACKAGE_NAME=\\\"spatialindex\\\" -DPACKAGE_TARNAME=\\\"spatialindex-src\\\" -DPACKAGE_VERSION=\\\"1.8.5\\\" \"-DPACKAGE_STRING=\\\"spatialindex 1.8.5\\\"\" -DPACKAGE_BUGREPORT=\\\"mhadji@gmail.com\\\" -DPACKAGE_URL=\\\"\\\" -DSTDC_HEADERS=1 -DHAVE_SYS_TYPES_H=1 -DHAVE_SYS_STAT_H=1 -DHAVE_STDLIB_H=1 -DHAVE_STRING_H=1 -DHAVE_MEMORY_H=1 -DHAVE_STRINGS_H=1 -DHAVE_INTTYPES_H=1 -DHAVE_STDINT_H=1 -DHAVE_UNISTD_H=1 -DHAVE_DLFCN_H=1 -DLT_OBJDIR=\\\".libs/\\\" -DPACKAGE=\\\"spatialindex-src\\\" -DVERSION=\\\"1.8.5\\\" -DHAVE_FCNTL_H=1 -DHAVE_UNISTD_H=1 -DHAVE_SYS_TYPES_H=1 -DHAVE_SYS_STAT_H=1 -DHAVE_PTHREAD_H=1 -DHAVE_SYS_RESOURCE_H=1 -DHAVE_SYS_TIME_H=1 -DHAVE_STDINT_H=1 -DHAVE_FEATURES_H=1 -DHAVE_GETTIMEOFDAY=1 -DHAVE_MEMSET=1 -DHAVE_MEMCPY=1 -DHAVE_BCOPY=1 -DHAVE_SRAND48=1 -I. -I../../include -Wall -Wno-long-long -pedantic -std=c++98 -O2 -DNDEBUG -MT RandomEvictionsBuffer.lo -MD -MP -MF .deps/RandomEvictionsBuffer.Tpo -c RandomEvictionsBuffer.cc  -fPIC -DPIC -o .libs/RandomEvictionsBuffer.o\n",
            "libtool: compile:  g++ -DPACKAGE_NAME=\\\"spatialindex\\\" -DPACKAGE_TARNAME=\\\"spatialindex-src\\\" -DPACKAGE_VERSION=\\\"1.8.5\\\" \"-DPACKAGE_STRING=\\\"spatialindex 1.8.5\\\"\" -DPACKAGE_BUGREPORT=\\\"mhadji@gmail.com\\\" -DPACKAGE_URL=\\\"\\\" -DSTDC_HEADERS=1 -DHAVE_SYS_TYPES_H=1 -DHAVE_SYS_STAT_H=1 -DHAVE_STDLIB_H=1 -DHAVE_STRING_H=1 -DHAVE_MEMORY_H=1 -DHAVE_STRINGS_H=1 -DHAVE_INTTYPES_H=1 -DHAVE_STDINT_H=1 -DHAVE_UNISTD_H=1 -DHAVE_DLFCN_H=1 -DLT_OBJDIR=\\\".libs/\\\" -DPACKAGE=\\\"spatialindex-src\\\" -DVERSION=\\\"1.8.5\\\" -DHAVE_FCNTL_H=1 -DHAVE_UNISTD_H=1 -DHAVE_SYS_TYPES_H=1 -DHAVE_SYS_STAT_H=1 -DHAVE_PTHREAD_H=1 -DHAVE_SYS_RESOURCE_H=1 -DHAVE_SYS_TIME_H=1 -DHAVE_STDINT_H=1 -DHAVE_FEATURES_H=1 -DHAVE_GETTIMEOFDAY=1 -DHAVE_MEMSET=1 -DHAVE_MEMCPY=1 -DHAVE_BCOPY=1 -DHAVE_SRAND48=1 -I. -I../../include -Wall -Wno-long-long -pedantic -std=c++98 -O2 -DNDEBUG -MT RandomEvictionsBuffer.lo -MD -MP -MF .deps/RandomEvictionsBuffer.Tpo -c RandomEvictionsBuffer.cc -o RandomEvictionsBuffer.o >/dev/null 2>&1\n",
            "/bin/bash ../../libtool  --tag=CXX   --mode=link g++  -Wall -Wno-long-long -pedantic -std=c++98  -O2 -DNDEBUG   -o libstoragemanager.la  Buffer.lo DiskStorageManager.lo MemoryStorageManager.lo RandomEvictionsBuffer.lo  -lpthread\n",
            "libtool: link: ar cru .libs/libstoragemanager.a .libs/Buffer.o .libs/DiskStorageManager.o .libs/MemoryStorageManager.o .libs/RandomEvictionsBuffer.o \n",
            "ar: `u' modifier ignored since `D' is the default (see `U')\n",
            "libtool: link: ranlib .libs/libstoragemanager.a\n",
            "libtool: link: ( cd \".libs\" && rm -f \"libstoragemanager.la\" && ln -s \"../libstoragemanager.la\" \"libstoragemanager.la\" )\n",
            "make[2]: Leaving directory '/content/spatialindex-src-1.8.5/src/storagemanager'\n",
            "Making all in spatialindex\n",
            "make[2]: Entering directory '/content/spatialindex-src-1.8.5/src/spatialindex'\n",
            "depbase=`echo Point.lo | sed 's|[^/]*$|.deps/&|;s|\\.lo$||'`;\\\n",
            "/bin/bash ../../libtool  --tag=CXX   --mode=compile g++ -DPACKAGE_NAME=\\\"spatialindex\\\" -DPACKAGE_TARNAME=\\\"spatialindex-src\\\" -DPACKAGE_VERSION=\\\"1.8.5\\\" -DPACKAGE_STRING=\\\"spatialindex\\ 1.8.5\\\" -DPACKAGE_BUGREPORT=\\\"mhadji@gmail.com\\\" -DPACKAGE_URL=\\\"\\\" -DSTDC_HEADERS=1 -DHAVE_SYS_TYPES_H=1 -DHAVE_SYS_STAT_H=1 -DHAVE_STDLIB_H=1 -DHAVE_STRING_H=1 -DHAVE_MEMORY_H=1 -DHAVE_STRINGS_H=1 -DHAVE_INTTYPES_H=1 -DHAVE_STDINT_H=1 -DHAVE_UNISTD_H=1 -DHAVE_DLFCN_H=1 -DLT_OBJDIR=\\\".libs/\\\" -DPACKAGE=\\\"spatialindex-src\\\" -DVERSION=\\\"1.8.5\\\" -DHAVE_FCNTL_H=1 -DHAVE_UNISTD_H=1 -DHAVE_SYS_TYPES_H=1 -DHAVE_SYS_STAT_H=1 -DHAVE_PTHREAD_H=1 -DHAVE_SYS_RESOURCE_H=1 -DHAVE_SYS_TIME_H=1 -DHAVE_STDINT_H=1 -DHAVE_FEATURES_H=1 -DHAVE_GETTIMEOFDAY=1 -DHAVE_MEMSET=1 -DHAVE_MEMCPY=1 -DHAVE_BCOPY=1 -DHAVE_SRAND48=1 -I. -I../../include    -Wall -Wno-long-long -pedantic -std=c++98  -O2 -DNDEBUG -MT Point.lo -MD -MP -MF $depbase.Tpo -c -o Point.lo Point.cc &&\\\n",
            "mv -f $depbase.Tpo $depbase.Plo\n",
            "libtool: compile:  g++ -DPACKAGE_NAME=\\\"spatialindex\\\" -DPACKAGE_TARNAME=\\\"spatialindex-src\\\" -DPACKAGE_VERSION=\\\"1.8.5\\\" \"-DPACKAGE_STRING=\\\"spatialindex 1.8.5\\\"\" -DPACKAGE_BUGREPORT=\\\"mhadji@gmail.com\\\" -DPACKAGE_URL=\\\"\\\" -DSTDC_HEADERS=1 -DHAVE_SYS_TYPES_H=1 -DHAVE_SYS_STAT_H=1 -DHAVE_STDLIB_H=1 -DHAVE_STRING_H=1 -DHAVE_MEMORY_H=1 -DHAVE_STRINGS_H=1 -DHAVE_INTTYPES_H=1 -DHAVE_STDINT_H=1 -DHAVE_UNISTD_H=1 -DHAVE_DLFCN_H=1 -DLT_OBJDIR=\\\".libs/\\\" -DPACKAGE=\\\"spatialindex-src\\\" -DVERSION=\\\"1.8.5\\\" -DHAVE_FCNTL_H=1 -DHAVE_UNISTD_H=1 -DHAVE_SYS_TYPES_H=1 -DHAVE_SYS_STAT_H=1 -DHAVE_PTHREAD_H=1 -DHAVE_SYS_RESOURCE_H=1 -DHAVE_SYS_TIME_H=1 -DHAVE_STDINT_H=1 -DHAVE_FEATURES_H=1 -DHAVE_GETTIMEOFDAY=1 -DHAVE_MEMSET=1 -DHAVE_MEMCPY=1 -DHAVE_BCOPY=1 -DHAVE_SRAND48=1 -I. -I../../include -Wall -Wno-long-long -pedantic -std=c++98 -O2 -DNDEBUG -MT Point.lo -MD -MP -MF .deps/Point.Tpo -c Point.cc  -fPIC -DPIC -o .libs/Point.o\n",
            "libtool: compile:  g++ -DPACKAGE_NAME=\\\"spatialindex\\\" -DPACKAGE_TARNAME=\\\"spatialindex-src\\\" -DPACKAGE_VERSION=\\\"1.8.5\\\" \"-DPACKAGE_STRING=\\\"spatialindex 1.8.5\\\"\" -DPACKAGE_BUGREPORT=\\\"mhadji@gmail.com\\\" -DPACKAGE_URL=\\\"\\\" -DSTDC_HEADERS=1 -DHAVE_SYS_TYPES_H=1 -DHAVE_SYS_STAT_H=1 -DHAVE_STDLIB_H=1 -DHAVE_STRING_H=1 -DHAVE_MEMORY_H=1 -DHAVE_STRINGS_H=1 -DHAVE_INTTYPES_H=1 -DHAVE_STDINT_H=1 -DHAVE_UNISTD_H=1 -DHAVE_DLFCN_H=1 -DLT_OBJDIR=\\\".libs/\\\" -DPACKAGE=\\\"spatialindex-src\\\" -DVERSION=\\\"1.8.5\\\" -DHAVE_FCNTL_H=1 -DHAVE_UNISTD_H=1 -DHAVE_SYS_TYPES_H=1 -DHAVE_SYS_STAT_H=1 -DHAVE_PTHREAD_H=1 -DHAVE_SYS_RESOURCE_H=1 -DHAVE_SYS_TIME_H=1 -DHAVE_STDINT_H=1 -DHAVE_FEATURES_H=1 -DHAVE_GETTIMEOFDAY=1 -DHAVE_MEMSET=1 -DHAVE_MEMCPY=1 -DHAVE_BCOPY=1 -DHAVE_SRAND48=1 -I. -I../../include -Wall -Wno-long-long -pedantic -std=c++98 -O2 -DNDEBUG -MT Point.lo -MD -MP -MF .deps/Point.Tpo -c Point.cc -o Point.o >/dev/null 2>&1\n",
            "depbase=`echo Region.lo | sed 's|[^/]*$|.deps/&|;s|\\.lo$||'`;\\\n",
            "/bin/bash ../../libtool  --tag=CXX   --mode=compile g++ -DPACKAGE_NAME=\\\"spatialindex\\\" -DPACKAGE_TARNAME=\\\"spatialindex-src\\\" -DPACKAGE_VERSION=\\\"1.8.5\\\" -DPACKAGE_STRING=\\\"spatialindex\\ 1.8.5\\\" -DPACKAGE_BUGREPORT=\\\"mhadji@gmail.com\\\" -DPACKAGE_URL=\\\"\\\" -DSTDC_HEADERS=1 -DHAVE_SYS_TYPES_H=1 -DHAVE_SYS_STAT_H=1 -DHAVE_STDLIB_H=1 -DHAVE_STRING_H=1 -DHAVE_MEMORY_H=1 -DHAVE_STRINGS_H=1 -DHAVE_INTTYPES_H=1 -DHAVE_STDINT_H=1 -DHAVE_UNISTD_H=1 -DHAVE_DLFCN_H=1 -DLT_OBJDIR=\\\".libs/\\\" -DPACKAGE=\\\"spatialindex-src\\\" -DVERSION=\\\"1.8.5\\\" -DHAVE_FCNTL_H=1 -DHAVE_UNISTD_H=1 -DHAVE_SYS_TYPES_H=1 -DHAVE_SYS_STAT_H=1 -DHAVE_PTHREAD_H=1 -DHAVE_SYS_RESOURCE_H=1 -DHAVE_SYS_TIME_H=1 -DHAVE_STDINT_H=1 -DHAVE_FEATURES_H=1 -DHAVE_GETTIMEOFDAY=1 -DHAVE_MEMSET=1 -DHAVE_MEMCPY=1 -DHAVE_BCOPY=1 -DHAVE_SRAND48=1 -I. -I../../include    -Wall -Wno-long-long -pedantic -std=c++98  -O2 -DNDEBUG -MT Region.lo -MD -MP -MF $depbase.Tpo -c -o Region.lo Region.cc &&\\\n",
            "mv -f $depbase.Tpo $depbase.Plo\n",
            "libtool: compile:  g++ -DPACKAGE_NAME=\\\"spatialindex\\\" -DPACKAGE_TARNAME=\\\"spatialindex-src\\\" -DPACKAGE_VERSION=\\\"1.8.5\\\" \"-DPACKAGE_STRING=\\\"spatialindex 1.8.5\\\"\" -DPACKAGE_BUGREPORT=\\\"mhadji@gmail.com\\\" -DPACKAGE_URL=\\\"\\\" -DSTDC_HEADERS=1 -DHAVE_SYS_TYPES_H=1 -DHAVE_SYS_STAT_H=1 -DHAVE_STDLIB_H=1 -DHAVE_STRING_H=1 -DHAVE_MEMORY_H=1 -DHAVE_STRINGS_H=1 -DHAVE_INTTYPES_H=1 -DHAVE_STDINT_H=1 -DHAVE_UNISTD_H=1 -DHAVE_DLFCN_H=1 -DLT_OBJDIR=\\\".libs/\\\" -DPACKAGE=\\\"spatialindex-src\\\" -DVERSION=\\\"1.8.5\\\" -DHAVE_FCNTL_H=1 -DHAVE_UNISTD_H=1 -DHAVE_SYS_TYPES_H=1 -DHAVE_SYS_STAT_H=1 -DHAVE_PTHREAD_H=1 -DHAVE_SYS_RESOURCE_H=1 -DHAVE_SYS_TIME_H=1 -DHAVE_STDINT_H=1 -DHAVE_FEATURES_H=1 -DHAVE_GETTIMEOFDAY=1 -DHAVE_MEMSET=1 -DHAVE_MEMCPY=1 -DHAVE_BCOPY=1 -DHAVE_SRAND48=1 -I. -I../../include -Wall -Wno-long-long -pedantic -std=c++98 -O2 -DNDEBUG -MT Region.lo -MD -MP -MF .deps/Region.Tpo -c Region.cc  -fPIC -DPIC -o .libs/Region.o\n",
            "libtool: compile:  g++ -DPACKAGE_NAME=\\\"spatialindex\\\" -DPACKAGE_TARNAME=\\\"spatialindex-src\\\" -DPACKAGE_VERSION=\\\"1.8.5\\\" \"-DPACKAGE_STRING=\\\"spatialindex 1.8.5\\\"\" -DPACKAGE_BUGREPORT=\\\"mhadji@gmail.com\\\" -DPACKAGE_URL=\\\"\\\" -DSTDC_HEADERS=1 -DHAVE_SYS_TYPES_H=1 -DHAVE_SYS_STAT_H=1 -DHAVE_STDLIB_H=1 -DHAVE_STRING_H=1 -DHAVE_MEMORY_H=1 -DHAVE_STRINGS_H=1 -DHAVE_INTTYPES_H=1 -DHAVE_STDINT_H=1 -DHAVE_UNISTD_H=1 -DHAVE_DLFCN_H=1 -DLT_OBJDIR=\\\".libs/\\\" -DPACKAGE=\\\"spatialindex-src\\\" -DVERSION=\\\"1.8.5\\\" -DHAVE_FCNTL_H=1 -DHAVE_UNISTD_H=1 -DHAVE_SYS_TYPES_H=1 -DHAVE_SYS_STAT_H=1 -DHAVE_PTHREAD_H=1 -DHAVE_SYS_RESOURCE_H=1 -DHAVE_SYS_TIME_H=1 -DHAVE_STDINT_H=1 -DHAVE_FEATURES_H=1 -DHAVE_GETTIMEOFDAY=1 -DHAVE_MEMSET=1 -DHAVE_MEMCPY=1 -DHAVE_BCOPY=1 -DHAVE_SRAND48=1 -I. -I../../include -Wall -Wno-long-long -pedantic -std=c++98 -O2 -DNDEBUG -MT Region.lo -MD -MP -MF .deps/Region.Tpo -c Region.cc -o Region.o >/dev/null 2>&1\n",
            "depbase=`echo LineSegment.lo | sed 's|[^/]*$|.deps/&|;s|\\.lo$||'`;\\\n",
            "/bin/bash ../../libtool  --tag=CXX   --mode=compile g++ -DPACKAGE_NAME=\\\"spatialindex\\\" -DPACKAGE_TARNAME=\\\"spatialindex-src\\\" -DPACKAGE_VERSION=\\\"1.8.5\\\" -DPACKAGE_STRING=\\\"spatialindex\\ 1.8.5\\\" -DPACKAGE_BUGREPORT=\\\"mhadji@gmail.com\\\" -DPACKAGE_URL=\\\"\\\" -DSTDC_HEADERS=1 -DHAVE_SYS_TYPES_H=1 -DHAVE_SYS_STAT_H=1 -DHAVE_STDLIB_H=1 -DHAVE_STRING_H=1 -DHAVE_MEMORY_H=1 -DHAVE_STRINGS_H=1 -DHAVE_INTTYPES_H=1 -DHAVE_STDINT_H=1 -DHAVE_UNISTD_H=1 -DHAVE_DLFCN_H=1 -DLT_OBJDIR=\\\".libs/\\\" -DPACKAGE=\\\"spatialindex-src\\\" -DVERSION=\\\"1.8.5\\\" -DHAVE_FCNTL_H=1 -DHAVE_UNISTD_H=1 -DHAVE_SYS_TYPES_H=1 -DHAVE_SYS_STAT_H=1 -DHAVE_PTHREAD_H=1 -DHAVE_SYS_RESOURCE_H=1 -DHAVE_SYS_TIME_H=1 -DHAVE_STDINT_H=1 -DHAVE_FEATURES_H=1 -DHAVE_GETTIMEOFDAY=1 -DHAVE_MEMSET=1 -DHAVE_MEMCPY=1 -DHAVE_BCOPY=1 -DHAVE_SRAND48=1 -I. -I../../include    -Wall -Wno-long-long -pedantic -std=c++98  -O2 -DNDEBUG -MT LineSegment.lo -MD -MP -MF $depbase.Tpo -c -o LineSegment.lo LineSegment.cc &&\\\n",
            "mv -f $depbase.Tpo $depbase.Plo\n",
            "libtool: compile:  g++ -DPACKAGE_NAME=\\\"spatialindex\\\" -DPACKAGE_TARNAME=\\\"spatialindex-src\\\" -DPACKAGE_VERSION=\\\"1.8.5\\\" \"-DPACKAGE_STRING=\\\"spatialindex 1.8.5\\\"\" -DPACKAGE_BUGREPORT=\\\"mhadji@gmail.com\\\" -DPACKAGE_URL=\\\"\\\" -DSTDC_HEADERS=1 -DHAVE_SYS_TYPES_H=1 -DHAVE_SYS_STAT_H=1 -DHAVE_STDLIB_H=1 -DHAVE_STRING_H=1 -DHAVE_MEMORY_H=1 -DHAVE_STRINGS_H=1 -DHAVE_INTTYPES_H=1 -DHAVE_STDINT_H=1 -DHAVE_UNISTD_H=1 -DHAVE_DLFCN_H=1 -DLT_OBJDIR=\\\".libs/\\\" -DPACKAGE=\\\"spatialindex-src\\\" -DVERSION=\\\"1.8.5\\\" -DHAVE_FCNTL_H=1 -DHAVE_UNISTD_H=1 -DHAVE_SYS_TYPES_H=1 -DHAVE_SYS_STAT_H=1 -DHAVE_PTHREAD_H=1 -DHAVE_SYS_RESOURCE_H=1 -DHAVE_SYS_TIME_H=1 -DHAVE_STDINT_H=1 -DHAVE_FEATURES_H=1 -DHAVE_GETTIMEOFDAY=1 -DHAVE_MEMSET=1 -DHAVE_MEMCPY=1 -DHAVE_BCOPY=1 -DHAVE_SRAND48=1 -I. -I../../include -Wall -Wno-long-long -pedantic -std=c++98 -O2 -DNDEBUG -MT LineSegment.lo -MD -MP -MF .deps/LineSegment.Tpo -c LineSegment.cc  -fPIC -DPIC -o .libs/LineSegment.o\n",
            "libtool: compile:  g++ -DPACKAGE_NAME=\\\"spatialindex\\\" -DPACKAGE_TARNAME=\\\"spatialindex-src\\\" -DPACKAGE_VERSION=\\\"1.8.5\\\" \"-DPACKAGE_STRING=\\\"spatialindex 1.8.5\\\"\" -DPACKAGE_BUGREPORT=\\\"mhadji@gmail.com\\\" -DPACKAGE_URL=\\\"\\\" -DSTDC_HEADERS=1 -DHAVE_SYS_TYPES_H=1 -DHAVE_SYS_STAT_H=1 -DHAVE_STDLIB_H=1 -DHAVE_STRING_H=1 -DHAVE_MEMORY_H=1 -DHAVE_STRINGS_H=1 -DHAVE_INTTYPES_H=1 -DHAVE_STDINT_H=1 -DHAVE_UNISTD_H=1 -DHAVE_DLFCN_H=1 -DLT_OBJDIR=\\\".libs/\\\" -DPACKAGE=\\\"spatialindex-src\\\" -DVERSION=\\\"1.8.5\\\" -DHAVE_FCNTL_H=1 -DHAVE_UNISTD_H=1 -DHAVE_SYS_TYPES_H=1 -DHAVE_SYS_STAT_H=1 -DHAVE_PTHREAD_H=1 -DHAVE_SYS_RESOURCE_H=1 -DHAVE_SYS_TIME_H=1 -DHAVE_STDINT_H=1 -DHAVE_FEATURES_H=1 -DHAVE_GETTIMEOFDAY=1 -DHAVE_MEMSET=1 -DHAVE_MEMCPY=1 -DHAVE_BCOPY=1 -DHAVE_SRAND48=1 -I. -I../../include -Wall -Wno-long-long -pedantic -std=c++98 -O2 -DNDEBUG -MT LineSegment.lo -MD -MP -MF .deps/LineSegment.Tpo -c LineSegment.cc -o LineSegment.o >/dev/null 2>&1\n",
            "depbase=`echo MovingPoint.lo | sed 's|[^/]*$|.deps/&|;s|\\.lo$||'`;\\\n",
            "/bin/bash ../../libtool  --tag=CXX   --mode=compile g++ -DPACKAGE_NAME=\\\"spatialindex\\\" -DPACKAGE_TARNAME=\\\"spatialindex-src\\\" -DPACKAGE_VERSION=\\\"1.8.5\\\" -DPACKAGE_STRING=\\\"spatialindex\\ 1.8.5\\\" -DPACKAGE_BUGREPORT=\\\"mhadji@gmail.com\\\" -DPACKAGE_URL=\\\"\\\" -DSTDC_HEADERS=1 -DHAVE_SYS_TYPES_H=1 -DHAVE_SYS_STAT_H=1 -DHAVE_STDLIB_H=1 -DHAVE_STRING_H=1 -DHAVE_MEMORY_H=1 -DHAVE_STRINGS_H=1 -DHAVE_INTTYPES_H=1 -DHAVE_STDINT_H=1 -DHAVE_UNISTD_H=1 -DHAVE_DLFCN_H=1 -DLT_OBJDIR=\\\".libs/\\\" -DPACKAGE=\\\"spatialindex-src\\\" -DVERSION=\\\"1.8.5\\\" -DHAVE_FCNTL_H=1 -DHAVE_UNISTD_H=1 -DHAVE_SYS_TYPES_H=1 -DHAVE_SYS_STAT_H=1 -DHAVE_PTHREAD_H=1 -DHAVE_SYS_RESOURCE_H=1 -DHAVE_SYS_TIME_H=1 -DHAVE_STDINT_H=1 -DHAVE_FEATURES_H=1 -DHAVE_GETTIMEOFDAY=1 -DHAVE_MEMSET=1 -DHAVE_MEMCPY=1 -DHAVE_BCOPY=1 -DHAVE_SRAND48=1 -I. -I../../include    -Wall -Wno-long-long -pedantic -std=c++98  -O2 -DNDEBUG -MT MovingPoint.lo -MD -MP -MF $depbase.Tpo -c -o MovingPoint.lo MovingPoint.cc &&\\\n",
            "mv -f $depbase.Tpo $depbase.Plo\n",
            "libtool: compile:  g++ -DPACKAGE_NAME=\\\"spatialindex\\\" -DPACKAGE_TARNAME=\\\"spatialindex-src\\\" -DPACKAGE_VERSION=\\\"1.8.5\\\" \"-DPACKAGE_STRING=\\\"spatialindex 1.8.5\\\"\" -DPACKAGE_BUGREPORT=\\\"mhadji@gmail.com\\\" -DPACKAGE_URL=\\\"\\\" -DSTDC_HEADERS=1 -DHAVE_SYS_TYPES_H=1 -DHAVE_SYS_STAT_H=1 -DHAVE_STDLIB_H=1 -DHAVE_STRING_H=1 -DHAVE_MEMORY_H=1 -DHAVE_STRINGS_H=1 -DHAVE_INTTYPES_H=1 -DHAVE_STDINT_H=1 -DHAVE_UNISTD_H=1 -DHAVE_DLFCN_H=1 -DLT_OBJDIR=\\\".libs/\\\" -DPACKAGE=\\\"spatialindex-src\\\" -DVERSION=\\\"1.8.5\\\" -DHAVE_FCNTL_H=1 -DHAVE_UNISTD_H=1 -DHAVE_SYS_TYPES_H=1 -DHAVE_SYS_STAT_H=1 -DHAVE_PTHREAD_H=1 -DHAVE_SYS_RESOURCE_H=1 -DHAVE_SYS_TIME_H=1 -DHAVE_STDINT_H=1 -DHAVE_FEATURES_H=1 -DHAVE_GETTIMEOFDAY=1 -DHAVE_MEMSET=1 -DHAVE_MEMCPY=1 -DHAVE_BCOPY=1 -DHAVE_SRAND48=1 -I. -I../../include -Wall -Wno-long-long -pedantic -std=c++98 -O2 -DNDEBUG -MT MovingPoint.lo -MD -MP -MF .deps/MovingPoint.Tpo -c MovingPoint.cc  -fPIC -DPIC -o .libs/MovingPoint.o\n",
            "libtool: compile:  g++ -DPACKAGE_NAME=\\\"spatialindex\\\" -DPACKAGE_TARNAME=\\\"spatialindex-src\\\" -DPACKAGE_VERSION=\\\"1.8.5\\\" \"-DPACKAGE_STRING=\\\"spatialindex 1.8.5\\\"\" -DPACKAGE_BUGREPORT=\\\"mhadji@gmail.com\\\" -DPACKAGE_URL=\\\"\\\" -DSTDC_HEADERS=1 -DHAVE_SYS_TYPES_H=1 -DHAVE_SYS_STAT_H=1 -DHAVE_STDLIB_H=1 -DHAVE_STRING_H=1 -DHAVE_MEMORY_H=1 -DHAVE_STRINGS_H=1 -DHAVE_INTTYPES_H=1 -DHAVE_STDINT_H=1 -DHAVE_UNISTD_H=1 -DHAVE_DLFCN_H=1 -DLT_OBJDIR=\\\".libs/\\\" -DPACKAGE=\\\"spatialindex-src\\\" -DVERSION=\\\"1.8.5\\\" -DHAVE_FCNTL_H=1 -DHAVE_UNISTD_H=1 -DHAVE_SYS_TYPES_H=1 -DHAVE_SYS_STAT_H=1 -DHAVE_PTHREAD_H=1 -DHAVE_SYS_RESOURCE_H=1 -DHAVE_SYS_TIME_H=1 -DHAVE_STDINT_H=1 -DHAVE_FEATURES_H=1 -DHAVE_GETTIMEOFDAY=1 -DHAVE_MEMSET=1 -DHAVE_MEMCPY=1 -DHAVE_BCOPY=1 -DHAVE_SRAND48=1 -I. -I../../include -Wall -Wno-long-long -pedantic -std=c++98 -O2 -DNDEBUG -MT MovingPoint.lo -MD -MP -MF .deps/MovingPoint.Tpo -c MovingPoint.cc -o MovingPoint.o >/dev/null 2>&1\n",
            "depbase=`echo MovingRegion.lo | sed 's|[^/]*$|.deps/&|;s|\\.lo$||'`;\\\n",
            "/bin/bash ../../libtool  --tag=CXX   --mode=compile g++ -DPACKAGE_NAME=\\\"spatialindex\\\" -DPACKAGE_TARNAME=\\\"spatialindex-src\\\" -DPACKAGE_VERSION=\\\"1.8.5\\\" -DPACKAGE_STRING=\\\"spatialindex\\ 1.8.5\\\" -DPACKAGE_BUGREPORT=\\\"mhadji@gmail.com\\\" -DPACKAGE_URL=\\\"\\\" -DSTDC_HEADERS=1 -DHAVE_SYS_TYPES_H=1 -DHAVE_SYS_STAT_H=1 -DHAVE_STDLIB_H=1 -DHAVE_STRING_H=1 -DHAVE_MEMORY_H=1 -DHAVE_STRINGS_H=1 -DHAVE_INTTYPES_H=1 -DHAVE_STDINT_H=1 -DHAVE_UNISTD_H=1 -DHAVE_DLFCN_H=1 -DLT_OBJDIR=\\\".libs/\\\" -DPACKAGE=\\\"spatialindex-src\\\" -DVERSION=\\\"1.8.5\\\" -DHAVE_FCNTL_H=1 -DHAVE_UNISTD_H=1 -DHAVE_SYS_TYPES_H=1 -DHAVE_SYS_STAT_H=1 -DHAVE_PTHREAD_H=1 -DHAVE_SYS_RESOURCE_H=1 -DHAVE_SYS_TIME_H=1 -DHAVE_STDINT_H=1 -DHAVE_FEATURES_H=1 -DHAVE_GETTIMEOFDAY=1 -DHAVE_MEMSET=1 -DHAVE_MEMCPY=1 -DHAVE_BCOPY=1 -DHAVE_SRAND48=1 -I. -I../../include    -Wall -Wno-long-long -pedantic -std=c++98  -O2 -DNDEBUG -MT MovingRegion.lo -MD -MP -MF $depbase.Tpo -c -o MovingRegion.lo MovingRegion.cc &&\\\n",
            "mv -f $depbase.Tpo $depbase.Plo\n",
            "libtool: compile:  g++ -DPACKAGE_NAME=\\\"spatialindex\\\" -DPACKAGE_TARNAME=\\\"spatialindex-src\\\" -DPACKAGE_VERSION=\\\"1.8.5\\\" \"-DPACKAGE_STRING=\\\"spatialindex 1.8.5\\\"\" -DPACKAGE_BUGREPORT=\\\"mhadji@gmail.com\\\" -DPACKAGE_URL=\\\"\\\" -DSTDC_HEADERS=1 -DHAVE_SYS_TYPES_H=1 -DHAVE_SYS_STAT_H=1 -DHAVE_STDLIB_H=1 -DHAVE_STRING_H=1 -DHAVE_MEMORY_H=1 -DHAVE_STRINGS_H=1 -DHAVE_INTTYPES_H=1 -DHAVE_STDINT_H=1 -DHAVE_UNISTD_H=1 -DHAVE_DLFCN_H=1 -DLT_OBJDIR=\\\".libs/\\\" -DPACKAGE=\\\"spatialindex-src\\\" -DVERSION=\\\"1.8.5\\\" -DHAVE_FCNTL_H=1 -DHAVE_UNISTD_H=1 -DHAVE_SYS_TYPES_H=1 -DHAVE_SYS_STAT_H=1 -DHAVE_PTHREAD_H=1 -DHAVE_SYS_RESOURCE_H=1 -DHAVE_SYS_TIME_H=1 -DHAVE_STDINT_H=1 -DHAVE_FEATURES_H=1 -DHAVE_GETTIMEOFDAY=1 -DHAVE_MEMSET=1 -DHAVE_MEMCPY=1 -DHAVE_BCOPY=1 -DHAVE_SRAND48=1 -I. -I../../include -Wall -Wno-long-long -pedantic -std=c++98 -O2 -DNDEBUG -MT MovingRegion.lo -MD -MP -MF .deps/MovingRegion.Tpo -c MovingRegion.cc  -fPIC -DPIC -o .libs/MovingRegion.o\n",
            "libtool: compile:  g++ -DPACKAGE_NAME=\\\"spatialindex\\\" -DPACKAGE_TARNAME=\\\"spatialindex-src\\\" -DPACKAGE_VERSION=\\\"1.8.5\\\" \"-DPACKAGE_STRING=\\\"spatialindex 1.8.5\\\"\" -DPACKAGE_BUGREPORT=\\\"mhadji@gmail.com\\\" -DPACKAGE_URL=\\\"\\\" -DSTDC_HEADERS=1 -DHAVE_SYS_TYPES_H=1 -DHAVE_SYS_STAT_H=1 -DHAVE_STDLIB_H=1 -DHAVE_STRING_H=1 -DHAVE_MEMORY_H=1 -DHAVE_STRINGS_H=1 -DHAVE_INTTYPES_H=1 -DHAVE_STDINT_H=1 -DHAVE_UNISTD_H=1 -DHAVE_DLFCN_H=1 -DLT_OBJDIR=\\\".libs/\\\" -DPACKAGE=\\\"spatialindex-src\\\" -DVERSION=\\\"1.8.5\\\" -DHAVE_FCNTL_H=1 -DHAVE_UNISTD_H=1 -DHAVE_SYS_TYPES_H=1 -DHAVE_SYS_STAT_H=1 -DHAVE_PTHREAD_H=1 -DHAVE_SYS_RESOURCE_H=1 -DHAVE_SYS_TIME_H=1 -DHAVE_STDINT_H=1 -DHAVE_FEATURES_H=1 -DHAVE_GETTIMEOFDAY=1 -DHAVE_MEMSET=1 -DHAVE_MEMCPY=1 -DHAVE_BCOPY=1 -DHAVE_SRAND48=1 -I. -I../../include -Wall -Wno-long-long -pedantic -std=c++98 -O2 -DNDEBUG -MT MovingRegion.lo -MD -MP -MF .deps/MovingRegion.Tpo -c MovingRegion.cc -o MovingRegion.o >/dev/null 2>&1\n",
            "depbase=`echo TimePoint.lo | sed 's|[^/]*$|.deps/&|;s|\\.lo$||'`;\\\n",
            "/bin/bash ../../libtool  --tag=CXX   --mode=compile g++ -DPACKAGE_NAME=\\\"spatialindex\\\" -DPACKAGE_TARNAME=\\\"spatialindex-src\\\" -DPACKAGE_VERSION=\\\"1.8.5\\\" -DPACKAGE_STRING=\\\"spatialindex\\ 1.8.5\\\" -DPACKAGE_BUGREPORT=\\\"mhadji@gmail.com\\\" -DPACKAGE_URL=\\\"\\\" -DSTDC_HEADERS=1 -DHAVE_SYS_TYPES_H=1 -DHAVE_SYS_STAT_H=1 -DHAVE_STDLIB_H=1 -DHAVE_STRING_H=1 -DHAVE_MEMORY_H=1 -DHAVE_STRINGS_H=1 -DHAVE_INTTYPES_H=1 -DHAVE_STDINT_H=1 -DHAVE_UNISTD_H=1 -DHAVE_DLFCN_H=1 -DLT_OBJDIR=\\\".libs/\\\" -DPACKAGE=\\\"spatialindex-src\\\" -DVERSION=\\\"1.8.5\\\" -DHAVE_FCNTL_H=1 -DHAVE_UNISTD_H=1 -DHAVE_SYS_TYPES_H=1 -DHAVE_SYS_STAT_H=1 -DHAVE_PTHREAD_H=1 -DHAVE_SYS_RESOURCE_H=1 -DHAVE_SYS_TIME_H=1 -DHAVE_STDINT_H=1 -DHAVE_FEATURES_H=1 -DHAVE_GETTIMEOFDAY=1 -DHAVE_MEMSET=1 -DHAVE_MEMCPY=1 -DHAVE_BCOPY=1 -DHAVE_SRAND48=1 -I. -I../../include    -Wall -Wno-long-long -pedantic -std=c++98  -O2 -DNDEBUG -MT TimePoint.lo -MD -MP -MF $depbase.Tpo -c -o TimePoint.lo TimePoint.cc &&\\\n",
            "mv -f $depbase.Tpo $depbase.Plo\n",
            "libtool: compile:  g++ -DPACKAGE_NAME=\\\"spatialindex\\\" -DPACKAGE_TARNAME=\\\"spatialindex-src\\\" -DPACKAGE_VERSION=\\\"1.8.5\\\" \"-DPACKAGE_STRING=\\\"spatialindex 1.8.5\\\"\" -DPACKAGE_BUGREPORT=\\\"mhadji@gmail.com\\\" -DPACKAGE_URL=\\\"\\\" -DSTDC_HEADERS=1 -DHAVE_SYS_TYPES_H=1 -DHAVE_SYS_STAT_H=1 -DHAVE_STDLIB_H=1 -DHAVE_STRING_H=1 -DHAVE_MEMORY_H=1 -DHAVE_STRINGS_H=1 -DHAVE_INTTYPES_H=1 -DHAVE_STDINT_H=1 -DHAVE_UNISTD_H=1 -DHAVE_DLFCN_H=1 -DLT_OBJDIR=\\\".libs/\\\" -DPACKAGE=\\\"spatialindex-src\\\" -DVERSION=\\\"1.8.5\\\" -DHAVE_FCNTL_H=1 -DHAVE_UNISTD_H=1 -DHAVE_SYS_TYPES_H=1 -DHAVE_SYS_STAT_H=1 -DHAVE_PTHREAD_H=1 -DHAVE_SYS_RESOURCE_H=1 -DHAVE_SYS_TIME_H=1 -DHAVE_STDINT_H=1 -DHAVE_FEATURES_H=1 -DHAVE_GETTIMEOFDAY=1 -DHAVE_MEMSET=1 -DHAVE_MEMCPY=1 -DHAVE_BCOPY=1 -DHAVE_SRAND48=1 -I. -I../../include -Wall -Wno-long-long -pedantic -std=c++98 -O2 -DNDEBUG -MT TimePoint.lo -MD -MP -MF .deps/TimePoint.Tpo -c TimePoint.cc  -fPIC -DPIC -o .libs/TimePoint.o\n",
            "libtool: compile:  g++ -DPACKAGE_NAME=\\\"spatialindex\\\" -DPACKAGE_TARNAME=\\\"spatialindex-src\\\" -DPACKAGE_VERSION=\\\"1.8.5\\\" \"-DPACKAGE_STRING=\\\"spatialindex 1.8.5\\\"\" -DPACKAGE_BUGREPORT=\\\"mhadji@gmail.com\\\" -DPACKAGE_URL=\\\"\\\" -DSTDC_HEADERS=1 -DHAVE_SYS_TYPES_H=1 -DHAVE_SYS_STAT_H=1 -DHAVE_STDLIB_H=1 -DHAVE_STRING_H=1 -DHAVE_MEMORY_H=1 -DHAVE_STRINGS_H=1 -DHAVE_INTTYPES_H=1 -DHAVE_STDINT_H=1 -DHAVE_UNISTD_H=1 -DHAVE_DLFCN_H=1 -DLT_OBJDIR=\\\".libs/\\\" -DPACKAGE=\\\"spatialindex-src\\\" -DVERSION=\\\"1.8.5\\\" -DHAVE_FCNTL_H=1 -DHAVE_UNISTD_H=1 -DHAVE_SYS_TYPES_H=1 -DHAVE_SYS_STAT_H=1 -DHAVE_PTHREAD_H=1 -DHAVE_SYS_RESOURCE_H=1 -DHAVE_SYS_TIME_H=1 -DHAVE_STDINT_H=1 -DHAVE_FEATURES_H=1 -DHAVE_GETTIMEOFDAY=1 -DHAVE_MEMSET=1 -DHAVE_MEMCPY=1 -DHAVE_BCOPY=1 -DHAVE_SRAND48=1 -I. -I../../include -Wall -Wno-long-long -pedantic -std=c++98 -O2 -DNDEBUG -MT TimePoint.lo -MD -MP -MF .deps/TimePoint.Tpo -c TimePoint.cc -o TimePoint.o >/dev/null 2>&1\n",
            "depbase=`echo TimeRegion.lo | sed 's|[^/]*$|.deps/&|;s|\\.lo$||'`;\\\n",
            "/bin/bash ../../libtool  --tag=CXX   --mode=compile g++ -DPACKAGE_NAME=\\\"spatialindex\\\" -DPACKAGE_TARNAME=\\\"spatialindex-src\\\" -DPACKAGE_VERSION=\\\"1.8.5\\\" -DPACKAGE_STRING=\\\"spatialindex\\ 1.8.5\\\" -DPACKAGE_BUGREPORT=\\\"mhadji@gmail.com\\\" -DPACKAGE_URL=\\\"\\\" -DSTDC_HEADERS=1 -DHAVE_SYS_TYPES_H=1 -DHAVE_SYS_STAT_H=1 -DHAVE_STDLIB_H=1 -DHAVE_STRING_H=1 -DHAVE_MEMORY_H=1 -DHAVE_STRINGS_H=1 -DHAVE_INTTYPES_H=1 -DHAVE_STDINT_H=1 -DHAVE_UNISTD_H=1 -DHAVE_DLFCN_H=1 -DLT_OBJDIR=\\\".libs/\\\" -DPACKAGE=\\\"spatialindex-src\\\" -DVERSION=\\\"1.8.5\\\" -DHAVE_FCNTL_H=1 -DHAVE_UNISTD_H=1 -DHAVE_SYS_TYPES_H=1 -DHAVE_SYS_STAT_H=1 -DHAVE_PTHREAD_H=1 -DHAVE_SYS_RESOURCE_H=1 -DHAVE_SYS_TIME_H=1 -DHAVE_STDINT_H=1 -DHAVE_FEATURES_H=1 -DHAVE_GETTIMEOFDAY=1 -DHAVE_MEMSET=1 -DHAVE_MEMCPY=1 -DHAVE_BCOPY=1 -DHAVE_SRAND48=1 -I. -I../../include    -Wall -Wno-long-long -pedantic -std=c++98  -O2 -DNDEBUG -MT TimeRegion.lo -MD -MP -MF $depbase.Tpo -c -o TimeRegion.lo TimeRegion.cc &&\\\n",
            "mv -f $depbase.Tpo $depbase.Plo\n",
            "libtool: compile:  g++ -DPACKAGE_NAME=\\\"spatialindex\\\" -DPACKAGE_TARNAME=\\\"spatialindex-src\\\" -DPACKAGE_VERSION=\\\"1.8.5\\\" \"-DPACKAGE_STRING=\\\"spatialindex 1.8.5\\\"\" -DPACKAGE_BUGREPORT=\\\"mhadji@gmail.com\\\" -DPACKAGE_URL=\\\"\\\" -DSTDC_HEADERS=1 -DHAVE_SYS_TYPES_H=1 -DHAVE_SYS_STAT_H=1 -DHAVE_STDLIB_H=1 -DHAVE_STRING_H=1 -DHAVE_MEMORY_H=1 -DHAVE_STRINGS_H=1 -DHAVE_INTTYPES_H=1 -DHAVE_STDINT_H=1 -DHAVE_UNISTD_H=1 -DHAVE_DLFCN_H=1 -DLT_OBJDIR=\\\".libs/\\\" -DPACKAGE=\\\"spatialindex-src\\\" -DVERSION=\\\"1.8.5\\\" -DHAVE_FCNTL_H=1 -DHAVE_UNISTD_H=1 -DHAVE_SYS_TYPES_H=1 -DHAVE_SYS_STAT_H=1 -DHAVE_PTHREAD_H=1 -DHAVE_SYS_RESOURCE_H=1 -DHAVE_SYS_TIME_H=1 -DHAVE_STDINT_H=1 -DHAVE_FEATURES_H=1 -DHAVE_GETTIMEOFDAY=1 -DHAVE_MEMSET=1 -DHAVE_MEMCPY=1 -DHAVE_BCOPY=1 -DHAVE_SRAND48=1 -I. -I../../include -Wall -Wno-long-long -pedantic -std=c++98 -O2 -DNDEBUG -MT TimeRegion.lo -MD -MP -MF .deps/TimeRegion.Tpo -c TimeRegion.cc  -fPIC -DPIC -o .libs/TimeRegion.o\n",
            "libtool: compile:  g++ -DPACKAGE_NAME=\\\"spatialindex\\\" -DPACKAGE_TARNAME=\\\"spatialindex-src\\\" -DPACKAGE_VERSION=\\\"1.8.5\\\" \"-DPACKAGE_STRING=\\\"spatialindex 1.8.5\\\"\" -DPACKAGE_BUGREPORT=\\\"mhadji@gmail.com\\\" -DPACKAGE_URL=\\\"\\\" -DSTDC_HEADERS=1 -DHAVE_SYS_TYPES_H=1 -DHAVE_SYS_STAT_H=1 -DHAVE_STDLIB_H=1 -DHAVE_STRING_H=1 -DHAVE_MEMORY_H=1 -DHAVE_STRINGS_H=1 -DHAVE_INTTYPES_H=1 -DHAVE_STDINT_H=1 -DHAVE_UNISTD_H=1 -DHAVE_DLFCN_H=1 -DLT_OBJDIR=\\\".libs/\\\" -DPACKAGE=\\\"spatialindex-src\\\" -DVERSION=\\\"1.8.5\\\" -DHAVE_FCNTL_H=1 -DHAVE_UNISTD_H=1 -DHAVE_SYS_TYPES_H=1 -DHAVE_SYS_STAT_H=1 -DHAVE_PTHREAD_H=1 -DHAVE_SYS_RESOURCE_H=1 -DHAVE_SYS_TIME_H=1 -DHAVE_STDINT_H=1 -DHAVE_FEATURES_H=1 -DHAVE_GETTIMEOFDAY=1 -DHAVE_MEMSET=1 -DHAVE_MEMCPY=1 -DHAVE_BCOPY=1 -DHAVE_SRAND48=1 -I. -I../../include -Wall -Wno-long-long -pedantic -std=c++98 -O2 -DNDEBUG -MT TimeRegion.lo -MD -MP -MF .deps/TimeRegion.Tpo -c TimeRegion.cc -o TimeRegion.o >/dev/null 2>&1\n",
            "depbase=`echo SpatialIndexImpl.lo | sed 's|[^/]*$|.deps/&|;s|\\.lo$||'`;\\\n",
            "/bin/bash ../../libtool  --tag=CXX   --mode=compile g++ -DPACKAGE_NAME=\\\"spatialindex\\\" -DPACKAGE_TARNAME=\\\"spatialindex-src\\\" -DPACKAGE_VERSION=\\\"1.8.5\\\" -DPACKAGE_STRING=\\\"spatialindex\\ 1.8.5\\\" -DPACKAGE_BUGREPORT=\\\"mhadji@gmail.com\\\" -DPACKAGE_URL=\\\"\\\" -DSTDC_HEADERS=1 -DHAVE_SYS_TYPES_H=1 -DHAVE_SYS_STAT_H=1 -DHAVE_STDLIB_H=1 -DHAVE_STRING_H=1 -DHAVE_MEMORY_H=1 -DHAVE_STRINGS_H=1 -DHAVE_INTTYPES_H=1 -DHAVE_STDINT_H=1 -DHAVE_UNISTD_H=1 -DHAVE_DLFCN_H=1 -DLT_OBJDIR=\\\".libs/\\\" -DPACKAGE=\\\"spatialindex-src\\\" -DVERSION=\\\"1.8.5\\\" -DHAVE_FCNTL_H=1 -DHAVE_UNISTD_H=1 -DHAVE_SYS_TYPES_H=1 -DHAVE_SYS_STAT_H=1 -DHAVE_PTHREAD_H=1 -DHAVE_SYS_RESOURCE_H=1 -DHAVE_SYS_TIME_H=1 -DHAVE_STDINT_H=1 -DHAVE_FEATURES_H=1 -DHAVE_GETTIMEOFDAY=1 -DHAVE_MEMSET=1 -DHAVE_MEMCPY=1 -DHAVE_BCOPY=1 -DHAVE_SRAND48=1 -I. -I../../include    -Wall -Wno-long-long -pedantic -std=c++98  -O2 -DNDEBUG -MT SpatialIndexImpl.lo -MD -MP -MF $depbase.Tpo -c -o SpatialIndexImpl.lo SpatialIndexImpl.cc &&\\\n",
            "mv -f $depbase.Tpo $depbase.Plo\n",
            "libtool: compile:  g++ -DPACKAGE_NAME=\\\"spatialindex\\\" -DPACKAGE_TARNAME=\\\"spatialindex-src\\\" -DPACKAGE_VERSION=\\\"1.8.5\\\" \"-DPACKAGE_STRING=\\\"spatialindex 1.8.5\\\"\" -DPACKAGE_BUGREPORT=\\\"mhadji@gmail.com\\\" -DPACKAGE_URL=\\\"\\\" -DSTDC_HEADERS=1 -DHAVE_SYS_TYPES_H=1 -DHAVE_SYS_STAT_H=1 -DHAVE_STDLIB_H=1 -DHAVE_STRING_H=1 -DHAVE_MEMORY_H=1 -DHAVE_STRINGS_H=1 -DHAVE_INTTYPES_H=1 -DHAVE_STDINT_H=1 -DHAVE_UNISTD_H=1 -DHAVE_DLFCN_H=1 -DLT_OBJDIR=\\\".libs/\\\" -DPACKAGE=\\\"spatialindex-src\\\" -DVERSION=\\\"1.8.5\\\" -DHAVE_FCNTL_H=1 -DHAVE_UNISTD_H=1 -DHAVE_SYS_TYPES_H=1 -DHAVE_SYS_STAT_H=1 -DHAVE_PTHREAD_H=1 -DHAVE_SYS_RESOURCE_H=1 -DHAVE_SYS_TIME_H=1 -DHAVE_STDINT_H=1 -DHAVE_FEATURES_H=1 -DHAVE_GETTIMEOFDAY=1 -DHAVE_MEMSET=1 -DHAVE_MEMCPY=1 -DHAVE_BCOPY=1 -DHAVE_SRAND48=1 -I. -I../../include -Wall -Wno-long-long -pedantic -std=c++98 -O2 -DNDEBUG -MT SpatialIndexImpl.lo -MD -MP -MF .deps/SpatialIndexImpl.Tpo -c SpatialIndexImpl.cc  -fPIC -DPIC -o .libs/SpatialIndexImpl.o\n",
            "libtool: compile:  g++ -DPACKAGE_NAME=\\\"spatialindex\\\" -DPACKAGE_TARNAME=\\\"spatialindex-src\\\" -DPACKAGE_VERSION=\\\"1.8.5\\\" \"-DPACKAGE_STRING=\\\"spatialindex 1.8.5\\\"\" -DPACKAGE_BUGREPORT=\\\"mhadji@gmail.com\\\" -DPACKAGE_URL=\\\"\\\" -DSTDC_HEADERS=1 -DHAVE_SYS_TYPES_H=1 -DHAVE_SYS_STAT_H=1 -DHAVE_STDLIB_H=1 -DHAVE_STRING_H=1 -DHAVE_MEMORY_H=1 -DHAVE_STRINGS_H=1 -DHAVE_INTTYPES_H=1 -DHAVE_STDINT_H=1 -DHAVE_UNISTD_H=1 -DHAVE_DLFCN_H=1 -DLT_OBJDIR=\\\".libs/\\\" -DPACKAGE=\\\"spatialindex-src\\\" -DVERSION=\\\"1.8.5\\\" -DHAVE_FCNTL_H=1 -DHAVE_UNISTD_H=1 -DHAVE_SYS_TYPES_H=1 -DHAVE_SYS_STAT_H=1 -DHAVE_PTHREAD_H=1 -DHAVE_SYS_RESOURCE_H=1 -DHAVE_SYS_TIME_H=1 -DHAVE_STDINT_H=1 -DHAVE_FEATURES_H=1 -DHAVE_GETTIMEOFDAY=1 -DHAVE_MEMSET=1 -DHAVE_MEMCPY=1 -DHAVE_BCOPY=1 -DHAVE_SRAND48=1 -I. -I../../include -Wall -Wno-long-long -pedantic -std=c++98 -O2 -DNDEBUG -MT SpatialIndexImpl.lo -MD -MP -MF .deps/SpatialIndexImpl.Tpo -c SpatialIndexImpl.cc -o SpatialIndexImpl.o >/dev/null 2>&1\n",
            "/bin/bash ../../libtool  --tag=CXX   --mode=link g++  -Wall -Wno-long-long -pedantic -std=c++98  -O2 -DNDEBUG   -o liblibrary.la  Point.lo Region.lo LineSegment.lo MovingPoint.lo MovingRegion.lo TimePoint.lo TimeRegion.lo SpatialIndexImpl.lo  -lpthread\n",
            "libtool: link: ar cru .libs/liblibrary.a .libs/Point.o .libs/Region.o .libs/LineSegment.o .libs/MovingPoint.o .libs/MovingRegion.o .libs/TimePoint.o .libs/TimeRegion.o .libs/SpatialIndexImpl.o \n",
            "ar: `u' modifier ignored since `D' is the default (see `U')\n",
            "libtool: link: ranlib .libs/liblibrary.a\n",
            "libtool: link: ( cd \".libs\" && rm -f \"liblibrary.la\" && ln -s \"../liblibrary.la\" \"liblibrary.la\" )\n",
            "make[2]: Leaving directory '/content/spatialindex-src-1.8.5/src/spatialindex'\n",
            "Making all in rtree\n",
            "make[2]: Entering directory '/content/spatialindex-src-1.8.5/src/rtree'\n",
            "depbase=`echo BulkLoader.lo | sed 's|[^/]*$|.deps/&|;s|\\.lo$||'`;\\\n",
            "/bin/bash ../../libtool  --tag=CXX   --mode=compile g++ -DPACKAGE_NAME=\\\"spatialindex\\\" -DPACKAGE_TARNAME=\\\"spatialindex-src\\\" -DPACKAGE_VERSION=\\\"1.8.5\\\" -DPACKAGE_STRING=\\\"spatialindex\\ 1.8.5\\\" -DPACKAGE_BUGREPORT=\\\"mhadji@gmail.com\\\" -DPACKAGE_URL=\\\"\\\" -DSTDC_HEADERS=1 -DHAVE_SYS_TYPES_H=1 -DHAVE_SYS_STAT_H=1 -DHAVE_STDLIB_H=1 -DHAVE_STRING_H=1 -DHAVE_MEMORY_H=1 -DHAVE_STRINGS_H=1 -DHAVE_INTTYPES_H=1 -DHAVE_STDINT_H=1 -DHAVE_UNISTD_H=1 -DHAVE_DLFCN_H=1 -DLT_OBJDIR=\\\".libs/\\\" -DPACKAGE=\\\"spatialindex-src\\\" -DVERSION=\\\"1.8.5\\\" -DHAVE_FCNTL_H=1 -DHAVE_UNISTD_H=1 -DHAVE_SYS_TYPES_H=1 -DHAVE_SYS_STAT_H=1 -DHAVE_PTHREAD_H=1 -DHAVE_SYS_RESOURCE_H=1 -DHAVE_SYS_TIME_H=1 -DHAVE_STDINT_H=1 -DHAVE_FEATURES_H=1 -DHAVE_GETTIMEOFDAY=1 -DHAVE_MEMSET=1 -DHAVE_MEMCPY=1 -DHAVE_BCOPY=1 -DHAVE_SRAND48=1 -I. -I../../include     -Wall -Wno-long-long -pedantic -std=c++98  -O2 -DNDEBUG -MT BulkLoader.lo -MD -MP -MF $depbase.Tpo -c -o BulkLoader.lo BulkLoader.cc &&\\\n",
            "mv -f $depbase.Tpo $depbase.Plo\n",
            "libtool: compile:  g++ -DPACKAGE_NAME=\\\"spatialindex\\\" -DPACKAGE_TARNAME=\\\"spatialindex-src\\\" -DPACKAGE_VERSION=\\\"1.8.5\\\" \"-DPACKAGE_STRING=\\\"spatialindex 1.8.5\\\"\" -DPACKAGE_BUGREPORT=\\\"mhadji@gmail.com\\\" -DPACKAGE_URL=\\\"\\\" -DSTDC_HEADERS=1 -DHAVE_SYS_TYPES_H=1 -DHAVE_SYS_STAT_H=1 -DHAVE_STDLIB_H=1 -DHAVE_STRING_H=1 -DHAVE_MEMORY_H=1 -DHAVE_STRINGS_H=1 -DHAVE_INTTYPES_H=1 -DHAVE_STDINT_H=1 -DHAVE_UNISTD_H=1 -DHAVE_DLFCN_H=1 -DLT_OBJDIR=\\\".libs/\\\" -DPACKAGE=\\\"spatialindex-src\\\" -DVERSION=\\\"1.8.5\\\" -DHAVE_FCNTL_H=1 -DHAVE_UNISTD_H=1 -DHAVE_SYS_TYPES_H=1 -DHAVE_SYS_STAT_H=1 -DHAVE_PTHREAD_H=1 -DHAVE_SYS_RESOURCE_H=1 -DHAVE_SYS_TIME_H=1 -DHAVE_STDINT_H=1 -DHAVE_FEATURES_H=1 -DHAVE_GETTIMEOFDAY=1 -DHAVE_MEMSET=1 -DHAVE_MEMCPY=1 -DHAVE_BCOPY=1 -DHAVE_SRAND48=1 -I. -I../../include -Wall -Wno-long-long -pedantic -std=c++98 -O2 -DNDEBUG -MT BulkLoader.lo -MD -MP -MF .deps/BulkLoader.Tpo -c BulkLoader.cc  -fPIC -DPIC -o .libs/BulkLoader.o\n",
            "libtool: compile:  g++ -DPACKAGE_NAME=\\\"spatialindex\\\" -DPACKAGE_TARNAME=\\\"spatialindex-src\\\" -DPACKAGE_VERSION=\\\"1.8.5\\\" \"-DPACKAGE_STRING=\\\"spatialindex 1.8.5\\\"\" -DPACKAGE_BUGREPORT=\\\"mhadji@gmail.com\\\" -DPACKAGE_URL=\\\"\\\" -DSTDC_HEADERS=1 -DHAVE_SYS_TYPES_H=1 -DHAVE_SYS_STAT_H=1 -DHAVE_STDLIB_H=1 -DHAVE_STRING_H=1 -DHAVE_MEMORY_H=1 -DHAVE_STRINGS_H=1 -DHAVE_INTTYPES_H=1 -DHAVE_STDINT_H=1 -DHAVE_UNISTD_H=1 -DHAVE_DLFCN_H=1 -DLT_OBJDIR=\\\".libs/\\\" -DPACKAGE=\\\"spatialindex-src\\\" -DVERSION=\\\"1.8.5\\\" -DHAVE_FCNTL_H=1 -DHAVE_UNISTD_H=1 -DHAVE_SYS_TYPES_H=1 -DHAVE_SYS_STAT_H=1 -DHAVE_PTHREAD_H=1 -DHAVE_SYS_RESOURCE_H=1 -DHAVE_SYS_TIME_H=1 -DHAVE_STDINT_H=1 -DHAVE_FEATURES_H=1 -DHAVE_GETTIMEOFDAY=1 -DHAVE_MEMSET=1 -DHAVE_MEMCPY=1 -DHAVE_BCOPY=1 -DHAVE_SRAND48=1 -I. -I../../include -Wall -Wno-long-long -pedantic -std=c++98 -O2 -DNDEBUG -MT BulkLoader.lo -MD -MP -MF .deps/BulkLoader.Tpo -c BulkLoader.cc -o BulkLoader.o >/dev/null 2>&1\n",
            "depbase=`echo Index.lo | sed 's|[^/]*$|.deps/&|;s|\\.lo$||'`;\\\n",
            "/bin/bash ../../libtool  --tag=CXX   --mode=compile g++ -DPACKAGE_NAME=\\\"spatialindex\\\" -DPACKAGE_TARNAME=\\\"spatialindex-src\\\" -DPACKAGE_VERSION=\\\"1.8.5\\\" -DPACKAGE_STRING=\\\"spatialindex\\ 1.8.5\\\" -DPACKAGE_BUGREPORT=\\\"mhadji@gmail.com\\\" -DPACKAGE_URL=\\\"\\\" -DSTDC_HEADERS=1 -DHAVE_SYS_TYPES_H=1 -DHAVE_SYS_STAT_H=1 -DHAVE_STDLIB_H=1 -DHAVE_STRING_H=1 -DHAVE_MEMORY_H=1 -DHAVE_STRINGS_H=1 -DHAVE_INTTYPES_H=1 -DHAVE_STDINT_H=1 -DHAVE_UNISTD_H=1 -DHAVE_DLFCN_H=1 -DLT_OBJDIR=\\\".libs/\\\" -DPACKAGE=\\\"spatialindex-src\\\" -DVERSION=\\\"1.8.5\\\" -DHAVE_FCNTL_H=1 -DHAVE_UNISTD_H=1 -DHAVE_SYS_TYPES_H=1 -DHAVE_SYS_STAT_H=1 -DHAVE_PTHREAD_H=1 -DHAVE_SYS_RESOURCE_H=1 -DHAVE_SYS_TIME_H=1 -DHAVE_STDINT_H=1 -DHAVE_FEATURES_H=1 -DHAVE_GETTIMEOFDAY=1 -DHAVE_MEMSET=1 -DHAVE_MEMCPY=1 -DHAVE_BCOPY=1 -DHAVE_SRAND48=1 -I. -I../../include     -Wall -Wno-long-long -pedantic -std=c++98  -O2 -DNDEBUG -MT Index.lo -MD -MP -MF $depbase.Tpo -c -o Index.lo Index.cc &&\\\n",
            "mv -f $depbase.Tpo $depbase.Plo\n",
            "libtool: compile:  g++ -DPACKAGE_NAME=\\\"spatialindex\\\" -DPACKAGE_TARNAME=\\\"spatialindex-src\\\" -DPACKAGE_VERSION=\\\"1.8.5\\\" \"-DPACKAGE_STRING=\\\"spatialindex 1.8.5\\\"\" -DPACKAGE_BUGREPORT=\\\"mhadji@gmail.com\\\" -DPACKAGE_URL=\\\"\\\" -DSTDC_HEADERS=1 -DHAVE_SYS_TYPES_H=1 -DHAVE_SYS_STAT_H=1 -DHAVE_STDLIB_H=1 -DHAVE_STRING_H=1 -DHAVE_MEMORY_H=1 -DHAVE_STRINGS_H=1 -DHAVE_INTTYPES_H=1 -DHAVE_STDINT_H=1 -DHAVE_UNISTD_H=1 -DHAVE_DLFCN_H=1 -DLT_OBJDIR=\\\".libs/\\\" -DPACKAGE=\\\"spatialindex-src\\\" -DVERSION=\\\"1.8.5\\\" -DHAVE_FCNTL_H=1 -DHAVE_UNISTD_H=1 -DHAVE_SYS_TYPES_H=1 -DHAVE_SYS_STAT_H=1 -DHAVE_PTHREAD_H=1 -DHAVE_SYS_RESOURCE_H=1 -DHAVE_SYS_TIME_H=1 -DHAVE_STDINT_H=1 -DHAVE_FEATURES_H=1 -DHAVE_GETTIMEOFDAY=1 -DHAVE_MEMSET=1 -DHAVE_MEMCPY=1 -DHAVE_BCOPY=1 -DHAVE_SRAND48=1 -I. -I../../include -Wall -Wno-long-long -pedantic -std=c++98 -O2 -DNDEBUG -MT Index.lo -MD -MP -MF .deps/Index.Tpo -c Index.cc  -fPIC -DPIC -o .libs/Index.o\n",
            "libtool: compile:  g++ -DPACKAGE_NAME=\\\"spatialindex\\\" -DPACKAGE_TARNAME=\\\"spatialindex-src\\\" -DPACKAGE_VERSION=\\\"1.8.5\\\" \"-DPACKAGE_STRING=\\\"spatialindex 1.8.5\\\"\" -DPACKAGE_BUGREPORT=\\\"mhadji@gmail.com\\\" -DPACKAGE_URL=\\\"\\\" -DSTDC_HEADERS=1 -DHAVE_SYS_TYPES_H=1 -DHAVE_SYS_STAT_H=1 -DHAVE_STDLIB_H=1 -DHAVE_STRING_H=1 -DHAVE_MEMORY_H=1 -DHAVE_STRINGS_H=1 -DHAVE_INTTYPES_H=1 -DHAVE_STDINT_H=1 -DHAVE_UNISTD_H=1 -DHAVE_DLFCN_H=1 -DLT_OBJDIR=\\\".libs/\\\" -DPACKAGE=\\\"spatialindex-src\\\" -DVERSION=\\\"1.8.5\\\" -DHAVE_FCNTL_H=1 -DHAVE_UNISTD_H=1 -DHAVE_SYS_TYPES_H=1 -DHAVE_SYS_STAT_H=1 -DHAVE_PTHREAD_H=1 -DHAVE_SYS_RESOURCE_H=1 -DHAVE_SYS_TIME_H=1 -DHAVE_STDINT_H=1 -DHAVE_FEATURES_H=1 -DHAVE_GETTIMEOFDAY=1 -DHAVE_MEMSET=1 -DHAVE_MEMCPY=1 -DHAVE_BCOPY=1 -DHAVE_SRAND48=1 -I. -I../../include -Wall -Wno-long-long -pedantic -std=c++98 -O2 -DNDEBUG -MT Index.lo -MD -MP -MF .deps/Index.Tpo -c Index.cc -o Index.o >/dev/null 2>&1\n",
            "depbase=`echo Leaf.lo | sed 's|[^/]*$|.deps/&|;s|\\.lo$||'`;\\\n",
            "/bin/bash ../../libtool  --tag=CXX   --mode=compile g++ -DPACKAGE_NAME=\\\"spatialindex\\\" -DPACKAGE_TARNAME=\\\"spatialindex-src\\\" -DPACKAGE_VERSION=\\\"1.8.5\\\" -DPACKAGE_STRING=\\\"spatialindex\\ 1.8.5\\\" -DPACKAGE_BUGREPORT=\\\"mhadji@gmail.com\\\" -DPACKAGE_URL=\\\"\\\" -DSTDC_HEADERS=1 -DHAVE_SYS_TYPES_H=1 -DHAVE_SYS_STAT_H=1 -DHAVE_STDLIB_H=1 -DHAVE_STRING_H=1 -DHAVE_MEMORY_H=1 -DHAVE_STRINGS_H=1 -DHAVE_INTTYPES_H=1 -DHAVE_STDINT_H=1 -DHAVE_UNISTD_H=1 -DHAVE_DLFCN_H=1 -DLT_OBJDIR=\\\".libs/\\\" -DPACKAGE=\\\"spatialindex-src\\\" -DVERSION=\\\"1.8.5\\\" -DHAVE_FCNTL_H=1 -DHAVE_UNISTD_H=1 -DHAVE_SYS_TYPES_H=1 -DHAVE_SYS_STAT_H=1 -DHAVE_PTHREAD_H=1 -DHAVE_SYS_RESOURCE_H=1 -DHAVE_SYS_TIME_H=1 -DHAVE_STDINT_H=1 -DHAVE_FEATURES_H=1 -DHAVE_GETTIMEOFDAY=1 -DHAVE_MEMSET=1 -DHAVE_MEMCPY=1 -DHAVE_BCOPY=1 -DHAVE_SRAND48=1 -I. -I../../include     -Wall -Wno-long-long -pedantic -std=c++98  -O2 -DNDEBUG -MT Leaf.lo -MD -MP -MF $depbase.Tpo -c -o Leaf.lo Leaf.cc &&\\\n",
            "mv -f $depbase.Tpo $depbase.Plo\n",
            "libtool: compile:  g++ -DPACKAGE_NAME=\\\"spatialindex\\\" -DPACKAGE_TARNAME=\\\"spatialindex-src\\\" -DPACKAGE_VERSION=\\\"1.8.5\\\" \"-DPACKAGE_STRING=\\\"spatialindex 1.8.5\\\"\" -DPACKAGE_BUGREPORT=\\\"mhadji@gmail.com\\\" -DPACKAGE_URL=\\\"\\\" -DSTDC_HEADERS=1 -DHAVE_SYS_TYPES_H=1 -DHAVE_SYS_STAT_H=1 -DHAVE_STDLIB_H=1 -DHAVE_STRING_H=1 -DHAVE_MEMORY_H=1 -DHAVE_STRINGS_H=1 -DHAVE_INTTYPES_H=1 -DHAVE_STDINT_H=1 -DHAVE_UNISTD_H=1 -DHAVE_DLFCN_H=1 -DLT_OBJDIR=\\\".libs/\\\" -DPACKAGE=\\\"spatialindex-src\\\" -DVERSION=\\\"1.8.5\\\" -DHAVE_FCNTL_H=1 -DHAVE_UNISTD_H=1 -DHAVE_SYS_TYPES_H=1 -DHAVE_SYS_STAT_H=1 -DHAVE_PTHREAD_H=1 -DHAVE_SYS_RESOURCE_H=1 -DHAVE_SYS_TIME_H=1 -DHAVE_STDINT_H=1 -DHAVE_FEATURES_H=1 -DHAVE_GETTIMEOFDAY=1 -DHAVE_MEMSET=1 -DHAVE_MEMCPY=1 -DHAVE_BCOPY=1 -DHAVE_SRAND48=1 -I. -I../../include -Wall -Wno-long-long -pedantic -std=c++98 -O2 -DNDEBUG -MT Leaf.lo -MD -MP -MF .deps/Leaf.Tpo -c Leaf.cc  -fPIC -DPIC -o .libs/Leaf.o\n",
            "libtool: compile:  g++ -DPACKAGE_NAME=\\\"spatialindex\\\" -DPACKAGE_TARNAME=\\\"spatialindex-src\\\" -DPACKAGE_VERSION=\\\"1.8.5\\\" \"-DPACKAGE_STRING=\\\"spatialindex 1.8.5\\\"\" -DPACKAGE_BUGREPORT=\\\"mhadji@gmail.com\\\" -DPACKAGE_URL=\\\"\\\" -DSTDC_HEADERS=1 -DHAVE_SYS_TYPES_H=1 -DHAVE_SYS_STAT_H=1 -DHAVE_STDLIB_H=1 -DHAVE_STRING_H=1 -DHAVE_MEMORY_H=1 -DHAVE_STRINGS_H=1 -DHAVE_INTTYPES_H=1 -DHAVE_STDINT_H=1 -DHAVE_UNISTD_H=1 -DHAVE_DLFCN_H=1 -DLT_OBJDIR=\\\".libs/\\\" -DPACKAGE=\\\"spatialindex-src\\\" -DVERSION=\\\"1.8.5\\\" -DHAVE_FCNTL_H=1 -DHAVE_UNISTD_H=1 -DHAVE_SYS_TYPES_H=1 -DHAVE_SYS_STAT_H=1 -DHAVE_PTHREAD_H=1 -DHAVE_SYS_RESOURCE_H=1 -DHAVE_SYS_TIME_H=1 -DHAVE_STDINT_H=1 -DHAVE_FEATURES_H=1 -DHAVE_GETTIMEOFDAY=1 -DHAVE_MEMSET=1 -DHAVE_MEMCPY=1 -DHAVE_BCOPY=1 -DHAVE_SRAND48=1 -I. -I../../include -Wall -Wno-long-long -pedantic -std=c++98 -O2 -DNDEBUG -MT Leaf.lo -MD -MP -MF .deps/Leaf.Tpo -c Leaf.cc -o Leaf.o >/dev/null 2>&1\n",
            "depbase=`echo Node.lo | sed 's|[^/]*$|.deps/&|;s|\\.lo$||'`;\\\n",
            "/bin/bash ../../libtool  --tag=CXX   --mode=compile g++ -DPACKAGE_NAME=\\\"spatialindex\\\" -DPACKAGE_TARNAME=\\\"spatialindex-src\\\" -DPACKAGE_VERSION=\\\"1.8.5\\\" -DPACKAGE_STRING=\\\"spatialindex\\ 1.8.5\\\" -DPACKAGE_BUGREPORT=\\\"mhadji@gmail.com\\\" -DPACKAGE_URL=\\\"\\\" -DSTDC_HEADERS=1 -DHAVE_SYS_TYPES_H=1 -DHAVE_SYS_STAT_H=1 -DHAVE_STDLIB_H=1 -DHAVE_STRING_H=1 -DHAVE_MEMORY_H=1 -DHAVE_STRINGS_H=1 -DHAVE_INTTYPES_H=1 -DHAVE_STDINT_H=1 -DHAVE_UNISTD_H=1 -DHAVE_DLFCN_H=1 -DLT_OBJDIR=\\\".libs/\\\" -DPACKAGE=\\\"spatialindex-src\\\" -DVERSION=\\\"1.8.5\\\" -DHAVE_FCNTL_H=1 -DHAVE_UNISTD_H=1 -DHAVE_SYS_TYPES_H=1 -DHAVE_SYS_STAT_H=1 -DHAVE_PTHREAD_H=1 -DHAVE_SYS_RESOURCE_H=1 -DHAVE_SYS_TIME_H=1 -DHAVE_STDINT_H=1 -DHAVE_FEATURES_H=1 -DHAVE_GETTIMEOFDAY=1 -DHAVE_MEMSET=1 -DHAVE_MEMCPY=1 -DHAVE_BCOPY=1 -DHAVE_SRAND48=1 -I. -I../../include     -Wall -Wno-long-long -pedantic -std=c++98  -O2 -DNDEBUG -MT Node.lo -MD -MP -MF $depbase.Tpo -c -o Node.lo Node.cc &&\\\n",
            "mv -f $depbase.Tpo $depbase.Plo\n",
            "libtool: compile:  g++ -DPACKAGE_NAME=\\\"spatialindex\\\" -DPACKAGE_TARNAME=\\\"spatialindex-src\\\" -DPACKAGE_VERSION=\\\"1.8.5\\\" \"-DPACKAGE_STRING=\\\"spatialindex 1.8.5\\\"\" -DPACKAGE_BUGREPORT=\\\"mhadji@gmail.com\\\" -DPACKAGE_URL=\\\"\\\" -DSTDC_HEADERS=1 -DHAVE_SYS_TYPES_H=1 -DHAVE_SYS_STAT_H=1 -DHAVE_STDLIB_H=1 -DHAVE_STRING_H=1 -DHAVE_MEMORY_H=1 -DHAVE_STRINGS_H=1 -DHAVE_INTTYPES_H=1 -DHAVE_STDINT_H=1 -DHAVE_UNISTD_H=1 -DHAVE_DLFCN_H=1 -DLT_OBJDIR=\\\".libs/\\\" -DPACKAGE=\\\"spatialindex-src\\\" -DVERSION=\\\"1.8.5\\\" -DHAVE_FCNTL_H=1 -DHAVE_UNISTD_H=1 -DHAVE_SYS_TYPES_H=1 -DHAVE_SYS_STAT_H=1 -DHAVE_PTHREAD_H=1 -DHAVE_SYS_RESOURCE_H=1 -DHAVE_SYS_TIME_H=1 -DHAVE_STDINT_H=1 -DHAVE_FEATURES_H=1 -DHAVE_GETTIMEOFDAY=1 -DHAVE_MEMSET=1 -DHAVE_MEMCPY=1 -DHAVE_BCOPY=1 -DHAVE_SRAND48=1 -I. -I../../include -Wall -Wno-long-long -pedantic -std=c++98 -O2 -DNDEBUG -MT Node.lo -MD -MP -MF .deps/Node.Tpo -c Node.cc  -fPIC -DPIC -o .libs/Node.o\n",
            "libtool: compile:  g++ -DPACKAGE_NAME=\\\"spatialindex\\\" -DPACKAGE_TARNAME=\\\"spatialindex-src\\\" -DPACKAGE_VERSION=\\\"1.8.5\\\" \"-DPACKAGE_STRING=\\\"spatialindex 1.8.5\\\"\" -DPACKAGE_BUGREPORT=\\\"mhadji@gmail.com\\\" -DPACKAGE_URL=\\\"\\\" -DSTDC_HEADERS=1 -DHAVE_SYS_TYPES_H=1 -DHAVE_SYS_STAT_H=1 -DHAVE_STDLIB_H=1 -DHAVE_STRING_H=1 -DHAVE_MEMORY_H=1 -DHAVE_STRINGS_H=1 -DHAVE_INTTYPES_H=1 -DHAVE_STDINT_H=1 -DHAVE_UNISTD_H=1 -DHAVE_DLFCN_H=1 -DLT_OBJDIR=\\\".libs/\\\" -DPACKAGE=\\\"spatialindex-src\\\" -DVERSION=\\\"1.8.5\\\" -DHAVE_FCNTL_H=1 -DHAVE_UNISTD_H=1 -DHAVE_SYS_TYPES_H=1 -DHAVE_SYS_STAT_H=1 -DHAVE_PTHREAD_H=1 -DHAVE_SYS_RESOURCE_H=1 -DHAVE_SYS_TIME_H=1 -DHAVE_STDINT_H=1 -DHAVE_FEATURES_H=1 -DHAVE_GETTIMEOFDAY=1 -DHAVE_MEMSET=1 -DHAVE_MEMCPY=1 -DHAVE_BCOPY=1 -DHAVE_SRAND48=1 -I. -I../../include -Wall -Wno-long-long -pedantic -std=c++98 -O2 -DNDEBUG -MT Node.lo -MD -MP -MF .deps/Node.Tpo -c Node.cc -o Node.o >/dev/null 2>&1\n",
            "depbase=`echo RTree.lo | sed 's|[^/]*$|.deps/&|;s|\\.lo$||'`;\\\n",
            "/bin/bash ../../libtool  --tag=CXX   --mode=compile g++ -DPACKAGE_NAME=\\\"spatialindex\\\" -DPACKAGE_TARNAME=\\\"spatialindex-src\\\" -DPACKAGE_VERSION=\\\"1.8.5\\\" -DPACKAGE_STRING=\\\"spatialindex\\ 1.8.5\\\" -DPACKAGE_BUGREPORT=\\\"mhadji@gmail.com\\\" -DPACKAGE_URL=\\\"\\\" -DSTDC_HEADERS=1 -DHAVE_SYS_TYPES_H=1 -DHAVE_SYS_STAT_H=1 -DHAVE_STDLIB_H=1 -DHAVE_STRING_H=1 -DHAVE_MEMORY_H=1 -DHAVE_STRINGS_H=1 -DHAVE_INTTYPES_H=1 -DHAVE_STDINT_H=1 -DHAVE_UNISTD_H=1 -DHAVE_DLFCN_H=1 -DLT_OBJDIR=\\\".libs/\\\" -DPACKAGE=\\\"spatialindex-src\\\" -DVERSION=\\\"1.8.5\\\" -DHAVE_FCNTL_H=1 -DHAVE_UNISTD_H=1 -DHAVE_SYS_TYPES_H=1 -DHAVE_SYS_STAT_H=1 -DHAVE_PTHREAD_H=1 -DHAVE_SYS_RESOURCE_H=1 -DHAVE_SYS_TIME_H=1 -DHAVE_STDINT_H=1 -DHAVE_FEATURES_H=1 -DHAVE_GETTIMEOFDAY=1 -DHAVE_MEMSET=1 -DHAVE_MEMCPY=1 -DHAVE_BCOPY=1 -DHAVE_SRAND48=1 -I. -I../../include     -Wall -Wno-long-long -pedantic -std=c++98  -O2 -DNDEBUG -MT RTree.lo -MD -MP -MF $depbase.Tpo -c -o RTree.lo RTree.cc &&\\\n",
            "mv -f $depbase.Tpo $depbase.Plo\n",
            "libtool: compile:  g++ -DPACKAGE_NAME=\\\"spatialindex\\\" -DPACKAGE_TARNAME=\\\"spatialindex-src\\\" -DPACKAGE_VERSION=\\\"1.8.5\\\" \"-DPACKAGE_STRING=\\\"spatialindex 1.8.5\\\"\" -DPACKAGE_BUGREPORT=\\\"mhadji@gmail.com\\\" -DPACKAGE_URL=\\\"\\\" -DSTDC_HEADERS=1 -DHAVE_SYS_TYPES_H=1 -DHAVE_SYS_STAT_H=1 -DHAVE_STDLIB_H=1 -DHAVE_STRING_H=1 -DHAVE_MEMORY_H=1 -DHAVE_STRINGS_H=1 -DHAVE_INTTYPES_H=1 -DHAVE_STDINT_H=1 -DHAVE_UNISTD_H=1 -DHAVE_DLFCN_H=1 -DLT_OBJDIR=\\\".libs/\\\" -DPACKAGE=\\\"spatialindex-src\\\" -DVERSION=\\\"1.8.5\\\" -DHAVE_FCNTL_H=1 -DHAVE_UNISTD_H=1 -DHAVE_SYS_TYPES_H=1 -DHAVE_SYS_STAT_H=1 -DHAVE_PTHREAD_H=1 -DHAVE_SYS_RESOURCE_H=1 -DHAVE_SYS_TIME_H=1 -DHAVE_STDINT_H=1 -DHAVE_FEATURES_H=1 -DHAVE_GETTIMEOFDAY=1 -DHAVE_MEMSET=1 -DHAVE_MEMCPY=1 -DHAVE_BCOPY=1 -DHAVE_SRAND48=1 -I. -I../../include -Wall -Wno-long-long -pedantic -std=c++98 -O2 -DNDEBUG -MT RTree.lo -MD -MP -MF .deps/RTree.Tpo -c RTree.cc  -fPIC -DPIC -o .libs/RTree.o\n",
            "libtool: compile:  g++ -DPACKAGE_NAME=\\\"spatialindex\\\" -DPACKAGE_TARNAME=\\\"spatialindex-src\\\" -DPACKAGE_VERSION=\\\"1.8.5\\\" \"-DPACKAGE_STRING=\\\"spatialindex 1.8.5\\\"\" -DPACKAGE_BUGREPORT=\\\"mhadji@gmail.com\\\" -DPACKAGE_URL=\\\"\\\" -DSTDC_HEADERS=1 -DHAVE_SYS_TYPES_H=1 -DHAVE_SYS_STAT_H=1 -DHAVE_STDLIB_H=1 -DHAVE_STRING_H=1 -DHAVE_MEMORY_H=1 -DHAVE_STRINGS_H=1 -DHAVE_INTTYPES_H=1 -DHAVE_STDINT_H=1 -DHAVE_UNISTD_H=1 -DHAVE_DLFCN_H=1 -DLT_OBJDIR=\\\".libs/\\\" -DPACKAGE=\\\"spatialindex-src\\\" -DVERSION=\\\"1.8.5\\\" -DHAVE_FCNTL_H=1 -DHAVE_UNISTD_H=1 -DHAVE_SYS_TYPES_H=1 -DHAVE_SYS_STAT_H=1 -DHAVE_PTHREAD_H=1 -DHAVE_SYS_RESOURCE_H=1 -DHAVE_SYS_TIME_H=1 -DHAVE_STDINT_H=1 -DHAVE_FEATURES_H=1 -DHAVE_GETTIMEOFDAY=1 -DHAVE_MEMSET=1 -DHAVE_MEMCPY=1 -DHAVE_BCOPY=1 -DHAVE_SRAND48=1 -I. -I../../include -Wall -Wno-long-long -pedantic -std=c++98 -O2 -DNDEBUG -MT RTree.lo -MD -MP -MF .deps/RTree.Tpo -c RTree.cc -o RTree.o >/dev/null 2>&1\n",
            "depbase=`echo Statistics.lo | sed 's|[^/]*$|.deps/&|;s|\\.lo$||'`;\\\n",
            "/bin/bash ../../libtool  --tag=CXX   --mode=compile g++ -DPACKAGE_NAME=\\\"spatialindex\\\" -DPACKAGE_TARNAME=\\\"spatialindex-src\\\" -DPACKAGE_VERSION=\\\"1.8.5\\\" -DPACKAGE_STRING=\\\"spatialindex\\ 1.8.5\\\" -DPACKAGE_BUGREPORT=\\\"mhadji@gmail.com\\\" -DPACKAGE_URL=\\\"\\\" -DSTDC_HEADERS=1 -DHAVE_SYS_TYPES_H=1 -DHAVE_SYS_STAT_H=1 -DHAVE_STDLIB_H=1 -DHAVE_STRING_H=1 -DHAVE_MEMORY_H=1 -DHAVE_STRINGS_H=1 -DHAVE_INTTYPES_H=1 -DHAVE_STDINT_H=1 -DHAVE_UNISTD_H=1 -DHAVE_DLFCN_H=1 -DLT_OBJDIR=\\\".libs/\\\" -DPACKAGE=\\\"spatialindex-src\\\" -DVERSION=\\\"1.8.5\\\" -DHAVE_FCNTL_H=1 -DHAVE_UNISTD_H=1 -DHAVE_SYS_TYPES_H=1 -DHAVE_SYS_STAT_H=1 -DHAVE_PTHREAD_H=1 -DHAVE_SYS_RESOURCE_H=1 -DHAVE_SYS_TIME_H=1 -DHAVE_STDINT_H=1 -DHAVE_FEATURES_H=1 -DHAVE_GETTIMEOFDAY=1 -DHAVE_MEMSET=1 -DHAVE_MEMCPY=1 -DHAVE_BCOPY=1 -DHAVE_SRAND48=1 -I. -I../../include     -Wall -Wno-long-long -pedantic -std=c++98  -O2 -DNDEBUG -MT Statistics.lo -MD -MP -MF $depbase.Tpo -c -o Statistics.lo Statistics.cc &&\\\n",
            "mv -f $depbase.Tpo $depbase.Plo\n",
            "libtool: compile:  g++ -DPACKAGE_NAME=\\\"spatialindex\\\" -DPACKAGE_TARNAME=\\\"spatialindex-src\\\" -DPACKAGE_VERSION=\\\"1.8.5\\\" \"-DPACKAGE_STRING=\\\"spatialindex 1.8.5\\\"\" -DPACKAGE_BUGREPORT=\\\"mhadji@gmail.com\\\" -DPACKAGE_URL=\\\"\\\" -DSTDC_HEADERS=1 -DHAVE_SYS_TYPES_H=1 -DHAVE_SYS_STAT_H=1 -DHAVE_STDLIB_H=1 -DHAVE_STRING_H=1 -DHAVE_MEMORY_H=1 -DHAVE_STRINGS_H=1 -DHAVE_INTTYPES_H=1 -DHAVE_STDINT_H=1 -DHAVE_UNISTD_H=1 -DHAVE_DLFCN_H=1 -DLT_OBJDIR=\\\".libs/\\\" -DPACKAGE=\\\"spatialindex-src\\\" -DVERSION=\\\"1.8.5\\\" -DHAVE_FCNTL_H=1 -DHAVE_UNISTD_H=1 -DHAVE_SYS_TYPES_H=1 -DHAVE_SYS_STAT_H=1 -DHAVE_PTHREAD_H=1 -DHAVE_SYS_RESOURCE_H=1 -DHAVE_SYS_TIME_H=1 -DHAVE_STDINT_H=1 -DHAVE_FEATURES_H=1 -DHAVE_GETTIMEOFDAY=1 -DHAVE_MEMSET=1 -DHAVE_MEMCPY=1 -DHAVE_BCOPY=1 -DHAVE_SRAND48=1 -I. -I../../include -Wall -Wno-long-long -pedantic -std=c++98 -O2 -DNDEBUG -MT Statistics.lo -MD -MP -MF .deps/Statistics.Tpo -c Statistics.cc  -fPIC -DPIC -o .libs/Statistics.o\n",
            "libtool: compile:  g++ -DPACKAGE_NAME=\\\"spatialindex\\\" -DPACKAGE_TARNAME=\\\"spatialindex-src\\\" -DPACKAGE_VERSION=\\\"1.8.5\\\" \"-DPACKAGE_STRING=\\\"spatialindex 1.8.5\\\"\" -DPACKAGE_BUGREPORT=\\\"mhadji@gmail.com\\\" -DPACKAGE_URL=\\\"\\\" -DSTDC_HEADERS=1 -DHAVE_SYS_TYPES_H=1 -DHAVE_SYS_STAT_H=1 -DHAVE_STDLIB_H=1 -DHAVE_STRING_H=1 -DHAVE_MEMORY_H=1 -DHAVE_STRINGS_H=1 -DHAVE_INTTYPES_H=1 -DHAVE_STDINT_H=1 -DHAVE_UNISTD_H=1 -DHAVE_DLFCN_H=1 -DLT_OBJDIR=\\\".libs/\\\" -DPACKAGE=\\\"spatialindex-src\\\" -DVERSION=\\\"1.8.5\\\" -DHAVE_FCNTL_H=1 -DHAVE_UNISTD_H=1 -DHAVE_SYS_TYPES_H=1 -DHAVE_SYS_STAT_H=1 -DHAVE_PTHREAD_H=1 -DHAVE_SYS_RESOURCE_H=1 -DHAVE_SYS_TIME_H=1 -DHAVE_STDINT_H=1 -DHAVE_FEATURES_H=1 -DHAVE_GETTIMEOFDAY=1 -DHAVE_MEMSET=1 -DHAVE_MEMCPY=1 -DHAVE_BCOPY=1 -DHAVE_SRAND48=1 -I. -I../../include -Wall -Wno-long-long -pedantic -std=c++98 -O2 -DNDEBUG -MT Statistics.lo -MD -MP -MF .deps/Statistics.Tpo -c Statistics.cc -o Statistics.o >/dev/null 2>&1\n",
            "/bin/bash ../../libtool  --tag=CXX   --mode=link g++  -Wall -Wno-long-long -pedantic -std=c++98  -O2 -DNDEBUG   -o librtree.la  BulkLoader.lo Index.lo Leaf.lo Node.lo RTree.lo Statistics.lo  -lpthread\n",
            "libtool: link: ar cru .libs/librtree.a .libs/BulkLoader.o .libs/Index.o .libs/Leaf.o .libs/Node.o .libs/RTree.o .libs/Statistics.o \n",
            "ar: `u' modifier ignored since `D' is the default (see `U')\n",
            "libtool: link: ranlib .libs/librtree.a\n",
            "libtool: link: ( cd \".libs\" && rm -f \"librtree.la\" && ln -s \"../librtree.la\" \"librtree.la\" )\n",
            "make[2]: Leaving directory '/content/spatialindex-src-1.8.5/src/rtree'\n",
            "Making all in mvrtree\n",
            "make[2]: Entering directory '/content/spatialindex-src-1.8.5/src/mvrtree'\n",
            "depbase=`echo Index.lo | sed 's|[^/]*$|.deps/&|;s|\\.lo$||'`;\\\n",
            "/bin/bash ../../libtool  --tag=CXX   --mode=compile g++ -DPACKAGE_NAME=\\\"spatialindex\\\" -DPACKAGE_TARNAME=\\\"spatialindex-src\\\" -DPACKAGE_VERSION=\\\"1.8.5\\\" -DPACKAGE_STRING=\\\"spatialindex\\ 1.8.5\\\" -DPACKAGE_BUGREPORT=\\\"mhadji@gmail.com\\\" -DPACKAGE_URL=\\\"\\\" -DSTDC_HEADERS=1 -DHAVE_SYS_TYPES_H=1 -DHAVE_SYS_STAT_H=1 -DHAVE_STDLIB_H=1 -DHAVE_STRING_H=1 -DHAVE_MEMORY_H=1 -DHAVE_STRINGS_H=1 -DHAVE_INTTYPES_H=1 -DHAVE_STDINT_H=1 -DHAVE_UNISTD_H=1 -DHAVE_DLFCN_H=1 -DLT_OBJDIR=\\\".libs/\\\" -DPACKAGE=\\\"spatialindex-src\\\" -DVERSION=\\\"1.8.5\\\" -DHAVE_FCNTL_H=1 -DHAVE_UNISTD_H=1 -DHAVE_SYS_TYPES_H=1 -DHAVE_SYS_STAT_H=1 -DHAVE_PTHREAD_H=1 -DHAVE_SYS_RESOURCE_H=1 -DHAVE_SYS_TIME_H=1 -DHAVE_STDINT_H=1 -DHAVE_FEATURES_H=1 -DHAVE_GETTIMEOFDAY=1 -DHAVE_MEMSET=1 -DHAVE_MEMCPY=1 -DHAVE_BCOPY=1 -DHAVE_SRAND48=1 -I. -I../../include     -Wall -Wno-long-long -pedantic -std=c++98  -O2 -DNDEBUG -MT Index.lo -MD -MP -MF $depbase.Tpo -c -o Index.lo Index.cc &&\\\n",
            "mv -f $depbase.Tpo $depbase.Plo\n",
            "libtool: compile:  g++ -DPACKAGE_NAME=\\\"spatialindex\\\" -DPACKAGE_TARNAME=\\\"spatialindex-src\\\" -DPACKAGE_VERSION=\\\"1.8.5\\\" \"-DPACKAGE_STRING=\\\"spatialindex 1.8.5\\\"\" -DPACKAGE_BUGREPORT=\\\"mhadji@gmail.com\\\" -DPACKAGE_URL=\\\"\\\" -DSTDC_HEADERS=1 -DHAVE_SYS_TYPES_H=1 -DHAVE_SYS_STAT_H=1 -DHAVE_STDLIB_H=1 -DHAVE_STRING_H=1 -DHAVE_MEMORY_H=1 -DHAVE_STRINGS_H=1 -DHAVE_INTTYPES_H=1 -DHAVE_STDINT_H=1 -DHAVE_UNISTD_H=1 -DHAVE_DLFCN_H=1 -DLT_OBJDIR=\\\".libs/\\\" -DPACKAGE=\\\"spatialindex-src\\\" -DVERSION=\\\"1.8.5\\\" -DHAVE_FCNTL_H=1 -DHAVE_UNISTD_H=1 -DHAVE_SYS_TYPES_H=1 -DHAVE_SYS_STAT_H=1 -DHAVE_PTHREAD_H=1 -DHAVE_SYS_RESOURCE_H=1 -DHAVE_SYS_TIME_H=1 -DHAVE_STDINT_H=1 -DHAVE_FEATURES_H=1 -DHAVE_GETTIMEOFDAY=1 -DHAVE_MEMSET=1 -DHAVE_MEMCPY=1 -DHAVE_BCOPY=1 -DHAVE_SRAND48=1 -I. -I../../include -Wall -Wno-long-long -pedantic -std=c++98 -O2 -DNDEBUG -MT Index.lo -MD -MP -MF .deps/Index.Tpo -c Index.cc  -fPIC -DPIC -o .libs/Index.o\n",
            "libtool: compile:  g++ -DPACKAGE_NAME=\\\"spatialindex\\\" -DPACKAGE_TARNAME=\\\"spatialindex-src\\\" -DPACKAGE_VERSION=\\\"1.8.5\\\" \"-DPACKAGE_STRING=\\\"spatialindex 1.8.5\\\"\" -DPACKAGE_BUGREPORT=\\\"mhadji@gmail.com\\\" -DPACKAGE_URL=\\\"\\\" -DSTDC_HEADERS=1 -DHAVE_SYS_TYPES_H=1 -DHAVE_SYS_STAT_H=1 -DHAVE_STDLIB_H=1 -DHAVE_STRING_H=1 -DHAVE_MEMORY_H=1 -DHAVE_STRINGS_H=1 -DHAVE_INTTYPES_H=1 -DHAVE_STDINT_H=1 -DHAVE_UNISTD_H=1 -DHAVE_DLFCN_H=1 -DLT_OBJDIR=\\\".libs/\\\" -DPACKAGE=\\\"spatialindex-src\\\" -DVERSION=\\\"1.8.5\\\" -DHAVE_FCNTL_H=1 -DHAVE_UNISTD_H=1 -DHAVE_SYS_TYPES_H=1 -DHAVE_SYS_STAT_H=1 -DHAVE_PTHREAD_H=1 -DHAVE_SYS_RESOURCE_H=1 -DHAVE_SYS_TIME_H=1 -DHAVE_STDINT_H=1 -DHAVE_FEATURES_H=1 -DHAVE_GETTIMEOFDAY=1 -DHAVE_MEMSET=1 -DHAVE_MEMCPY=1 -DHAVE_BCOPY=1 -DHAVE_SRAND48=1 -I. -I../../include -Wall -Wno-long-long -pedantic -std=c++98 -O2 -DNDEBUG -MT Index.lo -MD -MP -MF .deps/Index.Tpo -c Index.cc -o Index.o >/dev/null 2>&1\n",
            "depbase=`echo Leaf.lo | sed 's|[^/]*$|.deps/&|;s|\\.lo$||'`;\\\n",
            "/bin/bash ../../libtool  --tag=CXX   --mode=compile g++ -DPACKAGE_NAME=\\\"spatialindex\\\" -DPACKAGE_TARNAME=\\\"spatialindex-src\\\" -DPACKAGE_VERSION=\\\"1.8.5\\\" -DPACKAGE_STRING=\\\"spatialindex\\ 1.8.5\\\" -DPACKAGE_BUGREPORT=\\\"mhadji@gmail.com\\\" -DPACKAGE_URL=\\\"\\\" -DSTDC_HEADERS=1 -DHAVE_SYS_TYPES_H=1 -DHAVE_SYS_STAT_H=1 -DHAVE_STDLIB_H=1 -DHAVE_STRING_H=1 -DHAVE_MEMORY_H=1 -DHAVE_STRINGS_H=1 -DHAVE_INTTYPES_H=1 -DHAVE_STDINT_H=1 -DHAVE_UNISTD_H=1 -DHAVE_DLFCN_H=1 -DLT_OBJDIR=\\\".libs/\\\" -DPACKAGE=\\\"spatialindex-src\\\" -DVERSION=\\\"1.8.5\\\" -DHAVE_FCNTL_H=1 -DHAVE_UNISTD_H=1 -DHAVE_SYS_TYPES_H=1 -DHAVE_SYS_STAT_H=1 -DHAVE_PTHREAD_H=1 -DHAVE_SYS_RESOURCE_H=1 -DHAVE_SYS_TIME_H=1 -DHAVE_STDINT_H=1 -DHAVE_FEATURES_H=1 -DHAVE_GETTIMEOFDAY=1 -DHAVE_MEMSET=1 -DHAVE_MEMCPY=1 -DHAVE_BCOPY=1 -DHAVE_SRAND48=1 -I. -I../../include     -Wall -Wno-long-long -pedantic -std=c++98  -O2 -DNDEBUG -MT Leaf.lo -MD -MP -MF $depbase.Tpo -c -o Leaf.lo Leaf.cc &&\\\n",
            "mv -f $depbase.Tpo $depbase.Plo\n",
            "libtool: compile:  g++ -DPACKAGE_NAME=\\\"spatialindex\\\" -DPACKAGE_TARNAME=\\\"spatialindex-src\\\" -DPACKAGE_VERSION=\\\"1.8.5\\\" \"-DPACKAGE_STRING=\\\"spatialindex 1.8.5\\\"\" -DPACKAGE_BUGREPORT=\\\"mhadji@gmail.com\\\" -DPACKAGE_URL=\\\"\\\" -DSTDC_HEADERS=1 -DHAVE_SYS_TYPES_H=1 -DHAVE_SYS_STAT_H=1 -DHAVE_STDLIB_H=1 -DHAVE_STRING_H=1 -DHAVE_MEMORY_H=1 -DHAVE_STRINGS_H=1 -DHAVE_INTTYPES_H=1 -DHAVE_STDINT_H=1 -DHAVE_UNISTD_H=1 -DHAVE_DLFCN_H=1 -DLT_OBJDIR=\\\".libs/\\\" -DPACKAGE=\\\"spatialindex-src\\\" -DVERSION=\\\"1.8.5\\\" -DHAVE_FCNTL_H=1 -DHAVE_UNISTD_H=1 -DHAVE_SYS_TYPES_H=1 -DHAVE_SYS_STAT_H=1 -DHAVE_PTHREAD_H=1 -DHAVE_SYS_RESOURCE_H=1 -DHAVE_SYS_TIME_H=1 -DHAVE_STDINT_H=1 -DHAVE_FEATURES_H=1 -DHAVE_GETTIMEOFDAY=1 -DHAVE_MEMSET=1 -DHAVE_MEMCPY=1 -DHAVE_BCOPY=1 -DHAVE_SRAND48=1 -I. -I../../include -Wall -Wno-long-long -pedantic -std=c++98 -O2 -DNDEBUG -MT Leaf.lo -MD -MP -MF .deps/Leaf.Tpo -c Leaf.cc  -fPIC -DPIC -o .libs/Leaf.o\n",
            "libtool: compile:  g++ -DPACKAGE_NAME=\\\"spatialindex\\\" -DPACKAGE_TARNAME=\\\"spatialindex-src\\\" -DPACKAGE_VERSION=\\\"1.8.5\\\" \"-DPACKAGE_STRING=\\\"spatialindex 1.8.5\\\"\" -DPACKAGE_BUGREPORT=\\\"mhadji@gmail.com\\\" -DPACKAGE_URL=\\\"\\\" -DSTDC_HEADERS=1 -DHAVE_SYS_TYPES_H=1 -DHAVE_SYS_STAT_H=1 -DHAVE_STDLIB_H=1 -DHAVE_STRING_H=1 -DHAVE_MEMORY_H=1 -DHAVE_STRINGS_H=1 -DHAVE_INTTYPES_H=1 -DHAVE_STDINT_H=1 -DHAVE_UNISTD_H=1 -DHAVE_DLFCN_H=1 -DLT_OBJDIR=\\\".libs/\\\" -DPACKAGE=\\\"spatialindex-src\\\" -DVERSION=\\\"1.8.5\\\" -DHAVE_FCNTL_H=1 -DHAVE_UNISTD_H=1 -DHAVE_SYS_TYPES_H=1 -DHAVE_SYS_STAT_H=1 -DHAVE_PTHREAD_H=1 -DHAVE_SYS_RESOURCE_H=1 -DHAVE_SYS_TIME_H=1 -DHAVE_STDINT_H=1 -DHAVE_FEATURES_H=1 -DHAVE_GETTIMEOFDAY=1 -DHAVE_MEMSET=1 -DHAVE_MEMCPY=1 -DHAVE_BCOPY=1 -DHAVE_SRAND48=1 -I. -I../../include -Wall -Wno-long-long -pedantic -std=c++98 -O2 -DNDEBUG -MT Leaf.lo -MD -MP -MF .deps/Leaf.Tpo -c Leaf.cc -o Leaf.o >/dev/null 2>&1\n",
            "depbase=`echo Node.lo | sed 's|[^/]*$|.deps/&|;s|\\.lo$||'`;\\\n",
            "/bin/bash ../../libtool  --tag=CXX   --mode=compile g++ -DPACKAGE_NAME=\\\"spatialindex\\\" -DPACKAGE_TARNAME=\\\"spatialindex-src\\\" -DPACKAGE_VERSION=\\\"1.8.5\\\" -DPACKAGE_STRING=\\\"spatialindex\\ 1.8.5\\\" -DPACKAGE_BUGREPORT=\\\"mhadji@gmail.com\\\" -DPACKAGE_URL=\\\"\\\" -DSTDC_HEADERS=1 -DHAVE_SYS_TYPES_H=1 -DHAVE_SYS_STAT_H=1 -DHAVE_STDLIB_H=1 -DHAVE_STRING_H=1 -DHAVE_MEMORY_H=1 -DHAVE_STRINGS_H=1 -DHAVE_INTTYPES_H=1 -DHAVE_STDINT_H=1 -DHAVE_UNISTD_H=1 -DHAVE_DLFCN_H=1 -DLT_OBJDIR=\\\".libs/\\\" -DPACKAGE=\\\"spatialindex-src\\\" -DVERSION=\\\"1.8.5\\\" -DHAVE_FCNTL_H=1 -DHAVE_UNISTD_H=1 -DHAVE_SYS_TYPES_H=1 -DHAVE_SYS_STAT_H=1 -DHAVE_PTHREAD_H=1 -DHAVE_SYS_RESOURCE_H=1 -DHAVE_SYS_TIME_H=1 -DHAVE_STDINT_H=1 -DHAVE_FEATURES_H=1 -DHAVE_GETTIMEOFDAY=1 -DHAVE_MEMSET=1 -DHAVE_MEMCPY=1 -DHAVE_BCOPY=1 -DHAVE_SRAND48=1 -I. -I../../include     -Wall -Wno-long-long -pedantic -std=c++98  -O2 -DNDEBUG -MT Node.lo -MD -MP -MF $depbase.Tpo -c -o Node.lo Node.cc &&\\\n",
            "mv -f $depbase.Tpo $depbase.Plo\n",
            "libtool: compile:  g++ -DPACKAGE_NAME=\\\"spatialindex\\\" -DPACKAGE_TARNAME=\\\"spatialindex-src\\\" -DPACKAGE_VERSION=\\\"1.8.5\\\" \"-DPACKAGE_STRING=\\\"spatialindex 1.8.5\\\"\" -DPACKAGE_BUGREPORT=\\\"mhadji@gmail.com\\\" -DPACKAGE_URL=\\\"\\\" -DSTDC_HEADERS=1 -DHAVE_SYS_TYPES_H=1 -DHAVE_SYS_STAT_H=1 -DHAVE_STDLIB_H=1 -DHAVE_STRING_H=1 -DHAVE_MEMORY_H=1 -DHAVE_STRINGS_H=1 -DHAVE_INTTYPES_H=1 -DHAVE_STDINT_H=1 -DHAVE_UNISTD_H=1 -DHAVE_DLFCN_H=1 -DLT_OBJDIR=\\\".libs/\\\" -DPACKAGE=\\\"spatialindex-src\\\" -DVERSION=\\\"1.8.5\\\" -DHAVE_FCNTL_H=1 -DHAVE_UNISTD_H=1 -DHAVE_SYS_TYPES_H=1 -DHAVE_SYS_STAT_H=1 -DHAVE_PTHREAD_H=1 -DHAVE_SYS_RESOURCE_H=1 -DHAVE_SYS_TIME_H=1 -DHAVE_STDINT_H=1 -DHAVE_FEATURES_H=1 -DHAVE_GETTIMEOFDAY=1 -DHAVE_MEMSET=1 -DHAVE_MEMCPY=1 -DHAVE_BCOPY=1 -DHAVE_SRAND48=1 -I. -I../../include -Wall -Wno-long-long -pedantic -std=c++98 -O2 -DNDEBUG -MT Node.lo -MD -MP -MF .deps/Node.Tpo -c Node.cc  -fPIC -DPIC -o .libs/Node.o\n",
            "libtool: compile:  g++ -DPACKAGE_NAME=\\\"spatialindex\\\" -DPACKAGE_TARNAME=\\\"spatialindex-src\\\" -DPACKAGE_VERSION=\\\"1.8.5\\\" \"-DPACKAGE_STRING=\\\"spatialindex 1.8.5\\\"\" -DPACKAGE_BUGREPORT=\\\"mhadji@gmail.com\\\" -DPACKAGE_URL=\\\"\\\" -DSTDC_HEADERS=1 -DHAVE_SYS_TYPES_H=1 -DHAVE_SYS_STAT_H=1 -DHAVE_STDLIB_H=1 -DHAVE_STRING_H=1 -DHAVE_MEMORY_H=1 -DHAVE_STRINGS_H=1 -DHAVE_INTTYPES_H=1 -DHAVE_STDINT_H=1 -DHAVE_UNISTD_H=1 -DHAVE_DLFCN_H=1 -DLT_OBJDIR=\\\".libs/\\\" -DPACKAGE=\\\"spatialindex-src\\\" -DVERSION=\\\"1.8.5\\\" -DHAVE_FCNTL_H=1 -DHAVE_UNISTD_H=1 -DHAVE_SYS_TYPES_H=1 -DHAVE_SYS_STAT_H=1 -DHAVE_PTHREAD_H=1 -DHAVE_SYS_RESOURCE_H=1 -DHAVE_SYS_TIME_H=1 -DHAVE_STDINT_H=1 -DHAVE_FEATURES_H=1 -DHAVE_GETTIMEOFDAY=1 -DHAVE_MEMSET=1 -DHAVE_MEMCPY=1 -DHAVE_BCOPY=1 -DHAVE_SRAND48=1 -I. -I../../include -Wall -Wno-long-long -pedantic -std=c++98 -O2 -DNDEBUG -MT Node.lo -MD -MP -MF .deps/Node.Tpo -c Node.cc -o Node.o >/dev/null 2>&1\n",
            "depbase=`echo MVRTree.lo | sed 's|[^/]*$|.deps/&|;s|\\.lo$||'`;\\\n",
            "/bin/bash ../../libtool  --tag=CXX   --mode=compile g++ -DPACKAGE_NAME=\\\"spatialindex\\\" -DPACKAGE_TARNAME=\\\"spatialindex-src\\\" -DPACKAGE_VERSION=\\\"1.8.5\\\" -DPACKAGE_STRING=\\\"spatialindex\\ 1.8.5\\\" -DPACKAGE_BUGREPORT=\\\"mhadji@gmail.com\\\" -DPACKAGE_URL=\\\"\\\" -DSTDC_HEADERS=1 -DHAVE_SYS_TYPES_H=1 -DHAVE_SYS_STAT_H=1 -DHAVE_STDLIB_H=1 -DHAVE_STRING_H=1 -DHAVE_MEMORY_H=1 -DHAVE_STRINGS_H=1 -DHAVE_INTTYPES_H=1 -DHAVE_STDINT_H=1 -DHAVE_UNISTD_H=1 -DHAVE_DLFCN_H=1 -DLT_OBJDIR=\\\".libs/\\\" -DPACKAGE=\\\"spatialindex-src\\\" -DVERSION=\\\"1.8.5\\\" -DHAVE_FCNTL_H=1 -DHAVE_UNISTD_H=1 -DHAVE_SYS_TYPES_H=1 -DHAVE_SYS_STAT_H=1 -DHAVE_PTHREAD_H=1 -DHAVE_SYS_RESOURCE_H=1 -DHAVE_SYS_TIME_H=1 -DHAVE_STDINT_H=1 -DHAVE_FEATURES_H=1 -DHAVE_GETTIMEOFDAY=1 -DHAVE_MEMSET=1 -DHAVE_MEMCPY=1 -DHAVE_BCOPY=1 -DHAVE_SRAND48=1 -I. -I../../include     -Wall -Wno-long-long -pedantic -std=c++98  -O2 -DNDEBUG -MT MVRTree.lo -MD -MP -MF $depbase.Tpo -c -o MVRTree.lo MVRTree.cc &&\\\n",
            "mv -f $depbase.Tpo $depbase.Plo\n",
            "libtool: compile:  g++ -DPACKAGE_NAME=\\\"spatialindex\\\" -DPACKAGE_TARNAME=\\\"spatialindex-src\\\" -DPACKAGE_VERSION=\\\"1.8.5\\\" \"-DPACKAGE_STRING=\\\"spatialindex 1.8.5\\\"\" -DPACKAGE_BUGREPORT=\\\"mhadji@gmail.com\\\" -DPACKAGE_URL=\\\"\\\" -DSTDC_HEADERS=1 -DHAVE_SYS_TYPES_H=1 -DHAVE_SYS_STAT_H=1 -DHAVE_STDLIB_H=1 -DHAVE_STRING_H=1 -DHAVE_MEMORY_H=1 -DHAVE_STRINGS_H=1 -DHAVE_INTTYPES_H=1 -DHAVE_STDINT_H=1 -DHAVE_UNISTD_H=1 -DHAVE_DLFCN_H=1 -DLT_OBJDIR=\\\".libs/\\\" -DPACKAGE=\\\"spatialindex-src\\\" -DVERSION=\\\"1.8.5\\\" -DHAVE_FCNTL_H=1 -DHAVE_UNISTD_H=1 -DHAVE_SYS_TYPES_H=1 -DHAVE_SYS_STAT_H=1 -DHAVE_PTHREAD_H=1 -DHAVE_SYS_RESOURCE_H=1 -DHAVE_SYS_TIME_H=1 -DHAVE_STDINT_H=1 -DHAVE_FEATURES_H=1 -DHAVE_GETTIMEOFDAY=1 -DHAVE_MEMSET=1 -DHAVE_MEMCPY=1 -DHAVE_BCOPY=1 -DHAVE_SRAND48=1 -I. -I../../include -Wall -Wno-long-long -pedantic -std=c++98 -O2 -DNDEBUG -MT MVRTree.lo -MD -MP -MF .deps/MVRTree.Tpo -c MVRTree.cc  -fPIC -DPIC -o .libs/MVRTree.o\n",
            "libtool: compile:  g++ -DPACKAGE_NAME=\\\"spatialindex\\\" -DPACKAGE_TARNAME=\\\"spatialindex-src\\\" -DPACKAGE_VERSION=\\\"1.8.5\\\" \"-DPACKAGE_STRING=\\\"spatialindex 1.8.5\\\"\" -DPACKAGE_BUGREPORT=\\\"mhadji@gmail.com\\\" -DPACKAGE_URL=\\\"\\\" -DSTDC_HEADERS=1 -DHAVE_SYS_TYPES_H=1 -DHAVE_SYS_STAT_H=1 -DHAVE_STDLIB_H=1 -DHAVE_STRING_H=1 -DHAVE_MEMORY_H=1 -DHAVE_STRINGS_H=1 -DHAVE_INTTYPES_H=1 -DHAVE_STDINT_H=1 -DHAVE_UNISTD_H=1 -DHAVE_DLFCN_H=1 -DLT_OBJDIR=\\\".libs/\\\" -DPACKAGE=\\\"spatialindex-src\\\" -DVERSION=\\\"1.8.5\\\" -DHAVE_FCNTL_H=1 -DHAVE_UNISTD_H=1 -DHAVE_SYS_TYPES_H=1 -DHAVE_SYS_STAT_H=1 -DHAVE_PTHREAD_H=1 -DHAVE_SYS_RESOURCE_H=1 -DHAVE_SYS_TIME_H=1 -DHAVE_STDINT_H=1 -DHAVE_FEATURES_H=1 -DHAVE_GETTIMEOFDAY=1 -DHAVE_MEMSET=1 -DHAVE_MEMCPY=1 -DHAVE_BCOPY=1 -DHAVE_SRAND48=1 -I. -I../../include -Wall -Wno-long-long -pedantic -std=c++98 -O2 -DNDEBUG -MT MVRTree.lo -MD -MP -MF .deps/MVRTree.Tpo -c MVRTree.cc -o MVRTree.o >/dev/null 2>&1\n",
            "depbase=`echo Statistics.lo | sed 's|[^/]*$|.deps/&|;s|\\.lo$||'`;\\\n",
            "/bin/bash ../../libtool  --tag=CXX   --mode=compile g++ -DPACKAGE_NAME=\\\"spatialindex\\\" -DPACKAGE_TARNAME=\\\"spatialindex-src\\\" -DPACKAGE_VERSION=\\\"1.8.5\\\" -DPACKAGE_STRING=\\\"spatialindex\\ 1.8.5\\\" -DPACKAGE_BUGREPORT=\\\"mhadji@gmail.com\\\" -DPACKAGE_URL=\\\"\\\" -DSTDC_HEADERS=1 -DHAVE_SYS_TYPES_H=1 -DHAVE_SYS_STAT_H=1 -DHAVE_STDLIB_H=1 -DHAVE_STRING_H=1 -DHAVE_MEMORY_H=1 -DHAVE_STRINGS_H=1 -DHAVE_INTTYPES_H=1 -DHAVE_STDINT_H=1 -DHAVE_UNISTD_H=1 -DHAVE_DLFCN_H=1 -DLT_OBJDIR=\\\".libs/\\\" -DPACKAGE=\\\"spatialindex-src\\\" -DVERSION=\\\"1.8.5\\\" -DHAVE_FCNTL_H=1 -DHAVE_UNISTD_H=1 -DHAVE_SYS_TYPES_H=1 -DHAVE_SYS_STAT_H=1 -DHAVE_PTHREAD_H=1 -DHAVE_SYS_RESOURCE_H=1 -DHAVE_SYS_TIME_H=1 -DHAVE_STDINT_H=1 -DHAVE_FEATURES_H=1 -DHAVE_GETTIMEOFDAY=1 -DHAVE_MEMSET=1 -DHAVE_MEMCPY=1 -DHAVE_BCOPY=1 -DHAVE_SRAND48=1 -I. -I../../include     -Wall -Wno-long-long -pedantic -std=c++98  -O2 -DNDEBUG -MT Statistics.lo -MD -MP -MF $depbase.Tpo -c -o Statistics.lo Statistics.cc &&\\\n",
            "mv -f $depbase.Tpo $depbase.Plo\n",
            "libtool: compile:  g++ -DPACKAGE_NAME=\\\"spatialindex\\\" -DPACKAGE_TARNAME=\\\"spatialindex-src\\\" -DPACKAGE_VERSION=\\\"1.8.5\\\" \"-DPACKAGE_STRING=\\\"spatialindex 1.8.5\\\"\" -DPACKAGE_BUGREPORT=\\\"mhadji@gmail.com\\\" -DPACKAGE_URL=\\\"\\\" -DSTDC_HEADERS=1 -DHAVE_SYS_TYPES_H=1 -DHAVE_SYS_STAT_H=1 -DHAVE_STDLIB_H=1 -DHAVE_STRING_H=1 -DHAVE_MEMORY_H=1 -DHAVE_STRINGS_H=1 -DHAVE_INTTYPES_H=1 -DHAVE_STDINT_H=1 -DHAVE_UNISTD_H=1 -DHAVE_DLFCN_H=1 -DLT_OBJDIR=\\\".libs/\\\" -DPACKAGE=\\\"spatialindex-src\\\" -DVERSION=\\\"1.8.5\\\" -DHAVE_FCNTL_H=1 -DHAVE_UNISTD_H=1 -DHAVE_SYS_TYPES_H=1 -DHAVE_SYS_STAT_H=1 -DHAVE_PTHREAD_H=1 -DHAVE_SYS_RESOURCE_H=1 -DHAVE_SYS_TIME_H=1 -DHAVE_STDINT_H=1 -DHAVE_FEATURES_H=1 -DHAVE_GETTIMEOFDAY=1 -DHAVE_MEMSET=1 -DHAVE_MEMCPY=1 -DHAVE_BCOPY=1 -DHAVE_SRAND48=1 -I. -I../../include -Wall -Wno-long-long -pedantic -std=c++98 -O2 -DNDEBUG -MT Statistics.lo -MD -MP -MF .deps/Statistics.Tpo -c Statistics.cc  -fPIC -DPIC -o .libs/Statistics.o\n",
            "libtool: compile:  g++ -DPACKAGE_NAME=\\\"spatialindex\\\" -DPACKAGE_TARNAME=\\\"spatialindex-src\\\" -DPACKAGE_VERSION=\\\"1.8.5\\\" \"-DPACKAGE_STRING=\\\"spatialindex 1.8.5\\\"\" -DPACKAGE_BUGREPORT=\\\"mhadji@gmail.com\\\" -DPACKAGE_URL=\\\"\\\" -DSTDC_HEADERS=1 -DHAVE_SYS_TYPES_H=1 -DHAVE_SYS_STAT_H=1 -DHAVE_STDLIB_H=1 -DHAVE_STRING_H=1 -DHAVE_MEMORY_H=1 -DHAVE_STRINGS_H=1 -DHAVE_INTTYPES_H=1 -DHAVE_STDINT_H=1 -DHAVE_UNISTD_H=1 -DHAVE_DLFCN_H=1 -DLT_OBJDIR=\\\".libs/\\\" -DPACKAGE=\\\"spatialindex-src\\\" -DVERSION=\\\"1.8.5\\\" -DHAVE_FCNTL_H=1 -DHAVE_UNISTD_H=1 -DHAVE_SYS_TYPES_H=1 -DHAVE_SYS_STAT_H=1 -DHAVE_PTHREAD_H=1 -DHAVE_SYS_RESOURCE_H=1 -DHAVE_SYS_TIME_H=1 -DHAVE_STDINT_H=1 -DHAVE_FEATURES_H=1 -DHAVE_GETTIMEOFDAY=1 -DHAVE_MEMSET=1 -DHAVE_MEMCPY=1 -DHAVE_BCOPY=1 -DHAVE_SRAND48=1 -I. -I../../include -Wall -Wno-long-long -pedantic -std=c++98 -O2 -DNDEBUG -MT Statistics.lo -MD -MP -MF .deps/Statistics.Tpo -c Statistics.cc -o Statistics.o >/dev/null 2>&1\n",
            "/bin/bash ../../libtool  --tag=CXX   --mode=link g++  -Wall -Wno-long-long -pedantic -std=c++98  -O2 -DNDEBUG   -o libmvrtree.la  Index.lo Leaf.lo Node.lo MVRTree.lo Statistics.lo  -lpthread\n",
            "libtool: link: ar cru .libs/libmvrtree.a .libs/Index.o .libs/Leaf.o .libs/Node.o .libs/MVRTree.o .libs/Statistics.o \n",
            "ar: `u' modifier ignored since `D' is the default (see `U')\n",
            "libtool: link: ranlib .libs/libmvrtree.a\n",
            "libtool: link: ( cd \".libs\" && rm -f \"libmvrtree.la\" && ln -s \"../libmvrtree.la\" \"libmvrtree.la\" )\n",
            "make[2]: Leaving directory '/content/spatialindex-src-1.8.5/src/mvrtree'\n",
            "Making all in tprtree\n",
            "make[2]: Entering directory '/content/spatialindex-src-1.8.5/src/tprtree'\n",
            "depbase=`echo Index.lo | sed 's|[^/]*$|.deps/&|;s|\\.lo$||'`;\\\n",
            "/bin/bash ../../libtool  --tag=CXX   --mode=compile g++ -DPACKAGE_NAME=\\\"spatialindex\\\" -DPACKAGE_TARNAME=\\\"spatialindex-src\\\" -DPACKAGE_VERSION=\\\"1.8.5\\\" -DPACKAGE_STRING=\\\"spatialindex\\ 1.8.5\\\" -DPACKAGE_BUGREPORT=\\\"mhadji@gmail.com\\\" -DPACKAGE_URL=\\\"\\\" -DSTDC_HEADERS=1 -DHAVE_SYS_TYPES_H=1 -DHAVE_SYS_STAT_H=1 -DHAVE_STDLIB_H=1 -DHAVE_STRING_H=1 -DHAVE_MEMORY_H=1 -DHAVE_STRINGS_H=1 -DHAVE_INTTYPES_H=1 -DHAVE_STDINT_H=1 -DHAVE_UNISTD_H=1 -DHAVE_DLFCN_H=1 -DLT_OBJDIR=\\\".libs/\\\" -DPACKAGE=\\\"spatialindex-src\\\" -DVERSION=\\\"1.8.5\\\" -DHAVE_FCNTL_H=1 -DHAVE_UNISTD_H=1 -DHAVE_SYS_TYPES_H=1 -DHAVE_SYS_STAT_H=1 -DHAVE_PTHREAD_H=1 -DHAVE_SYS_RESOURCE_H=1 -DHAVE_SYS_TIME_H=1 -DHAVE_STDINT_H=1 -DHAVE_FEATURES_H=1 -DHAVE_GETTIMEOFDAY=1 -DHAVE_MEMSET=1 -DHAVE_MEMCPY=1 -DHAVE_BCOPY=1 -DHAVE_SRAND48=1 -I. -I../../include     -Wall -Wno-long-long -pedantic -std=c++98  -O2 -DNDEBUG -MT Index.lo -MD -MP -MF $depbase.Tpo -c -o Index.lo Index.cc &&\\\n",
            "mv -f $depbase.Tpo $depbase.Plo\n",
            "libtool: compile:  g++ -DPACKAGE_NAME=\\\"spatialindex\\\" -DPACKAGE_TARNAME=\\\"spatialindex-src\\\" -DPACKAGE_VERSION=\\\"1.8.5\\\" \"-DPACKAGE_STRING=\\\"spatialindex 1.8.5\\\"\" -DPACKAGE_BUGREPORT=\\\"mhadji@gmail.com\\\" -DPACKAGE_URL=\\\"\\\" -DSTDC_HEADERS=1 -DHAVE_SYS_TYPES_H=1 -DHAVE_SYS_STAT_H=1 -DHAVE_STDLIB_H=1 -DHAVE_STRING_H=1 -DHAVE_MEMORY_H=1 -DHAVE_STRINGS_H=1 -DHAVE_INTTYPES_H=1 -DHAVE_STDINT_H=1 -DHAVE_UNISTD_H=1 -DHAVE_DLFCN_H=1 -DLT_OBJDIR=\\\".libs/\\\" -DPACKAGE=\\\"spatialindex-src\\\" -DVERSION=\\\"1.8.5\\\" -DHAVE_FCNTL_H=1 -DHAVE_UNISTD_H=1 -DHAVE_SYS_TYPES_H=1 -DHAVE_SYS_STAT_H=1 -DHAVE_PTHREAD_H=1 -DHAVE_SYS_RESOURCE_H=1 -DHAVE_SYS_TIME_H=1 -DHAVE_STDINT_H=1 -DHAVE_FEATURES_H=1 -DHAVE_GETTIMEOFDAY=1 -DHAVE_MEMSET=1 -DHAVE_MEMCPY=1 -DHAVE_BCOPY=1 -DHAVE_SRAND48=1 -I. -I../../include -Wall -Wno-long-long -pedantic -std=c++98 -O2 -DNDEBUG -MT Index.lo -MD -MP -MF .deps/Index.Tpo -c Index.cc  -fPIC -DPIC -o .libs/Index.o\n",
            "libtool: compile:  g++ -DPACKAGE_NAME=\\\"spatialindex\\\" -DPACKAGE_TARNAME=\\\"spatialindex-src\\\" -DPACKAGE_VERSION=\\\"1.8.5\\\" \"-DPACKAGE_STRING=\\\"spatialindex 1.8.5\\\"\" -DPACKAGE_BUGREPORT=\\\"mhadji@gmail.com\\\" -DPACKAGE_URL=\\\"\\\" -DSTDC_HEADERS=1 -DHAVE_SYS_TYPES_H=1 -DHAVE_SYS_STAT_H=1 -DHAVE_STDLIB_H=1 -DHAVE_STRING_H=1 -DHAVE_MEMORY_H=1 -DHAVE_STRINGS_H=1 -DHAVE_INTTYPES_H=1 -DHAVE_STDINT_H=1 -DHAVE_UNISTD_H=1 -DHAVE_DLFCN_H=1 -DLT_OBJDIR=\\\".libs/\\\" -DPACKAGE=\\\"spatialindex-src\\\" -DVERSION=\\\"1.8.5\\\" -DHAVE_FCNTL_H=1 -DHAVE_UNISTD_H=1 -DHAVE_SYS_TYPES_H=1 -DHAVE_SYS_STAT_H=1 -DHAVE_PTHREAD_H=1 -DHAVE_SYS_RESOURCE_H=1 -DHAVE_SYS_TIME_H=1 -DHAVE_STDINT_H=1 -DHAVE_FEATURES_H=1 -DHAVE_GETTIMEOFDAY=1 -DHAVE_MEMSET=1 -DHAVE_MEMCPY=1 -DHAVE_BCOPY=1 -DHAVE_SRAND48=1 -I. -I../../include -Wall -Wno-long-long -pedantic -std=c++98 -O2 -DNDEBUG -MT Index.lo -MD -MP -MF .deps/Index.Tpo -c Index.cc -o Index.o >/dev/null 2>&1\n",
            "depbase=`echo Leaf.lo | sed 's|[^/]*$|.deps/&|;s|\\.lo$||'`;\\\n",
            "/bin/bash ../../libtool  --tag=CXX   --mode=compile g++ -DPACKAGE_NAME=\\\"spatialindex\\\" -DPACKAGE_TARNAME=\\\"spatialindex-src\\\" -DPACKAGE_VERSION=\\\"1.8.5\\\" -DPACKAGE_STRING=\\\"spatialindex\\ 1.8.5\\\" -DPACKAGE_BUGREPORT=\\\"mhadji@gmail.com\\\" -DPACKAGE_URL=\\\"\\\" -DSTDC_HEADERS=1 -DHAVE_SYS_TYPES_H=1 -DHAVE_SYS_STAT_H=1 -DHAVE_STDLIB_H=1 -DHAVE_STRING_H=1 -DHAVE_MEMORY_H=1 -DHAVE_STRINGS_H=1 -DHAVE_INTTYPES_H=1 -DHAVE_STDINT_H=1 -DHAVE_UNISTD_H=1 -DHAVE_DLFCN_H=1 -DLT_OBJDIR=\\\".libs/\\\" -DPACKAGE=\\\"spatialindex-src\\\" -DVERSION=\\\"1.8.5\\\" -DHAVE_FCNTL_H=1 -DHAVE_UNISTD_H=1 -DHAVE_SYS_TYPES_H=1 -DHAVE_SYS_STAT_H=1 -DHAVE_PTHREAD_H=1 -DHAVE_SYS_RESOURCE_H=1 -DHAVE_SYS_TIME_H=1 -DHAVE_STDINT_H=1 -DHAVE_FEATURES_H=1 -DHAVE_GETTIMEOFDAY=1 -DHAVE_MEMSET=1 -DHAVE_MEMCPY=1 -DHAVE_BCOPY=1 -DHAVE_SRAND48=1 -I. -I../../include     -Wall -Wno-long-long -pedantic -std=c++98  -O2 -DNDEBUG -MT Leaf.lo -MD -MP -MF $depbase.Tpo -c -o Leaf.lo Leaf.cc &&\\\n",
            "mv -f $depbase.Tpo $depbase.Plo\n",
            "libtool: compile:  g++ -DPACKAGE_NAME=\\\"spatialindex\\\" -DPACKAGE_TARNAME=\\\"spatialindex-src\\\" -DPACKAGE_VERSION=\\\"1.8.5\\\" \"-DPACKAGE_STRING=\\\"spatialindex 1.8.5\\\"\" -DPACKAGE_BUGREPORT=\\\"mhadji@gmail.com\\\" -DPACKAGE_URL=\\\"\\\" -DSTDC_HEADERS=1 -DHAVE_SYS_TYPES_H=1 -DHAVE_SYS_STAT_H=1 -DHAVE_STDLIB_H=1 -DHAVE_STRING_H=1 -DHAVE_MEMORY_H=1 -DHAVE_STRINGS_H=1 -DHAVE_INTTYPES_H=1 -DHAVE_STDINT_H=1 -DHAVE_UNISTD_H=1 -DHAVE_DLFCN_H=1 -DLT_OBJDIR=\\\".libs/\\\" -DPACKAGE=\\\"spatialindex-src\\\" -DVERSION=\\\"1.8.5\\\" -DHAVE_FCNTL_H=1 -DHAVE_UNISTD_H=1 -DHAVE_SYS_TYPES_H=1 -DHAVE_SYS_STAT_H=1 -DHAVE_PTHREAD_H=1 -DHAVE_SYS_RESOURCE_H=1 -DHAVE_SYS_TIME_H=1 -DHAVE_STDINT_H=1 -DHAVE_FEATURES_H=1 -DHAVE_GETTIMEOFDAY=1 -DHAVE_MEMSET=1 -DHAVE_MEMCPY=1 -DHAVE_BCOPY=1 -DHAVE_SRAND48=1 -I. -I../../include -Wall -Wno-long-long -pedantic -std=c++98 -O2 -DNDEBUG -MT Leaf.lo -MD -MP -MF .deps/Leaf.Tpo -c Leaf.cc  -fPIC -DPIC -o .libs/Leaf.o\n",
            "libtool: compile:  g++ -DPACKAGE_NAME=\\\"spatialindex\\\" -DPACKAGE_TARNAME=\\\"spatialindex-src\\\" -DPACKAGE_VERSION=\\\"1.8.5\\\" \"-DPACKAGE_STRING=\\\"spatialindex 1.8.5\\\"\" -DPACKAGE_BUGREPORT=\\\"mhadji@gmail.com\\\" -DPACKAGE_URL=\\\"\\\" -DSTDC_HEADERS=1 -DHAVE_SYS_TYPES_H=1 -DHAVE_SYS_STAT_H=1 -DHAVE_STDLIB_H=1 -DHAVE_STRING_H=1 -DHAVE_MEMORY_H=1 -DHAVE_STRINGS_H=1 -DHAVE_INTTYPES_H=1 -DHAVE_STDINT_H=1 -DHAVE_UNISTD_H=1 -DHAVE_DLFCN_H=1 -DLT_OBJDIR=\\\".libs/\\\" -DPACKAGE=\\\"spatialindex-src\\\" -DVERSION=\\\"1.8.5\\\" -DHAVE_FCNTL_H=1 -DHAVE_UNISTD_H=1 -DHAVE_SYS_TYPES_H=1 -DHAVE_SYS_STAT_H=1 -DHAVE_PTHREAD_H=1 -DHAVE_SYS_RESOURCE_H=1 -DHAVE_SYS_TIME_H=1 -DHAVE_STDINT_H=1 -DHAVE_FEATURES_H=1 -DHAVE_GETTIMEOFDAY=1 -DHAVE_MEMSET=1 -DHAVE_MEMCPY=1 -DHAVE_BCOPY=1 -DHAVE_SRAND48=1 -I. -I../../include -Wall -Wno-long-long -pedantic -std=c++98 -O2 -DNDEBUG -MT Leaf.lo -MD -MP -MF .deps/Leaf.Tpo -c Leaf.cc -o Leaf.o >/dev/null 2>&1\n",
            "depbase=`echo Node.lo | sed 's|[^/]*$|.deps/&|;s|\\.lo$||'`;\\\n",
            "/bin/bash ../../libtool  --tag=CXX   --mode=compile g++ -DPACKAGE_NAME=\\\"spatialindex\\\" -DPACKAGE_TARNAME=\\\"spatialindex-src\\\" -DPACKAGE_VERSION=\\\"1.8.5\\\" -DPACKAGE_STRING=\\\"spatialindex\\ 1.8.5\\\" -DPACKAGE_BUGREPORT=\\\"mhadji@gmail.com\\\" -DPACKAGE_URL=\\\"\\\" -DSTDC_HEADERS=1 -DHAVE_SYS_TYPES_H=1 -DHAVE_SYS_STAT_H=1 -DHAVE_STDLIB_H=1 -DHAVE_STRING_H=1 -DHAVE_MEMORY_H=1 -DHAVE_STRINGS_H=1 -DHAVE_INTTYPES_H=1 -DHAVE_STDINT_H=1 -DHAVE_UNISTD_H=1 -DHAVE_DLFCN_H=1 -DLT_OBJDIR=\\\".libs/\\\" -DPACKAGE=\\\"spatialindex-src\\\" -DVERSION=\\\"1.8.5\\\" -DHAVE_FCNTL_H=1 -DHAVE_UNISTD_H=1 -DHAVE_SYS_TYPES_H=1 -DHAVE_SYS_STAT_H=1 -DHAVE_PTHREAD_H=1 -DHAVE_SYS_RESOURCE_H=1 -DHAVE_SYS_TIME_H=1 -DHAVE_STDINT_H=1 -DHAVE_FEATURES_H=1 -DHAVE_GETTIMEOFDAY=1 -DHAVE_MEMSET=1 -DHAVE_MEMCPY=1 -DHAVE_BCOPY=1 -DHAVE_SRAND48=1 -I. -I../../include     -Wall -Wno-long-long -pedantic -std=c++98  -O2 -DNDEBUG -MT Node.lo -MD -MP -MF $depbase.Tpo -c -o Node.lo Node.cc &&\\\n",
            "mv -f $depbase.Tpo $depbase.Plo\n",
            "libtool: compile:  g++ -DPACKAGE_NAME=\\\"spatialindex\\\" -DPACKAGE_TARNAME=\\\"spatialindex-src\\\" -DPACKAGE_VERSION=\\\"1.8.5\\\" \"-DPACKAGE_STRING=\\\"spatialindex 1.8.5\\\"\" -DPACKAGE_BUGREPORT=\\\"mhadji@gmail.com\\\" -DPACKAGE_URL=\\\"\\\" -DSTDC_HEADERS=1 -DHAVE_SYS_TYPES_H=1 -DHAVE_SYS_STAT_H=1 -DHAVE_STDLIB_H=1 -DHAVE_STRING_H=1 -DHAVE_MEMORY_H=1 -DHAVE_STRINGS_H=1 -DHAVE_INTTYPES_H=1 -DHAVE_STDINT_H=1 -DHAVE_UNISTD_H=1 -DHAVE_DLFCN_H=1 -DLT_OBJDIR=\\\".libs/\\\" -DPACKAGE=\\\"spatialindex-src\\\" -DVERSION=\\\"1.8.5\\\" -DHAVE_FCNTL_H=1 -DHAVE_UNISTD_H=1 -DHAVE_SYS_TYPES_H=1 -DHAVE_SYS_STAT_H=1 -DHAVE_PTHREAD_H=1 -DHAVE_SYS_RESOURCE_H=1 -DHAVE_SYS_TIME_H=1 -DHAVE_STDINT_H=1 -DHAVE_FEATURES_H=1 -DHAVE_GETTIMEOFDAY=1 -DHAVE_MEMSET=1 -DHAVE_MEMCPY=1 -DHAVE_BCOPY=1 -DHAVE_SRAND48=1 -I. -I../../include -Wall -Wno-long-long -pedantic -std=c++98 -O2 -DNDEBUG -MT Node.lo -MD -MP -MF .deps/Node.Tpo -c Node.cc  -fPIC -DPIC -o .libs/Node.o\n",
            "libtool: compile:  g++ -DPACKAGE_NAME=\\\"spatialindex\\\" -DPACKAGE_TARNAME=\\\"spatialindex-src\\\" -DPACKAGE_VERSION=\\\"1.8.5\\\" \"-DPACKAGE_STRING=\\\"spatialindex 1.8.5\\\"\" -DPACKAGE_BUGREPORT=\\\"mhadji@gmail.com\\\" -DPACKAGE_URL=\\\"\\\" -DSTDC_HEADERS=1 -DHAVE_SYS_TYPES_H=1 -DHAVE_SYS_STAT_H=1 -DHAVE_STDLIB_H=1 -DHAVE_STRING_H=1 -DHAVE_MEMORY_H=1 -DHAVE_STRINGS_H=1 -DHAVE_INTTYPES_H=1 -DHAVE_STDINT_H=1 -DHAVE_UNISTD_H=1 -DHAVE_DLFCN_H=1 -DLT_OBJDIR=\\\".libs/\\\" -DPACKAGE=\\\"spatialindex-src\\\" -DVERSION=\\\"1.8.5\\\" -DHAVE_FCNTL_H=1 -DHAVE_UNISTD_H=1 -DHAVE_SYS_TYPES_H=1 -DHAVE_SYS_STAT_H=1 -DHAVE_PTHREAD_H=1 -DHAVE_SYS_RESOURCE_H=1 -DHAVE_SYS_TIME_H=1 -DHAVE_STDINT_H=1 -DHAVE_FEATURES_H=1 -DHAVE_GETTIMEOFDAY=1 -DHAVE_MEMSET=1 -DHAVE_MEMCPY=1 -DHAVE_BCOPY=1 -DHAVE_SRAND48=1 -I. -I../../include -Wall -Wno-long-long -pedantic -std=c++98 -O2 -DNDEBUG -MT Node.lo -MD -MP -MF .deps/Node.Tpo -c Node.cc -o Node.o >/dev/null 2>&1\n",
            "depbase=`echo TPRTree.lo | sed 's|[^/]*$|.deps/&|;s|\\.lo$||'`;\\\n",
            "/bin/bash ../../libtool  --tag=CXX   --mode=compile g++ -DPACKAGE_NAME=\\\"spatialindex\\\" -DPACKAGE_TARNAME=\\\"spatialindex-src\\\" -DPACKAGE_VERSION=\\\"1.8.5\\\" -DPACKAGE_STRING=\\\"spatialindex\\ 1.8.5\\\" -DPACKAGE_BUGREPORT=\\\"mhadji@gmail.com\\\" -DPACKAGE_URL=\\\"\\\" -DSTDC_HEADERS=1 -DHAVE_SYS_TYPES_H=1 -DHAVE_SYS_STAT_H=1 -DHAVE_STDLIB_H=1 -DHAVE_STRING_H=1 -DHAVE_MEMORY_H=1 -DHAVE_STRINGS_H=1 -DHAVE_INTTYPES_H=1 -DHAVE_STDINT_H=1 -DHAVE_UNISTD_H=1 -DHAVE_DLFCN_H=1 -DLT_OBJDIR=\\\".libs/\\\" -DPACKAGE=\\\"spatialindex-src\\\" -DVERSION=\\\"1.8.5\\\" -DHAVE_FCNTL_H=1 -DHAVE_UNISTD_H=1 -DHAVE_SYS_TYPES_H=1 -DHAVE_SYS_STAT_H=1 -DHAVE_PTHREAD_H=1 -DHAVE_SYS_RESOURCE_H=1 -DHAVE_SYS_TIME_H=1 -DHAVE_STDINT_H=1 -DHAVE_FEATURES_H=1 -DHAVE_GETTIMEOFDAY=1 -DHAVE_MEMSET=1 -DHAVE_MEMCPY=1 -DHAVE_BCOPY=1 -DHAVE_SRAND48=1 -I. -I../../include     -Wall -Wno-long-long -pedantic -std=c++98  -O2 -DNDEBUG -MT TPRTree.lo -MD -MP -MF $depbase.Tpo -c -o TPRTree.lo TPRTree.cc &&\\\n",
            "mv -f $depbase.Tpo $depbase.Plo\n",
            "libtool: compile:  g++ -DPACKAGE_NAME=\\\"spatialindex\\\" -DPACKAGE_TARNAME=\\\"spatialindex-src\\\" -DPACKAGE_VERSION=\\\"1.8.5\\\" \"-DPACKAGE_STRING=\\\"spatialindex 1.8.5\\\"\" -DPACKAGE_BUGREPORT=\\\"mhadji@gmail.com\\\" -DPACKAGE_URL=\\\"\\\" -DSTDC_HEADERS=1 -DHAVE_SYS_TYPES_H=1 -DHAVE_SYS_STAT_H=1 -DHAVE_STDLIB_H=1 -DHAVE_STRING_H=1 -DHAVE_MEMORY_H=1 -DHAVE_STRINGS_H=1 -DHAVE_INTTYPES_H=1 -DHAVE_STDINT_H=1 -DHAVE_UNISTD_H=1 -DHAVE_DLFCN_H=1 -DLT_OBJDIR=\\\".libs/\\\" -DPACKAGE=\\\"spatialindex-src\\\" -DVERSION=\\\"1.8.5\\\" -DHAVE_FCNTL_H=1 -DHAVE_UNISTD_H=1 -DHAVE_SYS_TYPES_H=1 -DHAVE_SYS_STAT_H=1 -DHAVE_PTHREAD_H=1 -DHAVE_SYS_RESOURCE_H=1 -DHAVE_SYS_TIME_H=1 -DHAVE_STDINT_H=1 -DHAVE_FEATURES_H=1 -DHAVE_GETTIMEOFDAY=1 -DHAVE_MEMSET=1 -DHAVE_MEMCPY=1 -DHAVE_BCOPY=1 -DHAVE_SRAND48=1 -I. -I../../include -Wall -Wno-long-long -pedantic -std=c++98 -O2 -DNDEBUG -MT TPRTree.lo -MD -MP -MF .deps/TPRTree.Tpo -c TPRTree.cc  -fPIC -DPIC -o .libs/TPRTree.o\n",
            "libtool: compile:  g++ -DPACKAGE_NAME=\\\"spatialindex\\\" -DPACKAGE_TARNAME=\\\"spatialindex-src\\\" -DPACKAGE_VERSION=\\\"1.8.5\\\" \"-DPACKAGE_STRING=\\\"spatialindex 1.8.5\\\"\" -DPACKAGE_BUGREPORT=\\\"mhadji@gmail.com\\\" -DPACKAGE_URL=\\\"\\\" -DSTDC_HEADERS=1 -DHAVE_SYS_TYPES_H=1 -DHAVE_SYS_STAT_H=1 -DHAVE_STDLIB_H=1 -DHAVE_STRING_H=1 -DHAVE_MEMORY_H=1 -DHAVE_STRINGS_H=1 -DHAVE_INTTYPES_H=1 -DHAVE_STDINT_H=1 -DHAVE_UNISTD_H=1 -DHAVE_DLFCN_H=1 -DLT_OBJDIR=\\\".libs/\\\" -DPACKAGE=\\\"spatialindex-src\\\" -DVERSION=\\\"1.8.5\\\" -DHAVE_FCNTL_H=1 -DHAVE_UNISTD_H=1 -DHAVE_SYS_TYPES_H=1 -DHAVE_SYS_STAT_H=1 -DHAVE_PTHREAD_H=1 -DHAVE_SYS_RESOURCE_H=1 -DHAVE_SYS_TIME_H=1 -DHAVE_STDINT_H=1 -DHAVE_FEATURES_H=1 -DHAVE_GETTIMEOFDAY=1 -DHAVE_MEMSET=1 -DHAVE_MEMCPY=1 -DHAVE_BCOPY=1 -DHAVE_SRAND48=1 -I. -I../../include -Wall -Wno-long-long -pedantic -std=c++98 -O2 -DNDEBUG -MT TPRTree.lo -MD -MP -MF .deps/TPRTree.Tpo -c TPRTree.cc -o TPRTree.o >/dev/null 2>&1\n",
            "depbase=`echo Statistics.lo | sed 's|[^/]*$|.deps/&|;s|\\.lo$||'`;\\\n",
            "/bin/bash ../../libtool  --tag=CXX   --mode=compile g++ -DPACKAGE_NAME=\\\"spatialindex\\\" -DPACKAGE_TARNAME=\\\"spatialindex-src\\\" -DPACKAGE_VERSION=\\\"1.8.5\\\" -DPACKAGE_STRING=\\\"spatialindex\\ 1.8.5\\\" -DPACKAGE_BUGREPORT=\\\"mhadji@gmail.com\\\" -DPACKAGE_URL=\\\"\\\" -DSTDC_HEADERS=1 -DHAVE_SYS_TYPES_H=1 -DHAVE_SYS_STAT_H=1 -DHAVE_STDLIB_H=1 -DHAVE_STRING_H=1 -DHAVE_MEMORY_H=1 -DHAVE_STRINGS_H=1 -DHAVE_INTTYPES_H=1 -DHAVE_STDINT_H=1 -DHAVE_UNISTD_H=1 -DHAVE_DLFCN_H=1 -DLT_OBJDIR=\\\".libs/\\\" -DPACKAGE=\\\"spatialindex-src\\\" -DVERSION=\\\"1.8.5\\\" -DHAVE_FCNTL_H=1 -DHAVE_UNISTD_H=1 -DHAVE_SYS_TYPES_H=1 -DHAVE_SYS_STAT_H=1 -DHAVE_PTHREAD_H=1 -DHAVE_SYS_RESOURCE_H=1 -DHAVE_SYS_TIME_H=1 -DHAVE_STDINT_H=1 -DHAVE_FEATURES_H=1 -DHAVE_GETTIMEOFDAY=1 -DHAVE_MEMSET=1 -DHAVE_MEMCPY=1 -DHAVE_BCOPY=1 -DHAVE_SRAND48=1 -I. -I../../include     -Wall -Wno-long-long -pedantic -std=c++98  -O2 -DNDEBUG -MT Statistics.lo -MD -MP -MF $depbase.Tpo -c -o Statistics.lo Statistics.cc &&\\\n",
            "mv -f $depbase.Tpo $depbase.Plo\n",
            "libtool: compile:  g++ -DPACKAGE_NAME=\\\"spatialindex\\\" -DPACKAGE_TARNAME=\\\"spatialindex-src\\\" -DPACKAGE_VERSION=\\\"1.8.5\\\" \"-DPACKAGE_STRING=\\\"spatialindex 1.8.5\\\"\" -DPACKAGE_BUGREPORT=\\\"mhadji@gmail.com\\\" -DPACKAGE_URL=\\\"\\\" -DSTDC_HEADERS=1 -DHAVE_SYS_TYPES_H=1 -DHAVE_SYS_STAT_H=1 -DHAVE_STDLIB_H=1 -DHAVE_STRING_H=1 -DHAVE_MEMORY_H=1 -DHAVE_STRINGS_H=1 -DHAVE_INTTYPES_H=1 -DHAVE_STDINT_H=1 -DHAVE_UNISTD_H=1 -DHAVE_DLFCN_H=1 -DLT_OBJDIR=\\\".libs/\\\" -DPACKAGE=\\\"spatialindex-src\\\" -DVERSION=\\\"1.8.5\\\" -DHAVE_FCNTL_H=1 -DHAVE_UNISTD_H=1 -DHAVE_SYS_TYPES_H=1 -DHAVE_SYS_STAT_H=1 -DHAVE_PTHREAD_H=1 -DHAVE_SYS_RESOURCE_H=1 -DHAVE_SYS_TIME_H=1 -DHAVE_STDINT_H=1 -DHAVE_FEATURES_H=1 -DHAVE_GETTIMEOFDAY=1 -DHAVE_MEMSET=1 -DHAVE_MEMCPY=1 -DHAVE_BCOPY=1 -DHAVE_SRAND48=1 -I. -I../../include -Wall -Wno-long-long -pedantic -std=c++98 -O2 -DNDEBUG -MT Statistics.lo -MD -MP -MF .deps/Statistics.Tpo -c Statistics.cc  -fPIC -DPIC -o .libs/Statistics.o\n",
            "libtool: compile:  g++ -DPACKAGE_NAME=\\\"spatialindex\\\" -DPACKAGE_TARNAME=\\\"spatialindex-src\\\" -DPACKAGE_VERSION=\\\"1.8.5\\\" \"-DPACKAGE_STRING=\\\"spatialindex 1.8.5\\\"\" -DPACKAGE_BUGREPORT=\\\"mhadji@gmail.com\\\" -DPACKAGE_URL=\\\"\\\" -DSTDC_HEADERS=1 -DHAVE_SYS_TYPES_H=1 -DHAVE_SYS_STAT_H=1 -DHAVE_STDLIB_H=1 -DHAVE_STRING_H=1 -DHAVE_MEMORY_H=1 -DHAVE_STRINGS_H=1 -DHAVE_INTTYPES_H=1 -DHAVE_STDINT_H=1 -DHAVE_UNISTD_H=1 -DHAVE_DLFCN_H=1 -DLT_OBJDIR=\\\".libs/\\\" -DPACKAGE=\\\"spatialindex-src\\\" -DVERSION=\\\"1.8.5\\\" -DHAVE_FCNTL_H=1 -DHAVE_UNISTD_H=1 -DHAVE_SYS_TYPES_H=1 -DHAVE_SYS_STAT_H=1 -DHAVE_PTHREAD_H=1 -DHAVE_SYS_RESOURCE_H=1 -DHAVE_SYS_TIME_H=1 -DHAVE_STDINT_H=1 -DHAVE_FEATURES_H=1 -DHAVE_GETTIMEOFDAY=1 -DHAVE_MEMSET=1 -DHAVE_MEMCPY=1 -DHAVE_BCOPY=1 -DHAVE_SRAND48=1 -I. -I../../include -Wall -Wno-long-long -pedantic -std=c++98 -O2 -DNDEBUG -MT Statistics.lo -MD -MP -MF .deps/Statistics.Tpo -c Statistics.cc -o Statistics.o >/dev/null 2>&1\n",
            "/bin/bash ../../libtool  --tag=CXX   --mode=link g++  -Wall -Wno-long-long -pedantic -std=c++98  -O2 -DNDEBUG   -o libtprtree.la  Index.lo Leaf.lo Node.lo TPRTree.lo Statistics.lo  -lpthread\n",
            "libtool: link: ar cru .libs/libtprtree.a .libs/Index.o .libs/Leaf.o .libs/Node.o .libs/TPRTree.o .libs/Statistics.o \n",
            "ar: `u' modifier ignored since `D' is the default (see `U')\n",
            "libtool: link: ranlib .libs/libtprtree.a\n",
            "libtool: link: ( cd \".libs\" && rm -f \"libtprtree.la\" && ln -s \"../libtprtree.la\" \"libtprtree.la\" )\n",
            "make[2]: Leaving directory '/content/spatialindex-src-1.8.5/src/tprtree'\n",
            "Making all in tools\n",
            "make[2]: Entering directory '/content/spatialindex-src-1.8.5/src/tools'\n",
            "depbase=`echo Tools.lo | sed 's|[^/]*$|.deps/&|;s|\\.lo$||'`;\\\n",
            "/bin/bash ../../libtool  --tag=CXX   --mode=compile g++ -DPACKAGE_NAME=\\\"spatialindex\\\" -DPACKAGE_TARNAME=\\\"spatialindex-src\\\" -DPACKAGE_VERSION=\\\"1.8.5\\\" -DPACKAGE_STRING=\\\"spatialindex\\ 1.8.5\\\" -DPACKAGE_BUGREPORT=\\\"mhadji@gmail.com\\\" -DPACKAGE_URL=\\\"\\\" -DSTDC_HEADERS=1 -DHAVE_SYS_TYPES_H=1 -DHAVE_SYS_STAT_H=1 -DHAVE_STDLIB_H=1 -DHAVE_STRING_H=1 -DHAVE_MEMORY_H=1 -DHAVE_STRINGS_H=1 -DHAVE_INTTYPES_H=1 -DHAVE_STDINT_H=1 -DHAVE_UNISTD_H=1 -DHAVE_DLFCN_H=1 -DLT_OBJDIR=\\\".libs/\\\" -DPACKAGE=\\\"spatialindex-src\\\" -DVERSION=\\\"1.8.5\\\" -DHAVE_FCNTL_H=1 -DHAVE_UNISTD_H=1 -DHAVE_SYS_TYPES_H=1 -DHAVE_SYS_STAT_H=1 -DHAVE_PTHREAD_H=1 -DHAVE_SYS_RESOURCE_H=1 -DHAVE_SYS_TIME_H=1 -DHAVE_STDINT_H=1 -DHAVE_FEATURES_H=1 -DHAVE_GETTIMEOFDAY=1 -DHAVE_MEMSET=1 -DHAVE_MEMCPY=1 -DHAVE_BCOPY=1 -DHAVE_SRAND48=1 -I. -I../../include    -Wall -Wno-long-long -pedantic -std=c++98  -O2 -DNDEBUG -MT Tools.lo -MD -MP -MF $depbase.Tpo -c -o Tools.lo Tools.cc &&\\\n",
            "mv -f $depbase.Tpo $depbase.Plo\n",
            "libtool: compile:  g++ -DPACKAGE_NAME=\\\"spatialindex\\\" -DPACKAGE_TARNAME=\\\"spatialindex-src\\\" -DPACKAGE_VERSION=\\\"1.8.5\\\" \"-DPACKAGE_STRING=\\\"spatialindex 1.8.5\\\"\" -DPACKAGE_BUGREPORT=\\\"mhadji@gmail.com\\\" -DPACKAGE_URL=\\\"\\\" -DSTDC_HEADERS=1 -DHAVE_SYS_TYPES_H=1 -DHAVE_SYS_STAT_H=1 -DHAVE_STDLIB_H=1 -DHAVE_STRING_H=1 -DHAVE_MEMORY_H=1 -DHAVE_STRINGS_H=1 -DHAVE_INTTYPES_H=1 -DHAVE_STDINT_H=1 -DHAVE_UNISTD_H=1 -DHAVE_DLFCN_H=1 -DLT_OBJDIR=\\\".libs/\\\" -DPACKAGE=\\\"spatialindex-src\\\" -DVERSION=\\\"1.8.5\\\" -DHAVE_FCNTL_H=1 -DHAVE_UNISTD_H=1 -DHAVE_SYS_TYPES_H=1 -DHAVE_SYS_STAT_H=1 -DHAVE_PTHREAD_H=1 -DHAVE_SYS_RESOURCE_H=1 -DHAVE_SYS_TIME_H=1 -DHAVE_STDINT_H=1 -DHAVE_FEATURES_H=1 -DHAVE_GETTIMEOFDAY=1 -DHAVE_MEMSET=1 -DHAVE_MEMCPY=1 -DHAVE_BCOPY=1 -DHAVE_SRAND48=1 -I. -I../../include -Wall -Wno-long-long -pedantic -std=c++98 -O2 -DNDEBUG -MT Tools.lo -MD -MP -MF .deps/Tools.Tpo -c Tools.cc  -fPIC -DPIC -o .libs/Tools.o\n",
            "libtool: compile:  g++ -DPACKAGE_NAME=\\\"spatialindex\\\" -DPACKAGE_TARNAME=\\\"spatialindex-src\\\" -DPACKAGE_VERSION=\\\"1.8.5\\\" \"-DPACKAGE_STRING=\\\"spatialindex 1.8.5\\\"\" -DPACKAGE_BUGREPORT=\\\"mhadji@gmail.com\\\" -DPACKAGE_URL=\\\"\\\" -DSTDC_HEADERS=1 -DHAVE_SYS_TYPES_H=1 -DHAVE_SYS_STAT_H=1 -DHAVE_STDLIB_H=1 -DHAVE_STRING_H=1 -DHAVE_MEMORY_H=1 -DHAVE_STRINGS_H=1 -DHAVE_INTTYPES_H=1 -DHAVE_STDINT_H=1 -DHAVE_UNISTD_H=1 -DHAVE_DLFCN_H=1 -DLT_OBJDIR=\\\".libs/\\\" -DPACKAGE=\\\"spatialindex-src\\\" -DVERSION=\\\"1.8.5\\\" -DHAVE_FCNTL_H=1 -DHAVE_UNISTD_H=1 -DHAVE_SYS_TYPES_H=1 -DHAVE_SYS_STAT_H=1 -DHAVE_PTHREAD_H=1 -DHAVE_SYS_RESOURCE_H=1 -DHAVE_SYS_TIME_H=1 -DHAVE_STDINT_H=1 -DHAVE_FEATURES_H=1 -DHAVE_GETTIMEOFDAY=1 -DHAVE_MEMSET=1 -DHAVE_MEMCPY=1 -DHAVE_BCOPY=1 -DHAVE_SRAND48=1 -I. -I../../include -Wall -Wno-long-long -pedantic -std=c++98 -O2 -DNDEBUG -MT Tools.lo -MD -MP -MF .deps/Tools.Tpo -c Tools.cc -o Tools.o >/dev/null 2>&1\n",
            "depbase=`echo rand48.lo | sed 's|[^/]*$|.deps/&|;s|\\.lo$||'`;\\\n",
            "/bin/bash ../../libtool  --tag=CXX   --mode=compile g++ -DPACKAGE_NAME=\\\"spatialindex\\\" -DPACKAGE_TARNAME=\\\"spatialindex-src\\\" -DPACKAGE_VERSION=\\\"1.8.5\\\" -DPACKAGE_STRING=\\\"spatialindex\\ 1.8.5\\\" -DPACKAGE_BUGREPORT=\\\"mhadji@gmail.com\\\" -DPACKAGE_URL=\\\"\\\" -DSTDC_HEADERS=1 -DHAVE_SYS_TYPES_H=1 -DHAVE_SYS_STAT_H=1 -DHAVE_STDLIB_H=1 -DHAVE_STRING_H=1 -DHAVE_MEMORY_H=1 -DHAVE_STRINGS_H=1 -DHAVE_INTTYPES_H=1 -DHAVE_STDINT_H=1 -DHAVE_UNISTD_H=1 -DHAVE_DLFCN_H=1 -DLT_OBJDIR=\\\".libs/\\\" -DPACKAGE=\\\"spatialindex-src\\\" -DVERSION=\\\"1.8.5\\\" -DHAVE_FCNTL_H=1 -DHAVE_UNISTD_H=1 -DHAVE_SYS_TYPES_H=1 -DHAVE_SYS_STAT_H=1 -DHAVE_PTHREAD_H=1 -DHAVE_SYS_RESOURCE_H=1 -DHAVE_SYS_TIME_H=1 -DHAVE_STDINT_H=1 -DHAVE_FEATURES_H=1 -DHAVE_GETTIMEOFDAY=1 -DHAVE_MEMSET=1 -DHAVE_MEMCPY=1 -DHAVE_BCOPY=1 -DHAVE_SRAND48=1 -I. -I../../include    -Wall -Wno-long-long -pedantic -std=c++98  -O2 -DNDEBUG -MT rand48.lo -MD -MP -MF $depbase.Tpo -c -o rand48.lo rand48.cc &&\\\n",
            "mv -f $depbase.Tpo $depbase.Plo\n",
            "libtool: compile:  g++ -DPACKAGE_NAME=\\\"spatialindex\\\" -DPACKAGE_TARNAME=\\\"spatialindex-src\\\" -DPACKAGE_VERSION=\\\"1.8.5\\\" \"-DPACKAGE_STRING=\\\"spatialindex 1.8.5\\\"\" -DPACKAGE_BUGREPORT=\\\"mhadji@gmail.com\\\" -DPACKAGE_URL=\\\"\\\" -DSTDC_HEADERS=1 -DHAVE_SYS_TYPES_H=1 -DHAVE_SYS_STAT_H=1 -DHAVE_STDLIB_H=1 -DHAVE_STRING_H=1 -DHAVE_MEMORY_H=1 -DHAVE_STRINGS_H=1 -DHAVE_INTTYPES_H=1 -DHAVE_STDINT_H=1 -DHAVE_UNISTD_H=1 -DHAVE_DLFCN_H=1 -DLT_OBJDIR=\\\".libs/\\\" -DPACKAGE=\\\"spatialindex-src\\\" -DVERSION=\\\"1.8.5\\\" -DHAVE_FCNTL_H=1 -DHAVE_UNISTD_H=1 -DHAVE_SYS_TYPES_H=1 -DHAVE_SYS_STAT_H=1 -DHAVE_PTHREAD_H=1 -DHAVE_SYS_RESOURCE_H=1 -DHAVE_SYS_TIME_H=1 -DHAVE_STDINT_H=1 -DHAVE_FEATURES_H=1 -DHAVE_GETTIMEOFDAY=1 -DHAVE_MEMSET=1 -DHAVE_MEMCPY=1 -DHAVE_BCOPY=1 -DHAVE_SRAND48=1 -I. -I../../include -Wall -Wno-long-long -pedantic -std=c++98 -O2 -DNDEBUG -MT rand48.lo -MD -MP -MF .deps/rand48.Tpo -c rand48.cc  -fPIC -DPIC -o .libs/rand48.o\n",
            "libtool: compile:  g++ -DPACKAGE_NAME=\\\"spatialindex\\\" -DPACKAGE_TARNAME=\\\"spatialindex-src\\\" -DPACKAGE_VERSION=\\\"1.8.5\\\" \"-DPACKAGE_STRING=\\\"spatialindex 1.8.5\\\"\" -DPACKAGE_BUGREPORT=\\\"mhadji@gmail.com\\\" -DPACKAGE_URL=\\\"\\\" -DSTDC_HEADERS=1 -DHAVE_SYS_TYPES_H=1 -DHAVE_SYS_STAT_H=1 -DHAVE_STDLIB_H=1 -DHAVE_STRING_H=1 -DHAVE_MEMORY_H=1 -DHAVE_STRINGS_H=1 -DHAVE_INTTYPES_H=1 -DHAVE_STDINT_H=1 -DHAVE_UNISTD_H=1 -DHAVE_DLFCN_H=1 -DLT_OBJDIR=\\\".libs/\\\" -DPACKAGE=\\\"spatialindex-src\\\" -DVERSION=\\\"1.8.5\\\" -DHAVE_FCNTL_H=1 -DHAVE_UNISTD_H=1 -DHAVE_SYS_TYPES_H=1 -DHAVE_SYS_STAT_H=1 -DHAVE_PTHREAD_H=1 -DHAVE_SYS_RESOURCE_H=1 -DHAVE_SYS_TIME_H=1 -DHAVE_STDINT_H=1 -DHAVE_FEATURES_H=1 -DHAVE_GETTIMEOFDAY=1 -DHAVE_MEMSET=1 -DHAVE_MEMCPY=1 -DHAVE_BCOPY=1 -DHAVE_SRAND48=1 -I. -I../../include -Wall -Wno-long-long -pedantic -std=c++98 -O2 -DNDEBUG -MT rand48.lo -MD -MP -MF .deps/rand48.Tpo -c rand48.cc -o rand48.o >/dev/null 2>&1\n",
            "/bin/bash ../../libtool  --tag=CXX   --mode=link g++  -Wall -Wno-long-long -pedantic -std=c++98  -O2 -DNDEBUG   -o libtools.la  Tools.lo rand48.lo  -lpthread\n",
            "libtool: link: ar cru .libs/libtools.a .libs/Tools.o .libs/rand48.o \n",
            "ar: `u' modifier ignored since `D' is the default (see `U')\n",
            "libtool: link: ranlib .libs/libtools.a\n",
            "libtool: link: ( cd \".libs\" && rm -f \"libtools.la\" && ln -s \"../libtools.la\" \"libtools.la\" )\n",
            "make[2]: Leaving directory '/content/spatialindex-src-1.8.5/src/tools'\n",
            "Making all in capi\n",
            "make[2]: Entering directory '/content/spatialindex-src-1.8.5/src/capi'\n",
            "depbase=`echo BoundsQuery.lo | sed 's|[^/]*$|.deps/&|;s|\\.lo$||'`;\\\n",
            "/bin/bash ../../libtool  --tag=CXX   --mode=compile g++ -DPACKAGE_NAME=\\\"spatialindex\\\" -DPACKAGE_TARNAME=\\\"spatialindex-src\\\" -DPACKAGE_VERSION=\\\"1.8.5\\\" -DPACKAGE_STRING=\\\"spatialindex\\ 1.8.5\\\" -DPACKAGE_BUGREPORT=\\\"mhadji@gmail.com\\\" -DPACKAGE_URL=\\\"\\\" -DSTDC_HEADERS=1 -DHAVE_SYS_TYPES_H=1 -DHAVE_SYS_STAT_H=1 -DHAVE_STDLIB_H=1 -DHAVE_STRING_H=1 -DHAVE_MEMORY_H=1 -DHAVE_STRINGS_H=1 -DHAVE_INTTYPES_H=1 -DHAVE_STDINT_H=1 -DHAVE_UNISTD_H=1 -DHAVE_DLFCN_H=1 -DLT_OBJDIR=\\\".libs/\\\" -DPACKAGE=\\\"spatialindex-src\\\" -DVERSION=\\\"1.8.5\\\" -DHAVE_FCNTL_H=1 -DHAVE_UNISTD_H=1 -DHAVE_SYS_TYPES_H=1 -DHAVE_SYS_STAT_H=1 -DHAVE_PTHREAD_H=1 -DHAVE_SYS_RESOURCE_H=1 -DHAVE_SYS_TIME_H=1 -DHAVE_STDINT_H=1 -DHAVE_FEATURES_H=1 -DHAVE_GETTIMEOFDAY=1 -DHAVE_MEMSET=1 -DHAVE_MEMCPY=1 -DHAVE_BCOPY=1 -DHAVE_SRAND48=1 -I. -I../../include -I../../include/capi    -Wall -Wno-long-long -pedantic -std=c++98  -O2 -DNDEBUG -MT BoundsQuery.lo -MD -MP -MF $depbase.Tpo -c -o BoundsQuery.lo BoundsQuery.cc &&\\\n",
            "mv -f $depbase.Tpo $depbase.Plo\n",
            "libtool: compile:  g++ -DPACKAGE_NAME=\\\"spatialindex\\\" -DPACKAGE_TARNAME=\\\"spatialindex-src\\\" -DPACKAGE_VERSION=\\\"1.8.5\\\" \"-DPACKAGE_STRING=\\\"spatialindex 1.8.5\\\"\" -DPACKAGE_BUGREPORT=\\\"mhadji@gmail.com\\\" -DPACKAGE_URL=\\\"\\\" -DSTDC_HEADERS=1 -DHAVE_SYS_TYPES_H=1 -DHAVE_SYS_STAT_H=1 -DHAVE_STDLIB_H=1 -DHAVE_STRING_H=1 -DHAVE_MEMORY_H=1 -DHAVE_STRINGS_H=1 -DHAVE_INTTYPES_H=1 -DHAVE_STDINT_H=1 -DHAVE_UNISTD_H=1 -DHAVE_DLFCN_H=1 -DLT_OBJDIR=\\\".libs/\\\" -DPACKAGE=\\\"spatialindex-src\\\" -DVERSION=\\\"1.8.5\\\" -DHAVE_FCNTL_H=1 -DHAVE_UNISTD_H=1 -DHAVE_SYS_TYPES_H=1 -DHAVE_SYS_STAT_H=1 -DHAVE_PTHREAD_H=1 -DHAVE_SYS_RESOURCE_H=1 -DHAVE_SYS_TIME_H=1 -DHAVE_STDINT_H=1 -DHAVE_FEATURES_H=1 -DHAVE_GETTIMEOFDAY=1 -DHAVE_MEMSET=1 -DHAVE_MEMCPY=1 -DHAVE_BCOPY=1 -DHAVE_SRAND48=1 -I. -I../../include -I../../include/capi -Wall -Wno-long-long -pedantic -std=c++98 -O2 -DNDEBUG -MT BoundsQuery.lo -MD -MP -MF .deps/BoundsQuery.Tpo -c BoundsQuery.cc  -fPIC -DPIC -o .libs/BoundsQuery.o\n",
            "libtool: compile:  g++ -DPACKAGE_NAME=\\\"spatialindex\\\" -DPACKAGE_TARNAME=\\\"spatialindex-src\\\" -DPACKAGE_VERSION=\\\"1.8.5\\\" \"-DPACKAGE_STRING=\\\"spatialindex 1.8.5\\\"\" -DPACKAGE_BUGREPORT=\\\"mhadji@gmail.com\\\" -DPACKAGE_URL=\\\"\\\" -DSTDC_HEADERS=1 -DHAVE_SYS_TYPES_H=1 -DHAVE_SYS_STAT_H=1 -DHAVE_STDLIB_H=1 -DHAVE_STRING_H=1 -DHAVE_MEMORY_H=1 -DHAVE_STRINGS_H=1 -DHAVE_INTTYPES_H=1 -DHAVE_STDINT_H=1 -DHAVE_UNISTD_H=1 -DHAVE_DLFCN_H=1 -DLT_OBJDIR=\\\".libs/\\\" -DPACKAGE=\\\"spatialindex-src\\\" -DVERSION=\\\"1.8.5\\\" -DHAVE_FCNTL_H=1 -DHAVE_UNISTD_H=1 -DHAVE_SYS_TYPES_H=1 -DHAVE_SYS_STAT_H=1 -DHAVE_PTHREAD_H=1 -DHAVE_SYS_RESOURCE_H=1 -DHAVE_SYS_TIME_H=1 -DHAVE_STDINT_H=1 -DHAVE_FEATURES_H=1 -DHAVE_GETTIMEOFDAY=1 -DHAVE_MEMSET=1 -DHAVE_MEMCPY=1 -DHAVE_BCOPY=1 -DHAVE_SRAND48=1 -I. -I../../include -I../../include/capi -Wall -Wno-long-long -pedantic -std=c++98 -O2 -DNDEBUG -MT BoundsQuery.lo -MD -MP -MF .deps/BoundsQuery.Tpo -c BoundsQuery.cc -o BoundsQuery.o >/dev/null 2>&1\n",
            "depbase=`echo CountVisitor.lo | sed 's|[^/]*$|.deps/&|;s|\\.lo$||'`;\\\n",
            "/bin/bash ../../libtool  --tag=CXX   --mode=compile g++ -DPACKAGE_NAME=\\\"spatialindex\\\" -DPACKAGE_TARNAME=\\\"spatialindex-src\\\" -DPACKAGE_VERSION=\\\"1.8.5\\\" -DPACKAGE_STRING=\\\"spatialindex\\ 1.8.5\\\" -DPACKAGE_BUGREPORT=\\\"mhadji@gmail.com\\\" -DPACKAGE_URL=\\\"\\\" -DSTDC_HEADERS=1 -DHAVE_SYS_TYPES_H=1 -DHAVE_SYS_STAT_H=1 -DHAVE_STDLIB_H=1 -DHAVE_STRING_H=1 -DHAVE_MEMORY_H=1 -DHAVE_STRINGS_H=1 -DHAVE_INTTYPES_H=1 -DHAVE_STDINT_H=1 -DHAVE_UNISTD_H=1 -DHAVE_DLFCN_H=1 -DLT_OBJDIR=\\\".libs/\\\" -DPACKAGE=\\\"spatialindex-src\\\" -DVERSION=\\\"1.8.5\\\" -DHAVE_FCNTL_H=1 -DHAVE_UNISTD_H=1 -DHAVE_SYS_TYPES_H=1 -DHAVE_SYS_STAT_H=1 -DHAVE_PTHREAD_H=1 -DHAVE_SYS_RESOURCE_H=1 -DHAVE_SYS_TIME_H=1 -DHAVE_STDINT_H=1 -DHAVE_FEATURES_H=1 -DHAVE_GETTIMEOFDAY=1 -DHAVE_MEMSET=1 -DHAVE_MEMCPY=1 -DHAVE_BCOPY=1 -DHAVE_SRAND48=1 -I. -I../../include -I../../include/capi    -Wall -Wno-long-long -pedantic -std=c++98  -O2 -DNDEBUG -MT CountVisitor.lo -MD -MP -MF $depbase.Tpo -c -o CountVisitor.lo CountVisitor.cc &&\\\n",
            "mv -f $depbase.Tpo $depbase.Plo\n",
            "libtool: compile:  g++ -DPACKAGE_NAME=\\\"spatialindex\\\" -DPACKAGE_TARNAME=\\\"spatialindex-src\\\" -DPACKAGE_VERSION=\\\"1.8.5\\\" \"-DPACKAGE_STRING=\\\"spatialindex 1.8.5\\\"\" -DPACKAGE_BUGREPORT=\\\"mhadji@gmail.com\\\" -DPACKAGE_URL=\\\"\\\" -DSTDC_HEADERS=1 -DHAVE_SYS_TYPES_H=1 -DHAVE_SYS_STAT_H=1 -DHAVE_STDLIB_H=1 -DHAVE_STRING_H=1 -DHAVE_MEMORY_H=1 -DHAVE_STRINGS_H=1 -DHAVE_INTTYPES_H=1 -DHAVE_STDINT_H=1 -DHAVE_UNISTD_H=1 -DHAVE_DLFCN_H=1 -DLT_OBJDIR=\\\".libs/\\\" -DPACKAGE=\\\"spatialindex-src\\\" -DVERSION=\\\"1.8.5\\\" -DHAVE_FCNTL_H=1 -DHAVE_UNISTD_H=1 -DHAVE_SYS_TYPES_H=1 -DHAVE_SYS_STAT_H=1 -DHAVE_PTHREAD_H=1 -DHAVE_SYS_RESOURCE_H=1 -DHAVE_SYS_TIME_H=1 -DHAVE_STDINT_H=1 -DHAVE_FEATURES_H=1 -DHAVE_GETTIMEOFDAY=1 -DHAVE_MEMSET=1 -DHAVE_MEMCPY=1 -DHAVE_BCOPY=1 -DHAVE_SRAND48=1 -I. -I../../include -I../../include/capi -Wall -Wno-long-long -pedantic -std=c++98 -O2 -DNDEBUG -MT CountVisitor.lo -MD -MP -MF .deps/CountVisitor.Tpo -c CountVisitor.cc  -fPIC -DPIC -o .libs/CountVisitor.o\n",
            "libtool: compile:  g++ -DPACKAGE_NAME=\\\"spatialindex\\\" -DPACKAGE_TARNAME=\\\"spatialindex-src\\\" -DPACKAGE_VERSION=\\\"1.8.5\\\" \"-DPACKAGE_STRING=\\\"spatialindex 1.8.5\\\"\" -DPACKAGE_BUGREPORT=\\\"mhadji@gmail.com\\\" -DPACKAGE_URL=\\\"\\\" -DSTDC_HEADERS=1 -DHAVE_SYS_TYPES_H=1 -DHAVE_SYS_STAT_H=1 -DHAVE_STDLIB_H=1 -DHAVE_STRING_H=1 -DHAVE_MEMORY_H=1 -DHAVE_STRINGS_H=1 -DHAVE_INTTYPES_H=1 -DHAVE_STDINT_H=1 -DHAVE_UNISTD_H=1 -DHAVE_DLFCN_H=1 -DLT_OBJDIR=\\\".libs/\\\" -DPACKAGE=\\\"spatialindex-src\\\" -DVERSION=\\\"1.8.5\\\" -DHAVE_FCNTL_H=1 -DHAVE_UNISTD_H=1 -DHAVE_SYS_TYPES_H=1 -DHAVE_SYS_STAT_H=1 -DHAVE_PTHREAD_H=1 -DHAVE_SYS_RESOURCE_H=1 -DHAVE_SYS_TIME_H=1 -DHAVE_STDINT_H=1 -DHAVE_FEATURES_H=1 -DHAVE_GETTIMEOFDAY=1 -DHAVE_MEMSET=1 -DHAVE_MEMCPY=1 -DHAVE_BCOPY=1 -DHAVE_SRAND48=1 -I. -I../../include -I../../include/capi -Wall -Wno-long-long -pedantic -std=c++98 -O2 -DNDEBUG -MT CountVisitor.lo -MD -MP -MF .deps/CountVisitor.Tpo -c CountVisitor.cc -o CountVisitor.o >/dev/null 2>&1\n",
            "depbase=`echo CustomStorage.lo | sed 's|[^/]*$|.deps/&|;s|\\.lo$||'`;\\\n",
            "/bin/bash ../../libtool  --tag=CXX   --mode=compile g++ -DPACKAGE_NAME=\\\"spatialindex\\\" -DPACKAGE_TARNAME=\\\"spatialindex-src\\\" -DPACKAGE_VERSION=\\\"1.8.5\\\" -DPACKAGE_STRING=\\\"spatialindex\\ 1.8.5\\\" -DPACKAGE_BUGREPORT=\\\"mhadji@gmail.com\\\" -DPACKAGE_URL=\\\"\\\" -DSTDC_HEADERS=1 -DHAVE_SYS_TYPES_H=1 -DHAVE_SYS_STAT_H=1 -DHAVE_STDLIB_H=1 -DHAVE_STRING_H=1 -DHAVE_MEMORY_H=1 -DHAVE_STRINGS_H=1 -DHAVE_INTTYPES_H=1 -DHAVE_STDINT_H=1 -DHAVE_UNISTD_H=1 -DHAVE_DLFCN_H=1 -DLT_OBJDIR=\\\".libs/\\\" -DPACKAGE=\\\"spatialindex-src\\\" -DVERSION=\\\"1.8.5\\\" -DHAVE_FCNTL_H=1 -DHAVE_UNISTD_H=1 -DHAVE_SYS_TYPES_H=1 -DHAVE_SYS_STAT_H=1 -DHAVE_PTHREAD_H=1 -DHAVE_SYS_RESOURCE_H=1 -DHAVE_SYS_TIME_H=1 -DHAVE_STDINT_H=1 -DHAVE_FEATURES_H=1 -DHAVE_GETTIMEOFDAY=1 -DHAVE_MEMSET=1 -DHAVE_MEMCPY=1 -DHAVE_BCOPY=1 -DHAVE_SRAND48=1 -I. -I../../include -I../../include/capi    -Wall -Wno-long-long -pedantic -std=c++98  -O2 -DNDEBUG -MT CustomStorage.lo -MD -MP -MF $depbase.Tpo -c -o CustomStorage.lo CustomStorage.cc &&\\\n",
            "mv -f $depbase.Tpo $depbase.Plo\n",
            "libtool: compile:  g++ -DPACKAGE_NAME=\\\"spatialindex\\\" -DPACKAGE_TARNAME=\\\"spatialindex-src\\\" -DPACKAGE_VERSION=\\\"1.8.5\\\" \"-DPACKAGE_STRING=\\\"spatialindex 1.8.5\\\"\" -DPACKAGE_BUGREPORT=\\\"mhadji@gmail.com\\\" -DPACKAGE_URL=\\\"\\\" -DSTDC_HEADERS=1 -DHAVE_SYS_TYPES_H=1 -DHAVE_SYS_STAT_H=1 -DHAVE_STDLIB_H=1 -DHAVE_STRING_H=1 -DHAVE_MEMORY_H=1 -DHAVE_STRINGS_H=1 -DHAVE_INTTYPES_H=1 -DHAVE_STDINT_H=1 -DHAVE_UNISTD_H=1 -DHAVE_DLFCN_H=1 -DLT_OBJDIR=\\\".libs/\\\" -DPACKAGE=\\\"spatialindex-src\\\" -DVERSION=\\\"1.8.5\\\" -DHAVE_FCNTL_H=1 -DHAVE_UNISTD_H=1 -DHAVE_SYS_TYPES_H=1 -DHAVE_SYS_STAT_H=1 -DHAVE_PTHREAD_H=1 -DHAVE_SYS_RESOURCE_H=1 -DHAVE_SYS_TIME_H=1 -DHAVE_STDINT_H=1 -DHAVE_FEATURES_H=1 -DHAVE_GETTIMEOFDAY=1 -DHAVE_MEMSET=1 -DHAVE_MEMCPY=1 -DHAVE_BCOPY=1 -DHAVE_SRAND48=1 -I. -I../../include -I../../include/capi -Wall -Wno-long-long -pedantic -std=c++98 -O2 -DNDEBUG -MT CustomStorage.lo -MD -MP -MF .deps/CustomStorage.Tpo -c CustomStorage.cc  -fPIC -DPIC -o .libs/CustomStorage.o\n",
            "libtool: compile:  g++ -DPACKAGE_NAME=\\\"spatialindex\\\" -DPACKAGE_TARNAME=\\\"spatialindex-src\\\" -DPACKAGE_VERSION=\\\"1.8.5\\\" \"-DPACKAGE_STRING=\\\"spatialindex 1.8.5\\\"\" -DPACKAGE_BUGREPORT=\\\"mhadji@gmail.com\\\" -DPACKAGE_URL=\\\"\\\" -DSTDC_HEADERS=1 -DHAVE_SYS_TYPES_H=1 -DHAVE_SYS_STAT_H=1 -DHAVE_STDLIB_H=1 -DHAVE_STRING_H=1 -DHAVE_MEMORY_H=1 -DHAVE_STRINGS_H=1 -DHAVE_INTTYPES_H=1 -DHAVE_STDINT_H=1 -DHAVE_UNISTD_H=1 -DHAVE_DLFCN_H=1 -DLT_OBJDIR=\\\".libs/\\\" -DPACKAGE=\\\"spatialindex-src\\\" -DVERSION=\\\"1.8.5\\\" -DHAVE_FCNTL_H=1 -DHAVE_UNISTD_H=1 -DHAVE_SYS_TYPES_H=1 -DHAVE_SYS_STAT_H=1 -DHAVE_PTHREAD_H=1 -DHAVE_SYS_RESOURCE_H=1 -DHAVE_SYS_TIME_H=1 -DHAVE_STDINT_H=1 -DHAVE_FEATURES_H=1 -DHAVE_GETTIMEOFDAY=1 -DHAVE_MEMSET=1 -DHAVE_MEMCPY=1 -DHAVE_BCOPY=1 -DHAVE_SRAND48=1 -I. -I../../include -I../../include/capi -Wall -Wno-long-long -pedantic -std=c++98 -O2 -DNDEBUG -MT CustomStorage.lo -MD -MP -MF .deps/CustomStorage.Tpo -c CustomStorage.cc -o CustomStorage.o >/dev/null 2>&1\n",
            "depbase=`echo DataStream.lo | sed 's|[^/]*$|.deps/&|;s|\\.lo$||'`;\\\n",
            "/bin/bash ../../libtool  --tag=CXX   --mode=compile g++ -DPACKAGE_NAME=\\\"spatialindex\\\" -DPACKAGE_TARNAME=\\\"spatialindex-src\\\" -DPACKAGE_VERSION=\\\"1.8.5\\\" -DPACKAGE_STRING=\\\"spatialindex\\ 1.8.5\\\" -DPACKAGE_BUGREPORT=\\\"mhadji@gmail.com\\\" -DPACKAGE_URL=\\\"\\\" -DSTDC_HEADERS=1 -DHAVE_SYS_TYPES_H=1 -DHAVE_SYS_STAT_H=1 -DHAVE_STDLIB_H=1 -DHAVE_STRING_H=1 -DHAVE_MEMORY_H=1 -DHAVE_STRINGS_H=1 -DHAVE_INTTYPES_H=1 -DHAVE_STDINT_H=1 -DHAVE_UNISTD_H=1 -DHAVE_DLFCN_H=1 -DLT_OBJDIR=\\\".libs/\\\" -DPACKAGE=\\\"spatialindex-src\\\" -DVERSION=\\\"1.8.5\\\" -DHAVE_FCNTL_H=1 -DHAVE_UNISTD_H=1 -DHAVE_SYS_TYPES_H=1 -DHAVE_SYS_STAT_H=1 -DHAVE_PTHREAD_H=1 -DHAVE_SYS_RESOURCE_H=1 -DHAVE_SYS_TIME_H=1 -DHAVE_STDINT_H=1 -DHAVE_FEATURES_H=1 -DHAVE_GETTIMEOFDAY=1 -DHAVE_MEMSET=1 -DHAVE_MEMCPY=1 -DHAVE_BCOPY=1 -DHAVE_SRAND48=1 -I. -I../../include -I../../include/capi    -Wall -Wno-long-long -pedantic -std=c++98  -O2 -DNDEBUG -MT DataStream.lo -MD -MP -MF $depbase.Tpo -c -o DataStream.lo DataStream.cc &&\\\n",
            "mv -f $depbase.Tpo $depbase.Plo\n",
            "libtool: compile:  g++ -DPACKAGE_NAME=\\\"spatialindex\\\" -DPACKAGE_TARNAME=\\\"spatialindex-src\\\" -DPACKAGE_VERSION=\\\"1.8.5\\\" \"-DPACKAGE_STRING=\\\"spatialindex 1.8.5\\\"\" -DPACKAGE_BUGREPORT=\\\"mhadji@gmail.com\\\" -DPACKAGE_URL=\\\"\\\" -DSTDC_HEADERS=1 -DHAVE_SYS_TYPES_H=1 -DHAVE_SYS_STAT_H=1 -DHAVE_STDLIB_H=1 -DHAVE_STRING_H=1 -DHAVE_MEMORY_H=1 -DHAVE_STRINGS_H=1 -DHAVE_INTTYPES_H=1 -DHAVE_STDINT_H=1 -DHAVE_UNISTD_H=1 -DHAVE_DLFCN_H=1 -DLT_OBJDIR=\\\".libs/\\\" -DPACKAGE=\\\"spatialindex-src\\\" -DVERSION=\\\"1.8.5\\\" -DHAVE_FCNTL_H=1 -DHAVE_UNISTD_H=1 -DHAVE_SYS_TYPES_H=1 -DHAVE_SYS_STAT_H=1 -DHAVE_PTHREAD_H=1 -DHAVE_SYS_RESOURCE_H=1 -DHAVE_SYS_TIME_H=1 -DHAVE_STDINT_H=1 -DHAVE_FEATURES_H=1 -DHAVE_GETTIMEOFDAY=1 -DHAVE_MEMSET=1 -DHAVE_MEMCPY=1 -DHAVE_BCOPY=1 -DHAVE_SRAND48=1 -I. -I../../include -I../../include/capi -Wall -Wno-long-long -pedantic -std=c++98 -O2 -DNDEBUG -MT DataStream.lo -MD -MP -MF .deps/DataStream.Tpo -c DataStream.cc  -fPIC -DPIC -o .libs/DataStream.o\n",
            "libtool: compile:  g++ -DPACKAGE_NAME=\\\"spatialindex\\\" -DPACKAGE_TARNAME=\\\"spatialindex-src\\\" -DPACKAGE_VERSION=\\\"1.8.5\\\" \"-DPACKAGE_STRING=\\\"spatialindex 1.8.5\\\"\" -DPACKAGE_BUGREPORT=\\\"mhadji@gmail.com\\\" -DPACKAGE_URL=\\\"\\\" -DSTDC_HEADERS=1 -DHAVE_SYS_TYPES_H=1 -DHAVE_SYS_STAT_H=1 -DHAVE_STDLIB_H=1 -DHAVE_STRING_H=1 -DHAVE_MEMORY_H=1 -DHAVE_STRINGS_H=1 -DHAVE_INTTYPES_H=1 -DHAVE_STDINT_H=1 -DHAVE_UNISTD_H=1 -DHAVE_DLFCN_H=1 -DLT_OBJDIR=\\\".libs/\\\" -DPACKAGE=\\\"spatialindex-src\\\" -DVERSION=\\\"1.8.5\\\" -DHAVE_FCNTL_H=1 -DHAVE_UNISTD_H=1 -DHAVE_SYS_TYPES_H=1 -DHAVE_SYS_STAT_H=1 -DHAVE_PTHREAD_H=1 -DHAVE_SYS_RESOURCE_H=1 -DHAVE_SYS_TIME_H=1 -DHAVE_STDINT_H=1 -DHAVE_FEATURES_H=1 -DHAVE_GETTIMEOFDAY=1 -DHAVE_MEMSET=1 -DHAVE_MEMCPY=1 -DHAVE_BCOPY=1 -DHAVE_SRAND48=1 -I. -I../../include -I../../include/capi -Wall -Wno-long-long -pedantic -std=c++98 -O2 -DNDEBUG -MT DataStream.lo -MD -MP -MF .deps/DataStream.Tpo -c DataStream.cc -o DataStream.o >/dev/null 2>&1\n",
            "depbase=`echo Error.lo | sed 's|[^/]*$|.deps/&|;s|\\.lo$||'`;\\\n",
            "/bin/bash ../../libtool  --tag=CXX   --mode=compile g++ -DPACKAGE_NAME=\\\"spatialindex\\\" -DPACKAGE_TARNAME=\\\"spatialindex-src\\\" -DPACKAGE_VERSION=\\\"1.8.5\\\" -DPACKAGE_STRING=\\\"spatialindex\\ 1.8.5\\\" -DPACKAGE_BUGREPORT=\\\"mhadji@gmail.com\\\" -DPACKAGE_URL=\\\"\\\" -DSTDC_HEADERS=1 -DHAVE_SYS_TYPES_H=1 -DHAVE_SYS_STAT_H=1 -DHAVE_STDLIB_H=1 -DHAVE_STRING_H=1 -DHAVE_MEMORY_H=1 -DHAVE_STRINGS_H=1 -DHAVE_INTTYPES_H=1 -DHAVE_STDINT_H=1 -DHAVE_UNISTD_H=1 -DHAVE_DLFCN_H=1 -DLT_OBJDIR=\\\".libs/\\\" -DPACKAGE=\\\"spatialindex-src\\\" -DVERSION=\\\"1.8.5\\\" -DHAVE_FCNTL_H=1 -DHAVE_UNISTD_H=1 -DHAVE_SYS_TYPES_H=1 -DHAVE_SYS_STAT_H=1 -DHAVE_PTHREAD_H=1 -DHAVE_SYS_RESOURCE_H=1 -DHAVE_SYS_TIME_H=1 -DHAVE_STDINT_H=1 -DHAVE_FEATURES_H=1 -DHAVE_GETTIMEOFDAY=1 -DHAVE_MEMSET=1 -DHAVE_MEMCPY=1 -DHAVE_BCOPY=1 -DHAVE_SRAND48=1 -I. -I../../include -I../../include/capi    -Wall -Wno-long-long -pedantic -std=c++98  -O2 -DNDEBUG -MT Error.lo -MD -MP -MF $depbase.Tpo -c -o Error.lo Error.cc &&\\\n",
            "mv -f $depbase.Tpo $depbase.Plo\n",
            "libtool: compile:  g++ -DPACKAGE_NAME=\\\"spatialindex\\\" -DPACKAGE_TARNAME=\\\"spatialindex-src\\\" -DPACKAGE_VERSION=\\\"1.8.5\\\" \"-DPACKAGE_STRING=\\\"spatialindex 1.8.5\\\"\" -DPACKAGE_BUGREPORT=\\\"mhadji@gmail.com\\\" -DPACKAGE_URL=\\\"\\\" -DSTDC_HEADERS=1 -DHAVE_SYS_TYPES_H=1 -DHAVE_SYS_STAT_H=1 -DHAVE_STDLIB_H=1 -DHAVE_STRING_H=1 -DHAVE_MEMORY_H=1 -DHAVE_STRINGS_H=1 -DHAVE_INTTYPES_H=1 -DHAVE_STDINT_H=1 -DHAVE_UNISTD_H=1 -DHAVE_DLFCN_H=1 -DLT_OBJDIR=\\\".libs/\\\" -DPACKAGE=\\\"spatialindex-src\\\" -DVERSION=\\\"1.8.5\\\" -DHAVE_FCNTL_H=1 -DHAVE_UNISTD_H=1 -DHAVE_SYS_TYPES_H=1 -DHAVE_SYS_STAT_H=1 -DHAVE_PTHREAD_H=1 -DHAVE_SYS_RESOURCE_H=1 -DHAVE_SYS_TIME_H=1 -DHAVE_STDINT_H=1 -DHAVE_FEATURES_H=1 -DHAVE_GETTIMEOFDAY=1 -DHAVE_MEMSET=1 -DHAVE_MEMCPY=1 -DHAVE_BCOPY=1 -DHAVE_SRAND48=1 -I. -I../../include -I../../include/capi -Wall -Wno-long-long -pedantic -std=c++98 -O2 -DNDEBUG -MT Error.lo -MD -MP -MF .deps/Error.Tpo -c Error.cc  -fPIC -DPIC -o .libs/Error.o\n",
            "libtool: compile:  g++ -DPACKAGE_NAME=\\\"spatialindex\\\" -DPACKAGE_TARNAME=\\\"spatialindex-src\\\" -DPACKAGE_VERSION=\\\"1.8.5\\\" \"-DPACKAGE_STRING=\\\"spatialindex 1.8.5\\\"\" -DPACKAGE_BUGREPORT=\\\"mhadji@gmail.com\\\" -DPACKAGE_URL=\\\"\\\" -DSTDC_HEADERS=1 -DHAVE_SYS_TYPES_H=1 -DHAVE_SYS_STAT_H=1 -DHAVE_STDLIB_H=1 -DHAVE_STRING_H=1 -DHAVE_MEMORY_H=1 -DHAVE_STRINGS_H=1 -DHAVE_INTTYPES_H=1 -DHAVE_STDINT_H=1 -DHAVE_UNISTD_H=1 -DHAVE_DLFCN_H=1 -DLT_OBJDIR=\\\".libs/\\\" -DPACKAGE=\\\"spatialindex-src\\\" -DVERSION=\\\"1.8.5\\\" -DHAVE_FCNTL_H=1 -DHAVE_UNISTD_H=1 -DHAVE_SYS_TYPES_H=1 -DHAVE_SYS_STAT_H=1 -DHAVE_PTHREAD_H=1 -DHAVE_SYS_RESOURCE_H=1 -DHAVE_SYS_TIME_H=1 -DHAVE_STDINT_H=1 -DHAVE_FEATURES_H=1 -DHAVE_GETTIMEOFDAY=1 -DHAVE_MEMSET=1 -DHAVE_MEMCPY=1 -DHAVE_BCOPY=1 -DHAVE_SRAND48=1 -I. -I../../include -I../../include/capi -Wall -Wno-long-long -pedantic -std=c++98 -O2 -DNDEBUG -MT Error.lo -MD -MP -MF .deps/Error.Tpo -c Error.cc -o Error.o >/dev/null 2>&1\n",
            "depbase=`echo IdVisitor.lo | sed 's|[^/]*$|.deps/&|;s|\\.lo$||'`;\\\n",
            "/bin/bash ../../libtool  --tag=CXX   --mode=compile g++ -DPACKAGE_NAME=\\\"spatialindex\\\" -DPACKAGE_TARNAME=\\\"spatialindex-src\\\" -DPACKAGE_VERSION=\\\"1.8.5\\\" -DPACKAGE_STRING=\\\"spatialindex\\ 1.8.5\\\" -DPACKAGE_BUGREPORT=\\\"mhadji@gmail.com\\\" -DPACKAGE_URL=\\\"\\\" -DSTDC_HEADERS=1 -DHAVE_SYS_TYPES_H=1 -DHAVE_SYS_STAT_H=1 -DHAVE_STDLIB_H=1 -DHAVE_STRING_H=1 -DHAVE_MEMORY_H=1 -DHAVE_STRINGS_H=1 -DHAVE_INTTYPES_H=1 -DHAVE_STDINT_H=1 -DHAVE_UNISTD_H=1 -DHAVE_DLFCN_H=1 -DLT_OBJDIR=\\\".libs/\\\" -DPACKAGE=\\\"spatialindex-src\\\" -DVERSION=\\\"1.8.5\\\" -DHAVE_FCNTL_H=1 -DHAVE_UNISTD_H=1 -DHAVE_SYS_TYPES_H=1 -DHAVE_SYS_STAT_H=1 -DHAVE_PTHREAD_H=1 -DHAVE_SYS_RESOURCE_H=1 -DHAVE_SYS_TIME_H=1 -DHAVE_STDINT_H=1 -DHAVE_FEATURES_H=1 -DHAVE_GETTIMEOFDAY=1 -DHAVE_MEMSET=1 -DHAVE_MEMCPY=1 -DHAVE_BCOPY=1 -DHAVE_SRAND48=1 -I. -I../../include -I../../include/capi    -Wall -Wno-long-long -pedantic -std=c++98  -O2 -DNDEBUG -MT IdVisitor.lo -MD -MP -MF $depbase.Tpo -c -o IdVisitor.lo IdVisitor.cc &&\\\n",
            "mv -f $depbase.Tpo $depbase.Plo\n",
            "libtool: compile:  g++ -DPACKAGE_NAME=\\\"spatialindex\\\" -DPACKAGE_TARNAME=\\\"spatialindex-src\\\" -DPACKAGE_VERSION=\\\"1.8.5\\\" \"-DPACKAGE_STRING=\\\"spatialindex 1.8.5\\\"\" -DPACKAGE_BUGREPORT=\\\"mhadji@gmail.com\\\" -DPACKAGE_URL=\\\"\\\" -DSTDC_HEADERS=1 -DHAVE_SYS_TYPES_H=1 -DHAVE_SYS_STAT_H=1 -DHAVE_STDLIB_H=1 -DHAVE_STRING_H=1 -DHAVE_MEMORY_H=1 -DHAVE_STRINGS_H=1 -DHAVE_INTTYPES_H=1 -DHAVE_STDINT_H=1 -DHAVE_UNISTD_H=1 -DHAVE_DLFCN_H=1 -DLT_OBJDIR=\\\".libs/\\\" -DPACKAGE=\\\"spatialindex-src\\\" -DVERSION=\\\"1.8.5\\\" -DHAVE_FCNTL_H=1 -DHAVE_UNISTD_H=1 -DHAVE_SYS_TYPES_H=1 -DHAVE_SYS_STAT_H=1 -DHAVE_PTHREAD_H=1 -DHAVE_SYS_RESOURCE_H=1 -DHAVE_SYS_TIME_H=1 -DHAVE_STDINT_H=1 -DHAVE_FEATURES_H=1 -DHAVE_GETTIMEOFDAY=1 -DHAVE_MEMSET=1 -DHAVE_MEMCPY=1 -DHAVE_BCOPY=1 -DHAVE_SRAND48=1 -I. -I../../include -I../../include/capi -Wall -Wno-long-long -pedantic -std=c++98 -O2 -DNDEBUG -MT IdVisitor.lo -MD -MP -MF .deps/IdVisitor.Tpo -c IdVisitor.cc  -fPIC -DPIC -o .libs/IdVisitor.o\n",
            "libtool: compile:  g++ -DPACKAGE_NAME=\\\"spatialindex\\\" -DPACKAGE_TARNAME=\\\"spatialindex-src\\\" -DPACKAGE_VERSION=\\\"1.8.5\\\" \"-DPACKAGE_STRING=\\\"spatialindex 1.8.5\\\"\" -DPACKAGE_BUGREPORT=\\\"mhadji@gmail.com\\\" -DPACKAGE_URL=\\\"\\\" -DSTDC_HEADERS=1 -DHAVE_SYS_TYPES_H=1 -DHAVE_SYS_STAT_H=1 -DHAVE_STDLIB_H=1 -DHAVE_STRING_H=1 -DHAVE_MEMORY_H=1 -DHAVE_STRINGS_H=1 -DHAVE_INTTYPES_H=1 -DHAVE_STDINT_H=1 -DHAVE_UNISTD_H=1 -DHAVE_DLFCN_H=1 -DLT_OBJDIR=\\\".libs/\\\" -DPACKAGE=\\\"spatialindex-src\\\" -DVERSION=\\\"1.8.5\\\" -DHAVE_FCNTL_H=1 -DHAVE_UNISTD_H=1 -DHAVE_SYS_TYPES_H=1 -DHAVE_SYS_STAT_H=1 -DHAVE_PTHREAD_H=1 -DHAVE_SYS_RESOURCE_H=1 -DHAVE_SYS_TIME_H=1 -DHAVE_STDINT_H=1 -DHAVE_FEATURES_H=1 -DHAVE_GETTIMEOFDAY=1 -DHAVE_MEMSET=1 -DHAVE_MEMCPY=1 -DHAVE_BCOPY=1 -DHAVE_SRAND48=1 -I. -I../../include -I../../include/capi -Wall -Wno-long-long -pedantic -std=c++98 -O2 -DNDEBUG -MT IdVisitor.lo -MD -MP -MF .deps/IdVisitor.Tpo -c IdVisitor.cc -o IdVisitor.o >/dev/null 2>&1\n",
            "depbase=`echo Index.lo | sed 's|[^/]*$|.deps/&|;s|\\.lo$||'`;\\\n",
            "/bin/bash ../../libtool  --tag=CXX   --mode=compile g++ -DPACKAGE_NAME=\\\"spatialindex\\\" -DPACKAGE_TARNAME=\\\"spatialindex-src\\\" -DPACKAGE_VERSION=\\\"1.8.5\\\" -DPACKAGE_STRING=\\\"spatialindex\\ 1.8.5\\\" -DPACKAGE_BUGREPORT=\\\"mhadji@gmail.com\\\" -DPACKAGE_URL=\\\"\\\" -DSTDC_HEADERS=1 -DHAVE_SYS_TYPES_H=1 -DHAVE_SYS_STAT_H=1 -DHAVE_STDLIB_H=1 -DHAVE_STRING_H=1 -DHAVE_MEMORY_H=1 -DHAVE_STRINGS_H=1 -DHAVE_INTTYPES_H=1 -DHAVE_STDINT_H=1 -DHAVE_UNISTD_H=1 -DHAVE_DLFCN_H=1 -DLT_OBJDIR=\\\".libs/\\\" -DPACKAGE=\\\"spatialindex-src\\\" -DVERSION=\\\"1.8.5\\\" -DHAVE_FCNTL_H=1 -DHAVE_UNISTD_H=1 -DHAVE_SYS_TYPES_H=1 -DHAVE_SYS_STAT_H=1 -DHAVE_PTHREAD_H=1 -DHAVE_SYS_RESOURCE_H=1 -DHAVE_SYS_TIME_H=1 -DHAVE_STDINT_H=1 -DHAVE_FEATURES_H=1 -DHAVE_GETTIMEOFDAY=1 -DHAVE_MEMSET=1 -DHAVE_MEMCPY=1 -DHAVE_BCOPY=1 -DHAVE_SRAND48=1 -I. -I../../include -I../../include/capi    -Wall -Wno-long-long -pedantic -std=c++98  -O2 -DNDEBUG -MT Index.lo -MD -MP -MF $depbase.Tpo -c -o Index.lo Index.cc &&\\\n",
            "mv -f $depbase.Tpo $depbase.Plo\n",
            "libtool: compile:  g++ -DPACKAGE_NAME=\\\"spatialindex\\\" -DPACKAGE_TARNAME=\\\"spatialindex-src\\\" -DPACKAGE_VERSION=\\\"1.8.5\\\" \"-DPACKAGE_STRING=\\\"spatialindex 1.8.5\\\"\" -DPACKAGE_BUGREPORT=\\\"mhadji@gmail.com\\\" -DPACKAGE_URL=\\\"\\\" -DSTDC_HEADERS=1 -DHAVE_SYS_TYPES_H=1 -DHAVE_SYS_STAT_H=1 -DHAVE_STDLIB_H=1 -DHAVE_STRING_H=1 -DHAVE_MEMORY_H=1 -DHAVE_STRINGS_H=1 -DHAVE_INTTYPES_H=1 -DHAVE_STDINT_H=1 -DHAVE_UNISTD_H=1 -DHAVE_DLFCN_H=1 -DLT_OBJDIR=\\\".libs/\\\" -DPACKAGE=\\\"spatialindex-src\\\" -DVERSION=\\\"1.8.5\\\" -DHAVE_FCNTL_H=1 -DHAVE_UNISTD_H=1 -DHAVE_SYS_TYPES_H=1 -DHAVE_SYS_STAT_H=1 -DHAVE_PTHREAD_H=1 -DHAVE_SYS_RESOURCE_H=1 -DHAVE_SYS_TIME_H=1 -DHAVE_STDINT_H=1 -DHAVE_FEATURES_H=1 -DHAVE_GETTIMEOFDAY=1 -DHAVE_MEMSET=1 -DHAVE_MEMCPY=1 -DHAVE_BCOPY=1 -DHAVE_SRAND48=1 -I. -I../../include -I../../include/capi -Wall -Wno-long-long -pedantic -std=c++98 -O2 -DNDEBUG -MT Index.lo -MD -MP -MF .deps/Index.Tpo -c Index.cc  -fPIC -DPIC -o .libs/Index.o\n",
            "libtool: compile:  g++ -DPACKAGE_NAME=\\\"spatialindex\\\" -DPACKAGE_TARNAME=\\\"spatialindex-src\\\" -DPACKAGE_VERSION=\\\"1.8.5\\\" \"-DPACKAGE_STRING=\\\"spatialindex 1.8.5\\\"\" -DPACKAGE_BUGREPORT=\\\"mhadji@gmail.com\\\" -DPACKAGE_URL=\\\"\\\" -DSTDC_HEADERS=1 -DHAVE_SYS_TYPES_H=1 -DHAVE_SYS_STAT_H=1 -DHAVE_STDLIB_H=1 -DHAVE_STRING_H=1 -DHAVE_MEMORY_H=1 -DHAVE_STRINGS_H=1 -DHAVE_INTTYPES_H=1 -DHAVE_STDINT_H=1 -DHAVE_UNISTD_H=1 -DHAVE_DLFCN_H=1 -DLT_OBJDIR=\\\".libs/\\\" -DPACKAGE=\\\"spatialindex-src\\\" -DVERSION=\\\"1.8.5\\\" -DHAVE_FCNTL_H=1 -DHAVE_UNISTD_H=1 -DHAVE_SYS_TYPES_H=1 -DHAVE_SYS_STAT_H=1 -DHAVE_PTHREAD_H=1 -DHAVE_SYS_RESOURCE_H=1 -DHAVE_SYS_TIME_H=1 -DHAVE_STDINT_H=1 -DHAVE_FEATURES_H=1 -DHAVE_GETTIMEOFDAY=1 -DHAVE_MEMSET=1 -DHAVE_MEMCPY=1 -DHAVE_BCOPY=1 -DHAVE_SRAND48=1 -I. -I../../include -I../../include/capi -Wall -Wno-long-long -pedantic -std=c++98 -O2 -DNDEBUG -MT Index.lo -MD -MP -MF .deps/Index.Tpo -c Index.cc -o Index.o >/dev/null 2>&1\n",
            "depbase=`echo LeafQuery.lo | sed 's|[^/]*$|.deps/&|;s|\\.lo$||'`;\\\n",
            "/bin/bash ../../libtool  --tag=CXX   --mode=compile g++ -DPACKAGE_NAME=\\\"spatialindex\\\" -DPACKAGE_TARNAME=\\\"spatialindex-src\\\" -DPACKAGE_VERSION=\\\"1.8.5\\\" -DPACKAGE_STRING=\\\"spatialindex\\ 1.8.5\\\" -DPACKAGE_BUGREPORT=\\\"mhadji@gmail.com\\\" -DPACKAGE_URL=\\\"\\\" -DSTDC_HEADERS=1 -DHAVE_SYS_TYPES_H=1 -DHAVE_SYS_STAT_H=1 -DHAVE_STDLIB_H=1 -DHAVE_STRING_H=1 -DHAVE_MEMORY_H=1 -DHAVE_STRINGS_H=1 -DHAVE_INTTYPES_H=1 -DHAVE_STDINT_H=1 -DHAVE_UNISTD_H=1 -DHAVE_DLFCN_H=1 -DLT_OBJDIR=\\\".libs/\\\" -DPACKAGE=\\\"spatialindex-src\\\" -DVERSION=\\\"1.8.5\\\" -DHAVE_FCNTL_H=1 -DHAVE_UNISTD_H=1 -DHAVE_SYS_TYPES_H=1 -DHAVE_SYS_STAT_H=1 -DHAVE_PTHREAD_H=1 -DHAVE_SYS_RESOURCE_H=1 -DHAVE_SYS_TIME_H=1 -DHAVE_STDINT_H=1 -DHAVE_FEATURES_H=1 -DHAVE_GETTIMEOFDAY=1 -DHAVE_MEMSET=1 -DHAVE_MEMCPY=1 -DHAVE_BCOPY=1 -DHAVE_SRAND48=1 -I. -I../../include -I../../include/capi    -Wall -Wno-long-long -pedantic -std=c++98  -O2 -DNDEBUG -MT LeafQuery.lo -MD -MP -MF $depbase.Tpo -c -o LeafQuery.lo LeafQuery.cc &&\\\n",
            "mv -f $depbase.Tpo $depbase.Plo\n",
            "libtool: compile:  g++ -DPACKAGE_NAME=\\\"spatialindex\\\" -DPACKAGE_TARNAME=\\\"spatialindex-src\\\" -DPACKAGE_VERSION=\\\"1.8.5\\\" \"-DPACKAGE_STRING=\\\"spatialindex 1.8.5\\\"\" -DPACKAGE_BUGREPORT=\\\"mhadji@gmail.com\\\" -DPACKAGE_URL=\\\"\\\" -DSTDC_HEADERS=1 -DHAVE_SYS_TYPES_H=1 -DHAVE_SYS_STAT_H=1 -DHAVE_STDLIB_H=1 -DHAVE_STRING_H=1 -DHAVE_MEMORY_H=1 -DHAVE_STRINGS_H=1 -DHAVE_INTTYPES_H=1 -DHAVE_STDINT_H=1 -DHAVE_UNISTD_H=1 -DHAVE_DLFCN_H=1 -DLT_OBJDIR=\\\".libs/\\\" -DPACKAGE=\\\"spatialindex-src\\\" -DVERSION=\\\"1.8.5\\\" -DHAVE_FCNTL_H=1 -DHAVE_UNISTD_H=1 -DHAVE_SYS_TYPES_H=1 -DHAVE_SYS_STAT_H=1 -DHAVE_PTHREAD_H=1 -DHAVE_SYS_RESOURCE_H=1 -DHAVE_SYS_TIME_H=1 -DHAVE_STDINT_H=1 -DHAVE_FEATURES_H=1 -DHAVE_GETTIMEOFDAY=1 -DHAVE_MEMSET=1 -DHAVE_MEMCPY=1 -DHAVE_BCOPY=1 -DHAVE_SRAND48=1 -I. -I../../include -I../../include/capi -Wall -Wno-long-long -pedantic -std=c++98 -O2 -DNDEBUG -MT LeafQuery.lo -MD -MP -MF .deps/LeafQuery.Tpo -c LeafQuery.cc  -fPIC -DPIC -o .libs/LeafQuery.o\n",
            "libtool: compile:  g++ -DPACKAGE_NAME=\\\"spatialindex\\\" -DPACKAGE_TARNAME=\\\"spatialindex-src\\\" -DPACKAGE_VERSION=\\\"1.8.5\\\" \"-DPACKAGE_STRING=\\\"spatialindex 1.8.5\\\"\" -DPACKAGE_BUGREPORT=\\\"mhadji@gmail.com\\\" -DPACKAGE_URL=\\\"\\\" -DSTDC_HEADERS=1 -DHAVE_SYS_TYPES_H=1 -DHAVE_SYS_STAT_H=1 -DHAVE_STDLIB_H=1 -DHAVE_STRING_H=1 -DHAVE_MEMORY_H=1 -DHAVE_STRINGS_H=1 -DHAVE_INTTYPES_H=1 -DHAVE_STDINT_H=1 -DHAVE_UNISTD_H=1 -DHAVE_DLFCN_H=1 -DLT_OBJDIR=\\\".libs/\\\" -DPACKAGE=\\\"spatialindex-src\\\" -DVERSION=\\\"1.8.5\\\" -DHAVE_FCNTL_H=1 -DHAVE_UNISTD_H=1 -DHAVE_SYS_TYPES_H=1 -DHAVE_SYS_STAT_H=1 -DHAVE_PTHREAD_H=1 -DHAVE_SYS_RESOURCE_H=1 -DHAVE_SYS_TIME_H=1 -DHAVE_STDINT_H=1 -DHAVE_FEATURES_H=1 -DHAVE_GETTIMEOFDAY=1 -DHAVE_MEMSET=1 -DHAVE_MEMCPY=1 -DHAVE_BCOPY=1 -DHAVE_SRAND48=1 -I. -I../../include -I../../include/capi -Wall -Wno-long-long -pedantic -std=c++98 -O2 -DNDEBUG -MT LeafQuery.lo -MD -MP -MF .deps/LeafQuery.Tpo -c LeafQuery.cc -o LeafQuery.o >/dev/null 2>&1\n",
            "depbase=`echo ObjVisitor.lo | sed 's|[^/]*$|.deps/&|;s|\\.lo$||'`;\\\n",
            "/bin/bash ../../libtool  --tag=CXX   --mode=compile g++ -DPACKAGE_NAME=\\\"spatialindex\\\" -DPACKAGE_TARNAME=\\\"spatialindex-src\\\" -DPACKAGE_VERSION=\\\"1.8.5\\\" -DPACKAGE_STRING=\\\"spatialindex\\ 1.8.5\\\" -DPACKAGE_BUGREPORT=\\\"mhadji@gmail.com\\\" -DPACKAGE_URL=\\\"\\\" -DSTDC_HEADERS=1 -DHAVE_SYS_TYPES_H=1 -DHAVE_SYS_STAT_H=1 -DHAVE_STDLIB_H=1 -DHAVE_STRING_H=1 -DHAVE_MEMORY_H=1 -DHAVE_STRINGS_H=1 -DHAVE_INTTYPES_H=1 -DHAVE_STDINT_H=1 -DHAVE_UNISTD_H=1 -DHAVE_DLFCN_H=1 -DLT_OBJDIR=\\\".libs/\\\" -DPACKAGE=\\\"spatialindex-src\\\" -DVERSION=\\\"1.8.5\\\" -DHAVE_FCNTL_H=1 -DHAVE_UNISTD_H=1 -DHAVE_SYS_TYPES_H=1 -DHAVE_SYS_STAT_H=1 -DHAVE_PTHREAD_H=1 -DHAVE_SYS_RESOURCE_H=1 -DHAVE_SYS_TIME_H=1 -DHAVE_STDINT_H=1 -DHAVE_FEATURES_H=1 -DHAVE_GETTIMEOFDAY=1 -DHAVE_MEMSET=1 -DHAVE_MEMCPY=1 -DHAVE_BCOPY=1 -DHAVE_SRAND48=1 -I. -I../../include -I../../include/capi    -Wall -Wno-long-long -pedantic -std=c++98  -O2 -DNDEBUG -MT ObjVisitor.lo -MD -MP -MF $depbase.Tpo -c -o ObjVisitor.lo ObjVisitor.cc &&\\\n",
            "mv -f $depbase.Tpo $depbase.Plo\n",
            "libtool: compile:  g++ -DPACKAGE_NAME=\\\"spatialindex\\\" -DPACKAGE_TARNAME=\\\"spatialindex-src\\\" -DPACKAGE_VERSION=\\\"1.8.5\\\" \"-DPACKAGE_STRING=\\\"spatialindex 1.8.5\\\"\" -DPACKAGE_BUGREPORT=\\\"mhadji@gmail.com\\\" -DPACKAGE_URL=\\\"\\\" -DSTDC_HEADERS=1 -DHAVE_SYS_TYPES_H=1 -DHAVE_SYS_STAT_H=1 -DHAVE_STDLIB_H=1 -DHAVE_STRING_H=1 -DHAVE_MEMORY_H=1 -DHAVE_STRINGS_H=1 -DHAVE_INTTYPES_H=1 -DHAVE_STDINT_H=1 -DHAVE_UNISTD_H=1 -DHAVE_DLFCN_H=1 -DLT_OBJDIR=\\\".libs/\\\" -DPACKAGE=\\\"spatialindex-src\\\" -DVERSION=\\\"1.8.5\\\" -DHAVE_FCNTL_H=1 -DHAVE_UNISTD_H=1 -DHAVE_SYS_TYPES_H=1 -DHAVE_SYS_STAT_H=1 -DHAVE_PTHREAD_H=1 -DHAVE_SYS_RESOURCE_H=1 -DHAVE_SYS_TIME_H=1 -DHAVE_STDINT_H=1 -DHAVE_FEATURES_H=1 -DHAVE_GETTIMEOFDAY=1 -DHAVE_MEMSET=1 -DHAVE_MEMCPY=1 -DHAVE_BCOPY=1 -DHAVE_SRAND48=1 -I. -I../../include -I../../include/capi -Wall -Wno-long-long -pedantic -std=c++98 -O2 -DNDEBUG -MT ObjVisitor.lo -MD -MP -MF .deps/ObjVisitor.Tpo -c ObjVisitor.cc  -fPIC -DPIC -o .libs/ObjVisitor.o\n",
            "libtool: compile:  g++ -DPACKAGE_NAME=\\\"spatialindex\\\" -DPACKAGE_TARNAME=\\\"spatialindex-src\\\" -DPACKAGE_VERSION=\\\"1.8.5\\\" \"-DPACKAGE_STRING=\\\"spatialindex 1.8.5\\\"\" -DPACKAGE_BUGREPORT=\\\"mhadji@gmail.com\\\" -DPACKAGE_URL=\\\"\\\" -DSTDC_HEADERS=1 -DHAVE_SYS_TYPES_H=1 -DHAVE_SYS_STAT_H=1 -DHAVE_STDLIB_H=1 -DHAVE_STRING_H=1 -DHAVE_MEMORY_H=1 -DHAVE_STRINGS_H=1 -DHAVE_INTTYPES_H=1 -DHAVE_STDINT_H=1 -DHAVE_UNISTD_H=1 -DHAVE_DLFCN_H=1 -DLT_OBJDIR=\\\".libs/\\\" -DPACKAGE=\\\"spatialindex-src\\\" -DVERSION=\\\"1.8.5\\\" -DHAVE_FCNTL_H=1 -DHAVE_UNISTD_H=1 -DHAVE_SYS_TYPES_H=1 -DHAVE_SYS_STAT_H=1 -DHAVE_PTHREAD_H=1 -DHAVE_SYS_RESOURCE_H=1 -DHAVE_SYS_TIME_H=1 -DHAVE_STDINT_H=1 -DHAVE_FEATURES_H=1 -DHAVE_GETTIMEOFDAY=1 -DHAVE_MEMSET=1 -DHAVE_MEMCPY=1 -DHAVE_BCOPY=1 -DHAVE_SRAND48=1 -I. -I../../include -I../../include/capi -Wall -Wno-long-long -pedantic -std=c++98 -O2 -DNDEBUG -MT ObjVisitor.lo -MD -MP -MF .deps/ObjVisitor.Tpo -c ObjVisitor.cc -o ObjVisitor.o >/dev/null 2>&1\n",
            "depbase=`echo sidx_api.lo | sed 's|[^/]*$|.deps/&|;s|\\.lo$||'`;\\\n",
            "/bin/bash ../../libtool  --tag=CXX   --mode=compile g++ -DPACKAGE_NAME=\\\"spatialindex\\\" -DPACKAGE_TARNAME=\\\"spatialindex-src\\\" -DPACKAGE_VERSION=\\\"1.8.5\\\" -DPACKAGE_STRING=\\\"spatialindex\\ 1.8.5\\\" -DPACKAGE_BUGREPORT=\\\"mhadji@gmail.com\\\" -DPACKAGE_URL=\\\"\\\" -DSTDC_HEADERS=1 -DHAVE_SYS_TYPES_H=1 -DHAVE_SYS_STAT_H=1 -DHAVE_STDLIB_H=1 -DHAVE_STRING_H=1 -DHAVE_MEMORY_H=1 -DHAVE_STRINGS_H=1 -DHAVE_INTTYPES_H=1 -DHAVE_STDINT_H=1 -DHAVE_UNISTD_H=1 -DHAVE_DLFCN_H=1 -DLT_OBJDIR=\\\".libs/\\\" -DPACKAGE=\\\"spatialindex-src\\\" -DVERSION=\\\"1.8.5\\\" -DHAVE_FCNTL_H=1 -DHAVE_UNISTD_H=1 -DHAVE_SYS_TYPES_H=1 -DHAVE_SYS_STAT_H=1 -DHAVE_PTHREAD_H=1 -DHAVE_SYS_RESOURCE_H=1 -DHAVE_SYS_TIME_H=1 -DHAVE_STDINT_H=1 -DHAVE_FEATURES_H=1 -DHAVE_GETTIMEOFDAY=1 -DHAVE_MEMSET=1 -DHAVE_MEMCPY=1 -DHAVE_BCOPY=1 -DHAVE_SRAND48=1 -I. -I../../include -I../../include/capi    -Wall -Wno-long-long -pedantic -std=c++98  -O2 -DNDEBUG -MT sidx_api.lo -MD -MP -MF $depbase.Tpo -c -o sidx_api.lo sidx_api.cc &&\\\n",
            "mv -f $depbase.Tpo $depbase.Plo\n",
            "libtool: compile:  g++ -DPACKAGE_NAME=\\\"spatialindex\\\" -DPACKAGE_TARNAME=\\\"spatialindex-src\\\" -DPACKAGE_VERSION=\\\"1.8.5\\\" \"-DPACKAGE_STRING=\\\"spatialindex 1.8.5\\\"\" -DPACKAGE_BUGREPORT=\\\"mhadji@gmail.com\\\" -DPACKAGE_URL=\\\"\\\" -DSTDC_HEADERS=1 -DHAVE_SYS_TYPES_H=1 -DHAVE_SYS_STAT_H=1 -DHAVE_STDLIB_H=1 -DHAVE_STRING_H=1 -DHAVE_MEMORY_H=1 -DHAVE_STRINGS_H=1 -DHAVE_INTTYPES_H=1 -DHAVE_STDINT_H=1 -DHAVE_UNISTD_H=1 -DHAVE_DLFCN_H=1 -DLT_OBJDIR=\\\".libs/\\\" -DPACKAGE=\\\"spatialindex-src\\\" -DVERSION=\\\"1.8.5\\\" -DHAVE_FCNTL_H=1 -DHAVE_UNISTD_H=1 -DHAVE_SYS_TYPES_H=1 -DHAVE_SYS_STAT_H=1 -DHAVE_PTHREAD_H=1 -DHAVE_SYS_RESOURCE_H=1 -DHAVE_SYS_TIME_H=1 -DHAVE_STDINT_H=1 -DHAVE_FEATURES_H=1 -DHAVE_GETTIMEOFDAY=1 -DHAVE_MEMSET=1 -DHAVE_MEMCPY=1 -DHAVE_BCOPY=1 -DHAVE_SRAND48=1 -I. -I../../include -I../../include/capi -Wall -Wno-long-long -pedantic -std=c++98 -O2 -DNDEBUG -MT sidx_api.lo -MD -MP -MF .deps/sidx_api.Tpo -c sidx_api.cc  -fPIC -DPIC -o .libs/sidx_api.o\n",
            "libtool: compile:  g++ -DPACKAGE_NAME=\\\"spatialindex\\\" -DPACKAGE_TARNAME=\\\"spatialindex-src\\\" -DPACKAGE_VERSION=\\\"1.8.5\\\" \"-DPACKAGE_STRING=\\\"spatialindex 1.8.5\\\"\" -DPACKAGE_BUGREPORT=\\\"mhadji@gmail.com\\\" -DPACKAGE_URL=\\\"\\\" -DSTDC_HEADERS=1 -DHAVE_SYS_TYPES_H=1 -DHAVE_SYS_STAT_H=1 -DHAVE_STDLIB_H=1 -DHAVE_STRING_H=1 -DHAVE_MEMORY_H=1 -DHAVE_STRINGS_H=1 -DHAVE_INTTYPES_H=1 -DHAVE_STDINT_H=1 -DHAVE_UNISTD_H=1 -DHAVE_DLFCN_H=1 -DLT_OBJDIR=\\\".libs/\\\" -DPACKAGE=\\\"spatialindex-src\\\" -DVERSION=\\\"1.8.5\\\" -DHAVE_FCNTL_H=1 -DHAVE_UNISTD_H=1 -DHAVE_SYS_TYPES_H=1 -DHAVE_SYS_STAT_H=1 -DHAVE_PTHREAD_H=1 -DHAVE_SYS_RESOURCE_H=1 -DHAVE_SYS_TIME_H=1 -DHAVE_STDINT_H=1 -DHAVE_FEATURES_H=1 -DHAVE_GETTIMEOFDAY=1 -DHAVE_MEMSET=1 -DHAVE_MEMCPY=1 -DHAVE_BCOPY=1 -DHAVE_SRAND48=1 -I. -I../../include -I../../include/capi -Wall -Wno-long-long -pedantic -std=c++98 -O2 -DNDEBUG -MT sidx_api.lo -MD -MP -MF .deps/sidx_api.Tpo -c sidx_api.cc -o sidx_api.o >/dev/null 2>&1\n",
            "depbase=`echo Utility.lo | sed 's|[^/]*$|.deps/&|;s|\\.lo$||'`;\\\n",
            "/bin/bash ../../libtool  --tag=CXX   --mode=compile g++ -DPACKAGE_NAME=\\\"spatialindex\\\" -DPACKAGE_TARNAME=\\\"spatialindex-src\\\" -DPACKAGE_VERSION=\\\"1.8.5\\\" -DPACKAGE_STRING=\\\"spatialindex\\ 1.8.5\\\" -DPACKAGE_BUGREPORT=\\\"mhadji@gmail.com\\\" -DPACKAGE_URL=\\\"\\\" -DSTDC_HEADERS=1 -DHAVE_SYS_TYPES_H=1 -DHAVE_SYS_STAT_H=1 -DHAVE_STDLIB_H=1 -DHAVE_STRING_H=1 -DHAVE_MEMORY_H=1 -DHAVE_STRINGS_H=1 -DHAVE_INTTYPES_H=1 -DHAVE_STDINT_H=1 -DHAVE_UNISTD_H=1 -DHAVE_DLFCN_H=1 -DLT_OBJDIR=\\\".libs/\\\" -DPACKAGE=\\\"spatialindex-src\\\" -DVERSION=\\\"1.8.5\\\" -DHAVE_FCNTL_H=1 -DHAVE_UNISTD_H=1 -DHAVE_SYS_TYPES_H=1 -DHAVE_SYS_STAT_H=1 -DHAVE_PTHREAD_H=1 -DHAVE_SYS_RESOURCE_H=1 -DHAVE_SYS_TIME_H=1 -DHAVE_STDINT_H=1 -DHAVE_FEATURES_H=1 -DHAVE_GETTIMEOFDAY=1 -DHAVE_MEMSET=1 -DHAVE_MEMCPY=1 -DHAVE_BCOPY=1 -DHAVE_SRAND48=1 -I. -I../../include -I../../include/capi    -Wall -Wno-long-long -pedantic -std=c++98  -O2 -DNDEBUG -MT Utility.lo -MD -MP -MF $depbase.Tpo -c -o Utility.lo Utility.cc &&\\\n",
            "mv -f $depbase.Tpo $depbase.Plo\n",
            "libtool: compile:  g++ -DPACKAGE_NAME=\\\"spatialindex\\\" -DPACKAGE_TARNAME=\\\"spatialindex-src\\\" -DPACKAGE_VERSION=\\\"1.8.5\\\" \"-DPACKAGE_STRING=\\\"spatialindex 1.8.5\\\"\" -DPACKAGE_BUGREPORT=\\\"mhadji@gmail.com\\\" -DPACKAGE_URL=\\\"\\\" -DSTDC_HEADERS=1 -DHAVE_SYS_TYPES_H=1 -DHAVE_SYS_STAT_H=1 -DHAVE_STDLIB_H=1 -DHAVE_STRING_H=1 -DHAVE_MEMORY_H=1 -DHAVE_STRINGS_H=1 -DHAVE_INTTYPES_H=1 -DHAVE_STDINT_H=1 -DHAVE_UNISTD_H=1 -DHAVE_DLFCN_H=1 -DLT_OBJDIR=\\\".libs/\\\" -DPACKAGE=\\\"spatialindex-src\\\" -DVERSION=\\\"1.8.5\\\" -DHAVE_FCNTL_H=1 -DHAVE_UNISTD_H=1 -DHAVE_SYS_TYPES_H=1 -DHAVE_SYS_STAT_H=1 -DHAVE_PTHREAD_H=1 -DHAVE_SYS_RESOURCE_H=1 -DHAVE_SYS_TIME_H=1 -DHAVE_STDINT_H=1 -DHAVE_FEATURES_H=1 -DHAVE_GETTIMEOFDAY=1 -DHAVE_MEMSET=1 -DHAVE_MEMCPY=1 -DHAVE_BCOPY=1 -DHAVE_SRAND48=1 -I. -I../../include -I../../include/capi -Wall -Wno-long-long -pedantic -std=c++98 -O2 -DNDEBUG -MT Utility.lo -MD -MP -MF .deps/Utility.Tpo -c Utility.cc  -fPIC -DPIC -o .libs/Utility.o\n",
            "libtool: compile:  g++ -DPACKAGE_NAME=\\\"spatialindex\\\" -DPACKAGE_TARNAME=\\\"spatialindex-src\\\" -DPACKAGE_VERSION=\\\"1.8.5\\\" \"-DPACKAGE_STRING=\\\"spatialindex 1.8.5\\\"\" -DPACKAGE_BUGREPORT=\\\"mhadji@gmail.com\\\" -DPACKAGE_URL=\\\"\\\" -DSTDC_HEADERS=1 -DHAVE_SYS_TYPES_H=1 -DHAVE_SYS_STAT_H=1 -DHAVE_STDLIB_H=1 -DHAVE_STRING_H=1 -DHAVE_MEMORY_H=1 -DHAVE_STRINGS_H=1 -DHAVE_INTTYPES_H=1 -DHAVE_STDINT_H=1 -DHAVE_UNISTD_H=1 -DHAVE_DLFCN_H=1 -DLT_OBJDIR=\\\".libs/\\\" -DPACKAGE=\\\"spatialindex-src\\\" -DVERSION=\\\"1.8.5\\\" -DHAVE_FCNTL_H=1 -DHAVE_UNISTD_H=1 -DHAVE_SYS_TYPES_H=1 -DHAVE_SYS_STAT_H=1 -DHAVE_PTHREAD_H=1 -DHAVE_SYS_RESOURCE_H=1 -DHAVE_SYS_TIME_H=1 -DHAVE_STDINT_H=1 -DHAVE_FEATURES_H=1 -DHAVE_GETTIMEOFDAY=1 -DHAVE_MEMSET=1 -DHAVE_MEMCPY=1 -DHAVE_BCOPY=1 -DHAVE_SRAND48=1 -I. -I../../include -I../../include/capi -Wall -Wno-long-long -pedantic -std=c++98 -O2 -DNDEBUG -MT Utility.lo -MD -MP -MF .deps/Utility.Tpo -c Utility.cc -o Utility.o >/dev/null 2>&1\n",
            "/bin/bash ../../libtool  --tag=CXX   --mode=link g++  -Wall -Wno-long-long -pedantic -std=c++98  -O2 -DNDEBUG   -o libsidxc.la  BoundsQuery.lo CountVisitor.lo CustomStorage.lo DataStream.lo Error.lo IdVisitor.lo Index.lo LeafQuery.lo ObjVisitor.lo sidx_api.lo Utility.lo  -lpthread\n",
            "libtool: link: ar cru .libs/libsidxc.a .libs/BoundsQuery.o .libs/CountVisitor.o .libs/CustomStorage.o .libs/DataStream.o .libs/Error.o .libs/IdVisitor.o .libs/Index.o .libs/LeafQuery.o .libs/ObjVisitor.o .libs/sidx_api.o .libs/Utility.o \n",
            "ar: `u' modifier ignored since `D' is the default (see `U')\n",
            "libtool: link: ranlib .libs/libsidxc.a\n",
            "libtool: link: ( cd \".libs\" && rm -f \"libsidxc.la\" && ln -s \"../libsidxc.la\" \"libsidxc.la\" )\n",
            "make[2]: Leaving directory '/content/spatialindex-src-1.8.5/src/capi'\n",
            "make[2]: Entering directory '/content/spatialindex-src-1.8.5/src'\n",
            "make[2]: Nothing to be done for 'all-am'.\n",
            "make[2]: Leaving directory '/content/spatialindex-src-1.8.5/src'\n",
            "make[1]: Leaving directory '/content/spatialindex-src-1.8.5/src'\n",
            "Making all in .\n",
            "make[1]: Entering directory '/content/spatialindex-src-1.8.5'\n",
            "/bin/bash ./libtool  --tag=CC   --mode=link gcc  -Wall -Wno-long-long -pedantic  -version-info 4:1:0 -no-undefined -lstdc++  -o libspatialindex.la -rpath /usr/local/lib  src/spatialindex/liblibrary.la src/storagemanager/libstoragemanager.la src/rtree/librtree.la src/mvrtree/libmvrtree.la src/tprtree/libtprtree.la src/tools/libtools.la -lpthread\n",
            "libtool: link: gcc -shared  -fPIC -DPIC  -Wl,--whole-archive src/spatialindex/.libs/liblibrary.a src/storagemanager/.libs/libstoragemanager.a src/rtree/.libs/librtree.a src/mvrtree/.libs/libmvrtree.a src/tprtree/.libs/libtprtree.a src/tools/.libs/libtools.a -Wl,--no-whole-archive  -lstdc++ -lpthread    -Wl,-soname -Wl,libspatialindex.so.4 -o .libs/libspatialindex.so.4.0.1\n",
            "src/tools/.libs/libtools.a(Tools.o): In function `Tools::TemporaryFile::TemporaryFile()':\n",
            "Tools.cc:(.text+0x3d35): warning: the use of `mktemp' is dangerous, better use `mkstemp' or `mkdtemp'\n",
            "libtool: link: (cd \".libs\" && rm -f \"libspatialindex.so.4\" && ln -s \"libspatialindex.so.4.0.1\" \"libspatialindex.so.4\")\n",
            "libtool: link: (cd \".libs\" && rm -f \"libspatialindex.so\" && ln -s \"libspatialindex.so.4.0.1\" \"libspatialindex.so\")\n",
            "libtool: link: (cd .libs/libspatialindex.lax/liblibrary.a && ar x \"/content/spatialindex-src-1.8.5/src/spatialindex/.libs/liblibrary.a\")\n",
            "libtool: link: (cd .libs/libspatialindex.lax/libstoragemanager.a && ar x \"/content/spatialindex-src-1.8.5/src/storagemanager/.libs/libstoragemanager.a\")\n",
            "libtool: link: (cd .libs/libspatialindex.lax/librtree.a && ar x \"/content/spatialindex-src-1.8.5/src/rtree/.libs/librtree.a\")\n",
            "libtool: link: (cd .libs/libspatialindex.lax/libmvrtree.a && ar x \"/content/spatialindex-src-1.8.5/src/mvrtree/.libs/libmvrtree.a\")\n",
            "libtool: link: (cd .libs/libspatialindex.lax/libtprtree.a && ar x \"/content/spatialindex-src-1.8.5/src/tprtree/.libs/libtprtree.a\")\n",
            "libtool: link: (cd .libs/libspatialindex.lax/libtools.a && ar x \"/content/spatialindex-src-1.8.5/src/tools/.libs/libtools.a\")\n",
            "copying selected object files to avoid basename conflicts...\n",
            "libtool: link: ln .libs/libspatialindex.lax/libmvrtree.a/Index.o .libs/libspatialindex.lax/lt1-Index.o || cp .libs/libspatialindex.lax/libmvrtree.a/Index.o .libs/libspatialindex.lax/lt1-Index.o\n",
            "libtool: link: ln .libs/libspatialindex.lax/libmvrtree.a/Leaf.o .libs/libspatialindex.lax/lt2-Leaf.o || cp .libs/libspatialindex.lax/libmvrtree.a/Leaf.o .libs/libspatialindex.lax/lt2-Leaf.o\n",
            "libtool: link: ln .libs/libspatialindex.lax/libmvrtree.a/Node.o .libs/libspatialindex.lax/lt3-Node.o || cp .libs/libspatialindex.lax/libmvrtree.a/Node.o .libs/libspatialindex.lax/lt3-Node.o\n",
            "libtool: link: ln .libs/libspatialindex.lax/libmvrtree.a/Statistics.o .libs/libspatialindex.lax/lt4-Statistics.o || cp .libs/libspatialindex.lax/libmvrtree.a/Statistics.o .libs/libspatialindex.lax/lt4-Statistics.o\n",
            "libtool: link: ln .libs/libspatialindex.lax/libtprtree.a/Index.o .libs/libspatialindex.lax/lt5-Index.o || cp .libs/libspatialindex.lax/libtprtree.a/Index.o .libs/libspatialindex.lax/lt5-Index.o\n",
            "libtool: link: ln .libs/libspatialindex.lax/libtprtree.a/Leaf.o .libs/libspatialindex.lax/lt6-Leaf.o || cp .libs/libspatialindex.lax/libtprtree.a/Leaf.o .libs/libspatialindex.lax/lt6-Leaf.o\n",
            "libtool: link: ln .libs/libspatialindex.lax/libtprtree.a/Node.o .libs/libspatialindex.lax/lt7-Node.o || cp .libs/libspatialindex.lax/libtprtree.a/Node.o .libs/libspatialindex.lax/lt7-Node.o\n",
            "libtool: link: ln .libs/libspatialindex.lax/libtprtree.a/Statistics.o .libs/libspatialindex.lax/lt8-Statistics.o || cp .libs/libspatialindex.lax/libtprtree.a/Statistics.o .libs/libspatialindex.lax/lt8-Statistics.o\n",
            "libtool: link: ar cru .libs/libspatialindex.a .libs/libspatialindex.lax/liblibrary.a/LineSegment.o .libs/libspatialindex.lax/liblibrary.a/MovingPoint.o .libs/libspatialindex.lax/liblibrary.a/MovingRegion.o .libs/libspatialindex.lax/liblibrary.a/Point.o .libs/libspatialindex.lax/liblibrary.a/Region.o .libs/libspatialindex.lax/liblibrary.a/SpatialIndexImpl.o .libs/libspatialindex.lax/liblibrary.a/TimePoint.o .libs/libspatialindex.lax/liblibrary.a/TimeRegion.o .libs/libspatialindex.lax/libstoragemanager.a/Buffer.o .libs/libspatialindex.lax/libstoragemanager.a/DiskStorageManager.o .libs/libspatialindex.lax/libstoragemanager.a/MemoryStorageManager.o .libs/libspatialindex.lax/libstoragemanager.a/RandomEvictionsBuffer.o .libs/libspatialindex.lax/librtree.a/BulkLoader.o .libs/libspatialindex.lax/librtree.a/Index.o .libs/libspatialindex.lax/librtree.a/Leaf.o .libs/libspatialindex.lax/librtree.a/Node.o .libs/libspatialindex.lax/librtree.a/RTree.o .libs/libspatialindex.lax/librtree.a/Statistics.o .libs/libspatialindex.lax/lt1-Index.o .libs/libspatialindex.lax/lt2-Leaf.o .libs/libspatialindex.lax/libmvrtree.a/MVRTree.o .libs/libspatialindex.lax/lt3-Node.o .libs/libspatialindex.lax/lt4-Statistics.o .libs/libspatialindex.lax/lt5-Index.o .libs/libspatialindex.lax/lt6-Leaf.o .libs/libspatialindex.lax/lt7-Node.o .libs/libspatialindex.lax/lt8-Statistics.o .libs/libspatialindex.lax/libtprtree.a/TPRTree.o .libs/libspatialindex.lax/libtools.a/Tools.o .libs/libspatialindex.lax/libtools.a/rand48.o\n",
            "ar: `u' modifier ignored since `D' is the default (see `U')\n",
            "libtool: link: ranlib .libs/libspatialindex.a\n",
            "libtool: link: rm -fr .libs/libspatialindex.lax .libs/libspatialindex.lax\n",
            "libtool: link: ( cd \".libs\" && rm -f \"libspatialindex.la\" && ln -s \"../libspatialindex.la\" \"libspatialindex.la\" )\n",
            "/bin/bash ./libtool  --tag=CC   --mode=link gcc  -Wall -Wno-long-long -pedantic  -version-info 4:1:0 -no-undefined -lstdc++  -o libspatialindex_c.la -rpath /usr/local/lib  libspatialindex.la src/capi/libsidxc.la -lpthread\n",
            "libtool: link: gcc -shared  -fPIC -DPIC  -Wl,--whole-archive src/capi/.libs/libsidxc.a -Wl,--no-whole-archive  -Wl,-rpath -Wl,/content/spatialindex-src-1.8.5/.libs -lstdc++ ./.libs/libspatialindex.so -lpthread    -Wl,-soname -Wl,libspatialindex_c.so.4 -o .libs/libspatialindex_c.so.4.0.1\n",
            "libtool: link: (cd \".libs\" && rm -f \"libspatialindex_c.so.4\" && ln -s \"libspatialindex_c.so.4.0.1\" \"libspatialindex_c.so.4\")\n",
            "libtool: link: (cd \".libs\" && rm -f \"libspatialindex_c.so\" && ln -s \"libspatialindex_c.so.4.0.1\" \"libspatialindex_c.so\")\n",
            "libtool: link: (cd .libs/libspatialindex_c.lax/libsidxc.a && ar x \"/content/spatialindex-src-1.8.5/src/capi/.libs/libsidxc.a\")\n",
            "libtool: link: ar cru .libs/libspatialindex_c.a   .libs/libspatialindex_c.lax/libsidxc.a/BoundsQuery.o .libs/libspatialindex_c.lax/libsidxc.a/CountVisitor.o .libs/libspatialindex_c.lax/libsidxc.a/CustomStorage.o .libs/libspatialindex_c.lax/libsidxc.a/DataStream.o .libs/libspatialindex_c.lax/libsidxc.a/Error.o .libs/libspatialindex_c.lax/libsidxc.a/IdVisitor.o .libs/libspatialindex_c.lax/libsidxc.a/Index.o .libs/libspatialindex_c.lax/libsidxc.a/LeafQuery.o .libs/libspatialindex_c.lax/libsidxc.a/ObjVisitor.o .libs/libspatialindex_c.lax/libsidxc.a/Utility.o .libs/libspatialindex_c.lax/libsidxc.a/sidx_api.o \n",
            "ar: `u' modifier ignored since `D' is the default (see `U')\n",
            "libtool: link: ranlib .libs/libspatialindex_c.a\n",
            "libtool: link: rm -fr .libs/libspatialindex_c.lax\n",
            "libtool: link: ( cd \".libs\" && rm -f \"libspatialindex_c.la\" && ln -s \"../libspatialindex_c.la\" \"libspatialindex_c.la\" )\n",
            "make[1]: Leaving directory '/content/spatialindex-src-1.8.5'\n",
            "Making all in test\n",
            "make[1]: Entering directory '/content/spatialindex-src-1.8.5/test'\n",
            "Making all in geometry\n",
            "make[2]: Entering directory '/content/spatialindex-src-1.8.5/test/geometry'\n",
            "depbase=`echo Intersection.o | sed 's|[^/]*$|.deps/&|;s|\\.o$||'`;\\\n",
            "g++ -DPACKAGE_NAME=\\\"spatialindex\\\" -DPACKAGE_TARNAME=\\\"spatialindex-src\\\" -DPACKAGE_VERSION=\\\"1.8.5\\\" -DPACKAGE_STRING=\\\"spatialindex\\ 1.8.5\\\" -DPACKAGE_BUGREPORT=\\\"mhadji@gmail.com\\\" -DPACKAGE_URL=\\\"\\\" -DSTDC_HEADERS=1 -DHAVE_SYS_TYPES_H=1 -DHAVE_SYS_STAT_H=1 -DHAVE_STDLIB_H=1 -DHAVE_STRING_H=1 -DHAVE_MEMORY_H=1 -DHAVE_STRINGS_H=1 -DHAVE_INTTYPES_H=1 -DHAVE_STDINT_H=1 -DHAVE_UNISTD_H=1 -DHAVE_DLFCN_H=1 -DLT_OBJDIR=\\\".libs/\\\" -DPACKAGE=\\\"spatialindex-src\\\" -DVERSION=\\\"1.8.5\\\" -DHAVE_FCNTL_H=1 -DHAVE_UNISTD_H=1 -DHAVE_SYS_TYPES_H=1 -DHAVE_SYS_STAT_H=1 -DHAVE_PTHREAD_H=1 -DHAVE_SYS_RESOURCE_H=1 -DHAVE_SYS_TIME_H=1 -DHAVE_STDINT_H=1 -DHAVE_FEATURES_H=1 -DHAVE_GETTIMEOFDAY=1 -DHAVE_MEMSET=1 -DHAVE_MEMCPY=1 -DHAVE_BCOPY=1 -DHAVE_SRAND48=1 -I. -I../../include    -Wall -Wno-long-long -pedantic -std=c++98  -O2 -DNDEBUG -MT Intersection.o -MD -MP -MF $depbase.Tpo -c -o Intersection.o Intersection.cc &&\\\n",
            "mv -f $depbase.Tpo $depbase.Po\n",
            "/bin/bash ../../libtool  --tag=CXX   --mode=link g++  -Wall -Wno-long-long -pedantic -std=c++98  -O2 -DNDEBUG   -o Intersection Intersection.o ../../libspatialindex.la -lpthread\n",
            "libtool: link: g++ -Wall -Wno-long-long -pedantic -std=c++98 -O2 -DNDEBUG -o .libs/Intersection Intersection.o  ../../.libs/libspatialindex.so -lpthread\n",
            "make[2]: Leaving directory '/content/spatialindex-src-1.8.5/test/geometry'\n",
            "Making all in rtree\n",
            "make[2]: Entering directory '/content/spatialindex-src-1.8.5/test/rtree'\n",
            "depbase=`echo Generator.o | sed 's|[^/]*$|.deps/&|;s|\\.o$||'`;\\\n",
            "g++ -DPACKAGE_NAME=\\\"spatialindex\\\" -DPACKAGE_TARNAME=\\\"spatialindex-src\\\" -DPACKAGE_VERSION=\\\"1.8.5\\\" -DPACKAGE_STRING=\\\"spatialindex\\ 1.8.5\\\" -DPACKAGE_BUGREPORT=\\\"mhadji@gmail.com\\\" -DPACKAGE_URL=\\\"\\\" -DSTDC_HEADERS=1 -DHAVE_SYS_TYPES_H=1 -DHAVE_SYS_STAT_H=1 -DHAVE_STDLIB_H=1 -DHAVE_STRING_H=1 -DHAVE_MEMORY_H=1 -DHAVE_STRINGS_H=1 -DHAVE_INTTYPES_H=1 -DHAVE_STDINT_H=1 -DHAVE_UNISTD_H=1 -DHAVE_DLFCN_H=1 -DLT_OBJDIR=\\\".libs/\\\" -DPACKAGE=\\\"spatialindex-src\\\" -DVERSION=\\\"1.8.5\\\" -DHAVE_FCNTL_H=1 -DHAVE_UNISTD_H=1 -DHAVE_SYS_TYPES_H=1 -DHAVE_SYS_STAT_H=1 -DHAVE_PTHREAD_H=1 -DHAVE_SYS_RESOURCE_H=1 -DHAVE_SYS_TIME_H=1 -DHAVE_STDINT_H=1 -DHAVE_FEATURES_H=1 -DHAVE_GETTIMEOFDAY=1 -DHAVE_MEMSET=1 -DHAVE_MEMCPY=1 -DHAVE_BCOPY=1 -DHAVE_SRAND48=1 -I. -I../../include     -Wall -Wno-long-long -pedantic -std=c++98  -O2 -DNDEBUG -MT Generator.o -MD -MP -MF $depbase.Tpo -c -o Generator.o Generator.cc &&\\\n",
            "mv -f $depbase.Tpo $depbase.Po\n",
            "/bin/bash ../../libtool  --tag=CXX   --mode=link g++  -Wall -Wno-long-long -pedantic -std=c++98  -O2 -DNDEBUG   -o Generator Generator.o ../../libspatialindex.la -lpthread\n",
            "libtool: link: g++ -Wall -Wno-long-long -pedantic -std=c++98 -O2 -DNDEBUG -o .libs/Generator Generator.o  ../../.libs/libspatialindex.so -lpthread\n",
            "depbase=`echo Exhaustive.o | sed 's|[^/]*$|.deps/&|;s|\\.o$||'`;\\\n",
            "g++ -DPACKAGE_NAME=\\\"spatialindex\\\" -DPACKAGE_TARNAME=\\\"spatialindex-src\\\" -DPACKAGE_VERSION=\\\"1.8.5\\\" -DPACKAGE_STRING=\\\"spatialindex\\ 1.8.5\\\" -DPACKAGE_BUGREPORT=\\\"mhadji@gmail.com\\\" -DPACKAGE_URL=\\\"\\\" -DSTDC_HEADERS=1 -DHAVE_SYS_TYPES_H=1 -DHAVE_SYS_STAT_H=1 -DHAVE_STDLIB_H=1 -DHAVE_STRING_H=1 -DHAVE_MEMORY_H=1 -DHAVE_STRINGS_H=1 -DHAVE_INTTYPES_H=1 -DHAVE_STDINT_H=1 -DHAVE_UNISTD_H=1 -DHAVE_DLFCN_H=1 -DLT_OBJDIR=\\\".libs/\\\" -DPACKAGE=\\\"spatialindex-src\\\" -DVERSION=\\\"1.8.5\\\" -DHAVE_FCNTL_H=1 -DHAVE_UNISTD_H=1 -DHAVE_SYS_TYPES_H=1 -DHAVE_SYS_STAT_H=1 -DHAVE_PTHREAD_H=1 -DHAVE_SYS_RESOURCE_H=1 -DHAVE_SYS_TIME_H=1 -DHAVE_STDINT_H=1 -DHAVE_FEATURES_H=1 -DHAVE_GETTIMEOFDAY=1 -DHAVE_MEMSET=1 -DHAVE_MEMCPY=1 -DHAVE_BCOPY=1 -DHAVE_SRAND48=1 -I. -I../../include     -Wall -Wno-long-long -pedantic -std=c++98  -O2 -DNDEBUG -MT Exhaustive.o -MD -MP -MF $depbase.Tpo -c -o Exhaustive.o Exhaustive.cc &&\\\n",
            "mv -f $depbase.Tpo $depbase.Po\n",
            "/bin/bash ../../libtool  --tag=CXX   --mode=link g++  -Wall -Wno-long-long -pedantic -std=c++98  -O2 -DNDEBUG   -o Exhaustive Exhaustive.o ../../libspatialindex.la -lpthread\n",
            "libtool: link: g++ -Wall -Wno-long-long -pedantic -std=c++98 -O2 -DNDEBUG -o .libs/Exhaustive Exhaustive.o  ../../.libs/libspatialindex.so -lpthread\n",
            "depbase=`echo RTreeLoad.o | sed 's|[^/]*$|.deps/&|;s|\\.o$||'`;\\\n",
            "g++ -DPACKAGE_NAME=\\\"spatialindex\\\" -DPACKAGE_TARNAME=\\\"spatialindex-src\\\" -DPACKAGE_VERSION=\\\"1.8.5\\\" -DPACKAGE_STRING=\\\"spatialindex\\ 1.8.5\\\" -DPACKAGE_BUGREPORT=\\\"mhadji@gmail.com\\\" -DPACKAGE_URL=\\\"\\\" -DSTDC_HEADERS=1 -DHAVE_SYS_TYPES_H=1 -DHAVE_SYS_STAT_H=1 -DHAVE_STDLIB_H=1 -DHAVE_STRING_H=1 -DHAVE_MEMORY_H=1 -DHAVE_STRINGS_H=1 -DHAVE_INTTYPES_H=1 -DHAVE_STDINT_H=1 -DHAVE_UNISTD_H=1 -DHAVE_DLFCN_H=1 -DLT_OBJDIR=\\\".libs/\\\" -DPACKAGE=\\\"spatialindex-src\\\" -DVERSION=\\\"1.8.5\\\" -DHAVE_FCNTL_H=1 -DHAVE_UNISTD_H=1 -DHAVE_SYS_TYPES_H=1 -DHAVE_SYS_STAT_H=1 -DHAVE_PTHREAD_H=1 -DHAVE_SYS_RESOURCE_H=1 -DHAVE_SYS_TIME_H=1 -DHAVE_STDINT_H=1 -DHAVE_FEATURES_H=1 -DHAVE_GETTIMEOFDAY=1 -DHAVE_MEMSET=1 -DHAVE_MEMCPY=1 -DHAVE_BCOPY=1 -DHAVE_SRAND48=1 -I. -I../../include     -Wall -Wno-long-long -pedantic -std=c++98  -O2 -DNDEBUG -MT RTreeLoad.o -MD -MP -MF $depbase.Tpo -c -o RTreeLoad.o RTreeLoad.cc &&\\\n",
            "mv -f $depbase.Tpo $depbase.Po\n",
            "/bin/bash ../../libtool  --tag=CXX   --mode=link g++  -Wall -Wno-long-long -pedantic -std=c++98  -O2 -DNDEBUG   -o RTreeLoad RTreeLoad.o ../../libspatialindex.la -lpthread\n",
            "libtool: link: g++ -Wall -Wno-long-long -pedantic -std=c++98 -O2 -DNDEBUG -o .libs/RTreeLoad RTreeLoad.o  ../../.libs/libspatialindex.so -lpthread\n",
            "depbase=`echo RTreeQuery.o | sed 's|[^/]*$|.deps/&|;s|\\.o$||'`;\\\n",
            "g++ -DPACKAGE_NAME=\\\"spatialindex\\\" -DPACKAGE_TARNAME=\\\"spatialindex-src\\\" -DPACKAGE_VERSION=\\\"1.8.5\\\" -DPACKAGE_STRING=\\\"spatialindex\\ 1.8.5\\\" -DPACKAGE_BUGREPORT=\\\"mhadji@gmail.com\\\" -DPACKAGE_URL=\\\"\\\" -DSTDC_HEADERS=1 -DHAVE_SYS_TYPES_H=1 -DHAVE_SYS_STAT_H=1 -DHAVE_STDLIB_H=1 -DHAVE_STRING_H=1 -DHAVE_MEMORY_H=1 -DHAVE_STRINGS_H=1 -DHAVE_INTTYPES_H=1 -DHAVE_STDINT_H=1 -DHAVE_UNISTD_H=1 -DHAVE_DLFCN_H=1 -DLT_OBJDIR=\\\".libs/\\\" -DPACKAGE=\\\"spatialindex-src\\\" -DVERSION=\\\"1.8.5\\\" -DHAVE_FCNTL_H=1 -DHAVE_UNISTD_H=1 -DHAVE_SYS_TYPES_H=1 -DHAVE_SYS_STAT_H=1 -DHAVE_PTHREAD_H=1 -DHAVE_SYS_RESOURCE_H=1 -DHAVE_SYS_TIME_H=1 -DHAVE_STDINT_H=1 -DHAVE_FEATURES_H=1 -DHAVE_GETTIMEOFDAY=1 -DHAVE_MEMSET=1 -DHAVE_MEMCPY=1 -DHAVE_BCOPY=1 -DHAVE_SRAND48=1 -I. -I../../include     -Wall -Wno-long-long -pedantic -std=c++98  -O2 -DNDEBUG -MT RTreeQuery.o -MD -MP -MF $depbase.Tpo -c -o RTreeQuery.o RTreeQuery.cc &&\\\n",
            "mv -f $depbase.Tpo $depbase.Po\n",
            "/bin/bash ../../libtool  --tag=CXX   --mode=link g++  -Wall -Wno-long-long -pedantic -std=c++98  -O2 -DNDEBUG   -o RTreeQuery RTreeQuery.o ../../libspatialindex.la -lpthread\n",
            "libtool: link: g++ -Wall -Wno-long-long -pedantic -std=c++98 -O2 -DNDEBUG -o .libs/RTreeQuery RTreeQuery.o  ../../.libs/libspatialindex.so -lpthread\n",
            "depbase=`echo RTreeBulkLoad.o | sed 's|[^/]*$|.deps/&|;s|\\.o$||'`;\\\n",
            "g++ -DPACKAGE_NAME=\\\"spatialindex\\\" -DPACKAGE_TARNAME=\\\"spatialindex-src\\\" -DPACKAGE_VERSION=\\\"1.8.5\\\" -DPACKAGE_STRING=\\\"spatialindex\\ 1.8.5\\\" -DPACKAGE_BUGREPORT=\\\"mhadji@gmail.com\\\" -DPACKAGE_URL=\\\"\\\" -DSTDC_HEADERS=1 -DHAVE_SYS_TYPES_H=1 -DHAVE_SYS_STAT_H=1 -DHAVE_STDLIB_H=1 -DHAVE_STRING_H=1 -DHAVE_MEMORY_H=1 -DHAVE_STRINGS_H=1 -DHAVE_INTTYPES_H=1 -DHAVE_STDINT_H=1 -DHAVE_UNISTD_H=1 -DHAVE_DLFCN_H=1 -DLT_OBJDIR=\\\".libs/\\\" -DPACKAGE=\\\"spatialindex-src\\\" -DVERSION=\\\"1.8.5\\\" -DHAVE_FCNTL_H=1 -DHAVE_UNISTD_H=1 -DHAVE_SYS_TYPES_H=1 -DHAVE_SYS_STAT_H=1 -DHAVE_PTHREAD_H=1 -DHAVE_SYS_RESOURCE_H=1 -DHAVE_SYS_TIME_H=1 -DHAVE_STDINT_H=1 -DHAVE_FEATURES_H=1 -DHAVE_GETTIMEOFDAY=1 -DHAVE_MEMSET=1 -DHAVE_MEMCPY=1 -DHAVE_BCOPY=1 -DHAVE_SRAND48=1 -I. -I../../include     -Wall -Wno-long-long -pedantic -std=c++98  -O2 -DNDEBUG -MT RTreeBulkLoad.o -MD -MP -MF $depbase.Tpo -c -o RTreeBulkLoad.o RTreeBulkLoad.cc &&\\\n",
            "mv -f $depbase.Tpo $depbase.Po\n",
            "/bin/bash ../../libtool  --tag=CXX   --mode=link g++  -Wall -Wno-long-long -pedantic -std=c++98  -O2 -DNDEBUG   -o RTreeBulkLoad RTreeBulkLoad.o ../../libspatialindex.la -lpthread\n",
            "libtool: link: g++ -Wall -Wno-long-long -pedantic -std=c++98 -O2 -DNDEBUG -o .libs/RTreeBulkLoad RTreeBulkLoad.o  ../../.libs/libspatialindex.so -lpthread\n",
            "make[2]: Leaving directory '/content/spatialindex-src-1.8.5/test/rtree'\n",
            "Making all in mvrtree\n",
            "make[2]: Entering directory '/content/spatialindex-src-1.8.5/test/mvrtree'\n",
            "depbase=`echo Generator.o | sed 's|[^/]*$|.deps/&|;s|\\.o$||'`;\\\n",
            "g++ -DPACKAGE_NAME=\\\"spatialindex\\\" -DPACKAGE_TARNAME=\\\"spatialindex-src\\\" -DPACKAGE_VERSION=\\\"1.8.5\\\" -DPACKAGE_STRING=\\\"spatialindex\\ 1.8.5\\\" -DPACKAGE_BUGREPORT=\\\"mhadji@gmail.com\\\" -DPACKAGE_URL=\\\"\\\" -DSTDC_HEADERS=1 -DHAVE_SYS_TYPES_H=1 -DHAVE_SYS_STAT_H=1 -DHAVE_STDLIB_H=1 -DHAVE_STRING_H=1 -DHAVE_MEMORY_H=1 -DHAVE_STRINGS_H=1 -DHAVE_INTTYPES_H=1 -DHAVE_STDINT_H=1 -DHAVE_UNISTD_H=1 -DHAVE_DLFCN_H=1 -DLT_OBJDIR=\\\".libs/\\\" -DPACKAGE=\\\"spatialindex-src\\\" -DVERSION=\\\"1.8.5\\\" -DHAVE_FCNTL_H=1 -DHAVE_UNISTD_H=1 -DHAVE_SYS_TYPES_H=1 -DHAVE_SYS_STAT_H=1 -DHAVE_PTHREAD_H=1 -DHAVE_SYS_RESOURCE_H=1 -DHAVE_SYS_TIME_H=1 -DHAVE_STDINT_H=1 -DHAVE_FEATURES_H=1 -DHAVE_GETTIMEOFDAY=1 -DHAVE_MEMSET=1 -DHAVE_MEMCPY=1 -DHAVE_BCOPY=1 -DHAVE_SRAND48=1 -I. -I../../include     -Wall -Wno-long-long -pedantic -std=c++98  -O2 -DNDEBUG -MT Generator.o -MD -MP -MF $depbase.Tpo -c -o Generator.o Generator.cc &&\\\n",
            "mv -f $depbase.Tpo $depbase.Po\n",
            "/bin/bash ../../libtool  --tag=CXX   --mode=link g++  -Wall -Wno-long-long -pedantic -std=c++98  -O2 -DNDEBUG   -o Generator Generator.o ../../libspatialindex.la -lpthread\n",
            "libtool: link: g++ -Wall -Wno-long-long -pedantic -std=c++98 -O2 -DNDEBUG -o .libs/Generator Generator.o  ../../.libs/libspatialindex.so -lpthread\n",
            "depbase=`echo Exhaustive.o | sed 's|[^/]*$|.deps/&|;s|\\.o$||'`;\\\n",
            "g++ -DPACKAGE_NAME=\\\"spatialindex\\\" -DPACKAGE_TARNAME=\\\"spatialindex-src\\\" -DPACKAGE_VERSION=\\\"1.8.5\\\" -DPACKAGE_STRING=\\\"spatialindex\\ 1.8.5\\\" -DPACKAGE_BUGREPORT=\\\"mhadji@gmail.com\\\" -DPACKAGE_URL=\\\"\\\" -DSTDC_HEADERS=1 -DHAVE_SYS_TYPES_H=1 -DHAVE_SYS_STAT_H=1 -DHAVE_STDLIB_H=1 -DHAVE_STRING_H=1 -DHAVE_MEMORY_H=1 -DHAVE_STRINGS_H=1 -DHAVE_INTTYPES_H=1 -DHAVE_STDINT_H=1 -DHAVE_UNISTD_H=1 -DHAVE_DLFCN_H=1 -DLT_OBJDIR=\\\".libs/\\\" -DPACKAGE=\\\"spatialindex-src\\\" -DVERSION=\\\"1.8.5\\\" -DHAVE_FCNTL_H=1 -DHAVE_UNISTD_H=1 -DHAVE_SYS_TYPES_H=1 -DHAVE_SYS_STAT_H=1 -DHAVE_PTHREAD_H=1 -DHAVE_SYS_RESOURCE_H=1 -DHAVE_SYS_TIME_H=1 -DHAVE_STDINT_H=1 -DHAVE_FEATURES_H=1 -DHAVE_GETTIMEOFDAY=1 -DHAVE_MEMSET=1 -DHAVE_MEMCPY=1 -DHAVE_BCOPY=1 -DHAVE_SRAND48=1 -I. -I../../include     -Wall -Wno-long-long -pedantic -std=c++98  -O2 -DNDEBUG -MT Exhaustive.o -MD -MP -MF $depbase.Tpo -c -o Exhaustive.o Exhaustive.cc &&\\\n",
            "mv -f $depbase.Tpo $depbase.Po\n",
            "/bin/bash ../../libtool  --tag=CXX   --mode=link g++  -Wall -Wno-long-long -pedantic -std=c++98  -O2 -DNDEBUG   -o Exhaustive Exhaustive.o ../../libspatialindex.la -lpthread\n",
            "libtool: link: g++ -Wall -Wno-long-long -pedantic -std=c++98 -O2 -DNDEBUG -o .libs/Exhaustive Exhaustive.o  ../../.libs/libspatialindex.so -lpthread\n",
            "depbase=`echo MVRTreeLoad.o | sed 's|[^/]*$|.deps/&|;s|\\.o$||'`;\\\n",
            "g++ -DPACKAGE_NAME=\\\"spatialindex\\\" -DPACKAGE_TARNAME=\\\"spatialindex-src\\\" -DPACKAGE_VERSION=\\\"1.8.5\\\" -DPACKAGE_STRING=\\\"spatialindex\\ 1.8.5\\\" -DPACKAGE_BUGREPORT=\\\"mhadji@gmail.com\\\" -DPACKAGE_URL=\\\"\\\" -DSTDC_HEADERS=1 -DHAVE_SYS_TYPES_H=1 -DHAVE_SYS_STAT_H=1 -DHAVE_STDLIB_H=1 -DHAVE_STRING_H=1 -DHAVE_MEMORY_H=1 -DHAVE_STRINGS_H=1 -DHAVE_INTTYPES_H=1 -DHAVE_STDINT_H=1 -DHAVE_UNISTD_H=1 -DHAVE_DLFCN_H=1 -DLT_OBJDIR=\\\".libs/\\\" -DPACKAGE=\\\"spatialindex-src\\\" -DVERSION=\\\"1.8.5\\\" -DHAVE_FCNTL_H=1 -DHAVE_UNISTD_H=1 -DHAVE_SYS_TYPES_H=1 -DHAVE_SYS_STAT_H=1 -DHAVE_PTHREAD_H=1 -DHAVE_SYS_RESOURCE_H=1 -DHAVE_SYS_TIME_H=1 -DHAVE_STDINT_H=1 -DHAVE_FEATURES_H=1 -DHAVE_GETTIMEOFDAY=1 -DHAVE_MEMSET=1 -DHAVE_MEMCPY=1 -DHAVE_BCOPY=1 -DHAVE_SRAND48=1 -I. -I../../include     -Wall -Wno-long-long -pedantic -std=c++98  -O2 -DNDEBUG -MT MVRTreeLoad.o -MD -MP -MF $depbase.Tpo -c -o MVRTreeLoad.o MVRTreeLoad.cc &&\\\n",
            "mv -f $depbase.Tpo $depbase.Po\n",
            "/bin/bash ../../libtool  --tag=CXX   --mode=link g++  -Wall -Wno-long-long -pedantic -std=c++98  -O2 -DNDEBUG   -o MVRTreeLoad MVRTreeLoad.o ../../libspatialindex.la -lpthread\n",
            "libtool: link: g++ -Wall -Wno-long-long -pedantic -std=c++98 -O2 -DNDEBUG -o .libs/MVRTreeLoad MVRTreeLoad.o  ../../.libs/libspatialindex.so -lpthread\n",
            "depbase=`echo MVRTreeQuery.o | sed 's|[^/]*$|.deps/&|;s|\\.o$||'`;\\\n",
            "g++ -DPACKAGE_NAME=\\\"spatialindex\\\" -DPACKAGE_TARNAME=\\\"spatialindex-src\\\" -DPACKAGE_VERSION=\\\"1.8.5\\\" -DPACKAGE_STRING=\\\"spatialindex\\ 1.8.5\\\" -DPACKAGE_BUGREPORT=\\\"mhadji@gmail.com\\\" -DPACKAGE_URL=\\\"\\\" -DSTDC_HEADERS=1 -DHAVE_SYS_TYPES_H=1 -DHAVE_SYS_STAT_H=1 -DHAVE_STDLIB_H=1 -DHAVE_STRING_H=1 -DHAVE_MEMORY_H=1 -DHAVE_STRINGS_H=1 -DHAVE_INTTYPES_H=1 -DHAVE_STDINT_H=1 -DHAVE_UNISTD_H=1 -DHAVE_DLFCN_H=1 -DLT_OBJDIR=\\\".libs/\\\" -DPACKAGE=\\\"spatialindex-src\\\" -DVERSION=\\\"1.8.5\\\" -DHAVE_FCNTL_H=1 -DHAVE_UNISTD_H=1 -DHAVE_SYS_TYPES_H=1 -DHAVE_SYS_STAT_H=1 -DHAVE_PTHREAD_H=1 -DHAVE_SYS_RESOURCE_H=1 -DHAVE_SYS_TIME_H=1 -DHAVE_STDINT_H=1 -DHAVE_FEATURES_H=1 -DHAVE_GETTIMEOFDAY=1 -DHAVE_MEMSET=1 -DHAVE_MEMCPY=1 -DHAVE_BCOPY=1 -DHAVE_SRAND48=1 -I. -I../../include     -Wall -Wno-long-long -pedantic -std=c++98  -O2 -DNDEBUG -MT MVRTreeQuery.o -MD -MP -MF $depbase.Tpo -c -o MVRTreeQuery.o MVRTreeQuery.cc &&\\\n",
            "mv -f $depbase.Tpo $depbase.Po\n",
            "/bin/bash ../../libtool  --tag=CXX   --mode=link g++  -Wall -Wno-long-long -pedantic -std=c++98  -O2 -DNDEBUG   -o MVRTreeQuery MVRTreeQuery.o ../../libspatialindex.la -lpthread\n",
            "libtool: link: g++ -Wall -Wno-long-long -pedantic -std=c++98 -O2 -DNDEBUG -o .libs/MVRTreeQuery MVRTreeQuery.o  ../../.libs/libspatialindex.so -lpthread\n",
            "make[2]: Leaving directory '/content/spatialindex-src-1.8.5/test/mvrtree'\n",
            "Making all in tprtree\n",
            "make[2]: Entering directory '/content/spatialindex-src-1.8.5/test/tprtree'\n",
            "depbase=`echo RandomGenerator.o | sed 's|[^/]*$|.deps/&|;s|\\.o$||'`;\\\n",
            "g++ -DPACKAGE_NAME=\\\"spatialindex\\\" -DPACKAGE_TARNAME=\\\"spatialindex-src\\\" -DPACKAGE_VERSION=\\\"1.8.5\\\" -DPACKAGE_STRING=\\\"spatialindex\\ 1.8.5\\\" -DPACKAGE_BUGREPORT=\\\"mhadji@gmail.com\\\" -DPACKAGE_URL=\\\"\\\" -DSTDC_HEADERS=1 -DHAVE_SYS_TYPES_H=1 -DHAVE_SYS_STAT_H=1 -DHAVE_STDLIB_H=1 -DHAVE_STRING_H=1 -DHAVE_MEMORY_H=1 -DHAVE_STRINGS_H=1 -DHAVE_INTTYPES_H=1 -DHAVE_STDINT_H=1 -DHAVE_UNISTD_H=1 -DHAVE_DLFCN_H=1 -DLT_OBJDIR=\\\".libs/\\\" -DPACKAGE=\\\"spatialindex-src\\\" -DVERSION=\\\"1.8.5\\\" -DHAVE_FCNTL_H=1 -DHAVE_UNISTD_H=1 -DHAVE_SYS_TYPES_H=1 -DHAVE_SYS_STAT_H=1 -DHAVE_PTHREAD_H=1 -DHAVE_SYS_RESOURCE_H=1 -DHAVE_SYS_TIME_H=1 -DHAVE_STDINT_H=1 -DHAVE_FEATURES_H=1 -DHAVE_GETTIMEOFDAY=1 -DHAVE_MEMSET=1 -DHAVE_MEMCPY=1 -DHAVE_BCOPY=1 -DHAVE_SRAND48=1 -I. -I../../include     -Wall -Wno-long-long -pedantic -std=c++98  -O2 -DNDEBUG -MT RandomGenerator.o -MD -MP -MF $depbase.Tpo -c -o RandomGenerator.o RandomGenerator.cc &&\\\n",
            "mv -f $depbase.Tpo $depbase.Po\n",
            "depbase=`echo Generator.o | sed 's|[^/]*$|.deps/&|;s|\\.o$||'`;\\\n",
            "g++ -DPACKAGE_NAME=\\\"spatialindex\\\" -DPACKAGE_TARNAME=\\\"spatialindex-src\\\" -DPACKAGE_VERSION=\\\"1.8.5\\\" -DPACKAGE_STRING=\\\"spatialindex\\ 1.8.5\\\" -DPACKAGE_BUGREPORT=\\\"mhadji@gmail.com\\\" -DPACKAGE_URL=\\\"\\\" -DSTDC_HEADERS=1 -DHAVE_SYS_TYPES_H=1 -DHAVE_SYS_STAT_H=1 -DHAVE_STDLIB_H=1 -DHAVE_STRING_H=1 -DHAVE_MEMORY_H=1 -DHAVE_STRINGS_H=1 -DHAVE_INTTYPES_H=1 -DHAVE_STDINT_H=1 -DHAVE_UNISTD_H=1 -DHAVE_DLFCN_H=1 -DLT_OBJDIR=\\\".libs/\\\" -DPACKAGE=\\\"spatialindex-src\\\" -DVERSION=\\\"1.8.5\\\" -DHAVE_FCNTL_H=1 -DHAVE_UNISTD_H=1 -DHAVE_SYS_TYPES_H=1 -DHAVE_SYS_STAT_H=1 -DHAVE_PTHREAD_H=1 -DHAVE_SYS_RESOURCE_H=1 -DHAVE_SYS_TIME_H=1 -DHAVE_STDINT_H=1 -DHAVE_FEATURES_H=1 -DHAVE_GETTIMEOFDAY=1 -DHAVE_MEMSET=1 -DHAVE_MEMCPY=1 -DHAVE_BCOPY=1 -DHAVE_SRAND48=1 -I. -I../../include     -Wall -Wno-long-long -pedantic -std=c++98  -O2 -DNDEBUG -MT Generator.o -MD -MP -MF $depbase.Tpo -c -o Generator.o Generator.cc &&\\\n",
            "mv -f $depbase.Tpo $depbase.Po\n",
            "/bin/bash ../../libtool  --tag=CXX   --mode=link g++  -Wall -Wno-long-long -pedantic -std=c++98  -O2 -DNDEBUG   -o Generator RandomGenerator.o Generator.o ../../libspatialindex.la -lpthread\n",
            "libtool: link: g++ -Wall -Wno-long-long -pedantic -std=c++98 -O2 -DNDEBUG -o .libs/Generator RandomGenerator.o Generator.o  ../../.libs/libspatialindex.so -lpthread\n",
            "depbase=`echo Exhaustive.o | sed 's|[^/]*$|.deps/&|;s|\\.o$||'`;\\\n",
            "g++ -DPACKAGE_NAME=\\\"spatialindex\\\" -DPACKAGE_TARNAME=\\\"spatialindex-src\\\" -DPACKAGE_VERSION=\\\"1.8.5\\\" -DPACKAGE_STRING=\\\"spatialindex\\ 1.8.5\\\" -DPACKAGE_BUGREPORT=\\\"mhadji@gmail.com\\\" -DPACKAGE_URL=\\\"\\\" -DSTDC_HEADERS=1 -DHAVE_SYS_TYPES_H=1 -DHAVE_SYS_STAT_H=1 -DHAVE_STDLIB_H=1 -DHAVE_STRING_H=1 -DHAVE_MEMORY_H=1 -DHAVE_STRINGS_H=1 -DHAVE_INTTYPES_H=1 -DHAVE_STDINT_H=1 -DHAVE_UNISTD_H=1 -DHAVE_DLFCN_H=1 -DLT_OBJDIR=\\\".libs/\\\" -DPACKAGE=\\\"spatialindex-src\\\" -DVERSION=\\\"1.8.5\\\" -DHAVE_FCNTL_H=1 -DHAVE_UNISTD_H=1 -DHAVE_SYS_TYPES_H=1 -DHAVE_SYS_STAT_H=1 -DHAVE_PTHREAD_H=1 -DHAVE_SYS_RESOURCE_H=1 -DHAVE_SYS_TIME_H=1 -DHAVE_STDINT_H=1 -DHAVE_FEATURES_H=1 -DHAVE_GETTIMEOFDAY=1 -DHAVE_MEMSET=1 -DHAVE_MEMCPY=1 -DHAVE_BCOPY=1 -DHAVE_SRAND48=1 -I. -I../../include     -Wall -Wno-long-long -pedantic -std=c++98  -O2 -DNDEBUG -MT Exhaustive.o -MD -MP -MF $depbase.Tpo -c -o Exhaustive.o Exhaustive.cc &&\\\n",
            "mv -f $depbase.Tpo $depbase.Po\n",
            "/bin/bash ../../libtool  --tag=CXX   --mode=link g++  -Wall -Wno-long-long -pedantic -std=c++98  -O2 -DNDEBUG   -o Exhaustive Exhaustive.o ../../libspatialindex.la -lpthread\n",
            "libtool: link: g++ -Wall -Wno-long-long -pedantic -std=c++98 -O2 -DNDEBUG -o .libs/Exhaustive Exhaustive.o  ../../.libs/libspatialindex.so -lpthread\n",
            "depbase=`echo TPRTreeLoad.o | sed 's|[^/]*$|.deps/&|;s|\\.o$||'`;\\\n",
            "g++ -DPACKAGE_NAME=\\\"spatialindex\\\" -DPACKAGE_TARNAME=\\\"spatialindex-src\\\" -DPACKAGE_VERSION=\\\"1.8.5\\\" -DPACKAGE_STRING=\\\"spatialindex\\ 1.8.5\\\" -DPACKAGE_BUGREPORT=\\\"mhadji@gmail.com\\\" -DPACKAGE_URL=\\\"\\\" -DSTDC_HEADERS=1 -DHAVE_SYS_TYPES_H=1 -DHAVE_SYS_STAT_H=1 -DHAVE_STDLIB_H=1 -DHAVE_STRING_H=1 -DHAVE_MEMORY_H=1 -DHAVE_STRINGS_H=1 -DHAVE_INTTYPES_H=1 -DHAVE_STDINT_H=1 -DHAVE_UNISTD_H=1 -DHAVE_DLFCN_H=1 -DLT_OBJDIR=\\\".libs/\\\" -DPACKAGE=\\\"spatialindex-src\\\" -DVERSION=\\\"1.8.5\\\" -DHAVE_FCNTL_H=1 -DHAVE_UNISTD_H=1 -DHAVE_SYS_TYPES_H=1 -DHAVE_SYS_STAT_H=1 -DHAVE_PTHREAD_H=1 -DHAVE_SYS_RESOURCE_H=1 -DHAVE_SYS_TIME_H=1 -DHAVE_STDINT_H=1 -DHAVE_FEATURES_H=1 -DHAVE_GETTIMEOFDAY=1 -DHAVE_MEMSET=1 -DHAVE_MEMCPY=1 -DHAVE_BCOPY=1 -DHAVE_SRAND48=1 -I. -I../../include     -Wall -Wno-long-long -pedantic -std=c++98  -O2 -DNDEBUG -MT TPRTreeLoad.o -MD -MP -MF $depbase.Tpo -c -o TPRTreeLoad.o TPRTreeLoad.cc &&\\\n",
            "mv -f $depbase.Tpo $depbase.Po\n",
            "/bin/bash ../../libtool  --tag=CXX   --mode=link g++  -Wall -Wno-long-long -pedantic -std=c++98  -O2 -DNDEBUG   -o TPRTreeLoad TPRTreeLoad.o ../../libspatialindex.la -lpthread\n",
            "libtool: link: g++ -Wall -Wno-long-long -pedantic -std=c++98 -O2 -DNDEBUG -o .libs/TPRTreeLoad TPRTreeLoad.o  ../../.libs/libspatialindex.so -lpthread\n",
            "depbase=`echo TPRTreeQuery.o | sed 's|[^/]*$|.deps/&|;s|\\.o$||'`;\\\n",
            "g++ -DPACKAGE_NAME=\\\"spatialindex\\\" -DPACKAGE_TARNAME=\\\"spatialindex-src\\\" -DPACKAGE_VERSION=\\\"1.8.5\\\" -DPACKAGE_STRING=\\\"spatialindex\\ 1.8.5\\\" -DPACKAGE_BUGREPORT=\\\"mhadji@gmail.com\\\" -DPACKAGE_URL=\\\"\\\" -DSTDC_HEADERS=1 -DHAVE_SYS_TYPES_H=1 -DHAVE_SYS_STAT_H=1 -DHAVE_STDLIB_H=1 -DHAVE_STRING_H=1 -DHAVE_MEMORY_H=1 -DHAVE_STRINGS_H=1 -DHAVE_INTTYPES_H=1 -DHAVE_STDINT_H=1 -DHAVE_UNISTD_H=1 -DHAVE_DLFCN_H=1 -DLT_OBJDIR=\\\".libs/\\\" -DPACKAGE=\\\"spatialindex-src\\\" -DVERSION=\\\"1.8.5\\\" -DHAVE_FCNTL_H=1 -DHAVE_UNISTD_H=1 -DHAVE_SYS_TYPES_H=1 -DHAVE_SYS_STAT_H=1 -DHAVE_PTHREAD_H=1 -DHAVE_SYS_RESOURCE_H=1 -DHAVE_SYS_TIME_H=1 -DHAVE_STDINT_H=1 -DHAVE_FEATURES_H=1 -DHAVE_GETTIMEOFDAY=1 -DHAVE_MEMSET=1 -DHAVE_MEMCPY=1 -DHAVE_BCOPY=1 -DHAVE_SRAND48=1 -I. -I../../include     -Wall -Wno-long-long -pedantic -std=c++98  -O2 -DNDEBUG -MT TPRTreeQuery.o -MD -MP -MF $depbase.Tpo -c -o TPRTreeQuery.o TPRTreeQuery.cc &&\\\n",
            "mv -f $depbase.Tpo $depbase.Po\n",
            "/bin/bash ../../libtool  --tag=CXX   --mode=link g++  -Wall -Wno-long-long -pedantic -std=c++98  -O2 -DNDEBUG   -o TPRTreeQuery TPRTreeQuery.o ../../libspatialindex.la -lpthread\n",
            "libtool: link: g++ -Wall -Wno-long-long -pedantic -std=c++98 -O2 -DNDEBUG -o .libs/TPRTreeQuery TPRTreeQuery.o  ../../.libs/libspatialindex.so -lpthread\n",
            "make[2]: Leaving directory '/content/spatialindex-src-1.8.5/test/tprtree'\n",
            "make[2]: Entering directory '/content/spatialindex-src-1.8.5/test'\n",
            "make[2]: Nothing to be done for 'all-am'.\n",
            "make[2]: Leaving directory '/content/spatialindex-src-1.8.5/test'\n",
            "make[1]: Leaving directory '/content/spatialindex-src-1.8.5/test'\n",
            "Making all in include\n",
            "make[1]: Entering directory '/content/spatialindex-src-1.8.5/include'\n",
            "make[1]: Nothing to be done for 'all'.\n",
            "make[1]: Leaving directory '/content/spatialindex-src-1.8.5/include'\n"
          ]
        }
      ]
    },
    {
      "cell_type": "code",
      "source": [
        "!make install"
      ],
      "metadata": {
        "colab": {
          "base_uri": "https://localhost:8080/"
        },
        "id": "bQDC4qsqM_SH",
        "outputId": "3cba2447-2e82-4445-cacb-8a7d3968dc15"
      },
      "execution_count": 6,
      "outputs": [
        {
          "output_type": "stream",
          "name": "stdout",
          "text": [
            "Making install in src\n",
            "make[1]: Entering directory '/content/spatialindex-src-1.8.5/src'\n",
            "Making install in storagemanager\n",
            "make[2]: Entering directory '/content/spatialindex-src-1.8.5/src/storagemanager'\n",
            "make[3]: Entering directory '/content/spatialindex-src-1.8.5/src/storagemanager'\n",
            "make[3]: Nothing to be done for 'install-exec-am'.\n",
            "make[3]: Nothing to be done for 'install-data-am'.\n",
            "make[3]: Leaving directory '/content/spatialindex-src-1.8.5/src/storagemanager'\n",
            "make[2]: Leaving directory '/content/spatialindex-src-1.8.5/src/storagemanager'\n",
            "Making install in spatialindex\n",
            "make[2]: Entering directory '/content/spatialindex-src-1.8.5/src/spatialindex'\n",
            "make[3]: Entering directory '/content/spatialindex-src-1.8.5/src/spatialindex'\n",
            "make[3]: Nothing to be done for 'install-exec-am'.\n",
            "make[3]: Nothing to be done for 'install-data-am'.\n",
            "make[3]: Leaving directory '/content/spatialindex-src-1.8.5/src/spatialindex'\n",
            "make[2]: Leaving directory '/content/spatialindex-src-1.8.5/src/spatialindex'\n",
            "Making install in rtree\n",
            "make[2]: Entering directory '/content/spatialindex-src-1.8.5/src/rtree'\n",
            "make[3]: Entering directory '/content/spatialindex-src-1.8.5/src/rtree'\n",
            "make[3]: Nothing to be done for 'install-exec-am'.\n",
            "make[3]: Nothing to be done for 'install-data-am'.\n",
            "make[3]: Leaving directory '/content/spatialindex-src-1.8.5/src/rtree'\n",
            "make[2]: Leaving directory '/content/spatialindex-src-1.8.5/src/rtree'\n",
            "Making install in mvrtree\n",
            "make[2]: Entering directory '/content/spatialindex-src-1.8.5/src/mvrtree'\n",
            "make[3]: Entering directory '/content/spatialindex-src-1.8.5/src/mvrtree'\n",
            "make[3]: Nothing to be done for 'install-exec-am'.\n",
            "make[3]: Nothing to be done for 'install-data-am'.\n",
            "make[3]: Leaving directory '/content/spatialindex-src-1.8.5/src/mvrtree'\n",
            "make[2]: Leaving directory '/content/spatialindex-src-1.8.5/src/mvrtree'\n",
            "Making install in tprtree\n",
            "make[2]: Entering directory '/content/spatialindex-src-1.8.5/src/tprtree'\n",
            "make[3]: Entering directory '/content/spatialindex-src-1.8.5/src/tprtree'\n",
            "make[3]: Nothing to be done for 'install-exec-am'.\n",
            "make[3]: Nothing to be done for 'install-data-am'.\n",
            "make[3]: Leaving directory '/content/spatialindex-src-1.8.5/src/tprtree'\n",
            "make[2]: Leaving directory '/content/spatialindex-src-1.8.5/src/tprtree'\n",
            "Making install in tools\n",
            "make[2]: Entering directory '/content/spatialindex-src-1.8.5/src/tools'\n",
            "make[3]: Entering directory '/content/spatialindex-src-1.8.5/src/tools'\n",
            "make[3]: Nothing to be done for 'install-exec-am'.\n",
            "make[3]: Nothing to be done for 'install-data-am'.\n",
            "make[3]: Leaving directory '/content/spatialindex-src-1.8.5/src/tools'\n",
            "make[2]: Leaving directory '/content/spatialindex-src-1.8.5/src/tools'\n",
            "Making install in capi\n",
            "make[2]: Entering directory '/content/spatialindex-src-1.8.5/src/capi'\n",
            "make[3]: Entering directory '/content/spatialindex-src-1.8.5/src/capi'\n",
            "make[3]: Nothing to be done for 'install-exec-am'.\n",
            "make[3]: Nothing to be done for 'install-data-am'.\n",
            "make[3]: Leaving directory '/content/spatialindex-src-1.8.5/src/capi'\n",
            "make[2]: Leaving directory '/content/spatialindex-src-1.8.5/src/capi'\n",
            "make[2]: Entering directory '/content/spatialindex-src-1.8.5/src'\n",
            "make[3]: Entering directory '/content/spatialindex-src-1.8.5/src'\n",
            "make[3]: Nothing to be done for 'install-exec-am'.\n",
            " /bin/mkdir -p '/usr/local/lib/pkgconfig'\n",
            " /usr/bin/install -c -m 644 libspatialindex.pc '/usr/local/lib/pkgconfig'\n",
            "make[3]: Leaving directory '/content/spatialindex-src-1.8.5/src'\n",
            "make[2]: Leaving directory '/content/spatialindex-src-1.8.5/src'\n",
            "make[1]: Leaving directory '/content/spatialindex-src-1.8.5/src'\n",
            "Making install in .\n",
            "make[1]: Entering directory '/content/spatialindex-src-1.8.5'\n",
            "make[2]: Entering directory '/content/spatialindex-src-1.8.5'\n",
            " /bin/mkdir -p '/usr/local/lib'\n",
            " /bin/bash ./libtool   --mode=install /usr/bin/install -c   libspatialindex.la libspatialindex_c.la '/usr/local/lib'\n",
            "libtool: install: /usr/bin/install -c .libs/libspatialindex.so.4.0.1 /usr/local/lib/libspatialindex.so.4.0.1\n",
            "libtool: install: (cd /usr/local/lib && { ln -s -f libspatialindex.so.4.0.1 libspatialindex.so.4 || { rm -f libspatialindex.so.4 && ln -s libspatialindex.so.4.0.1 libspatialindex.so.4; }; })\n",
            "libtool: install: (cd /usr/local/lib && { ln -s -f libspatialindex.so.4.0.1 libspatialindex.so || { rm -f libspatialindex.so && ln -s libspatialindex.so.4.0.1 libspatialindex.so; }; })\n",
            "libtool: install: /usr/bin/install -c .libs/libspatialindex.lai /usr/local/lib/libspatialindex.la\n",
            "libtool: install: warning: relinking `libspatialindex_c.la'\n",
            "libtool: install: (cd /content/spatialindex-src-1.8.5; /bin/bash /content/spatialindex-src-1.8.5/libtool  --tag CC --mode=relink gcc -Wall -Wno-long-long -pedantic -version-info 4:1:0 -no-undefined -lstdc++ -o libspatialindex_c.la -rpath /usr/local/lib libspatialindex.la src/capi/libsidxc.la -lpthread )\n",
            "libtool: relink: gcc -shared  -fPIC -DPIC  -Wl,--whole-archive src/capi/.libs/libsidxc.a -Wl,--no-whole-archive  -lstdc++ -L/usr/local/lib -lspatialindex -lpthread    -Wl,-soname -Wl,libspatialindex_c.so.4 -o .libs/libspatialindex_c.so.4.0.1\n",
            "libtool: install: /usr/bin/install -c .libs/libspatialindex_c.so.4.0.1T /usr/local/lib/libspatialindex_c.so.4.0.1\n",
            "libtool: install: (cd /usr/local/lib && { ln -s -f libspatialindex_c.so.4.0.1 libspatialindex_c.so.4 || { rm -f libspatialindex_c.so.4 && ln -s libspatialindex_c.so.4.0.1 libspatialindex_c.so.4; }; })\n",
            "libtool: install: (cd /usr/local/lib && { ln -s -f libspatialindex_c.so.4.0.1 libspatialindex_c.so || { rm -f libspatialindex_c.so && ln -s libspatialindex_c.so.4.0.1 libspatialindex_c.so; }; })\n",
            "libtool: install: /usr/bin/install -c .libs/libspatialindex_c.lai /usr/local/lib/libspatialindex_c.la\n",
            "libtool: install: /usr/bin/install -c .libs/libspatialindex.a /usr/local/lib/libspatialindex.a\n",
            "libtool: install: chmod 644 /usr/local/lib/libspatialindex.a\n",
            "libtool: install: ranlib /usr/local/lib/libspatialindex.a\n",
            "libtool: install: /usr/bin/install -c .libs/libspatialindex_c.a /usr/local/lib/libspatialindex_c.a\n",
            "libtool: install: chmod 644 /usr/local/lib/libspatialindex_c.a\n",
            "libtool: install: ranlib /usr/local/lib/libspatialindex_c.a\n",
            "libtool: finish: PATH=\"/opt/bin:/usr/local/nvidia/bin:/usr/local/cuda/bin:/usr/local/sbin:/usr/local/bin:/usr/sbin:/usr/bin:/sbin:/bin:/tools/node/bin:/tools/google-cloud-sdk/bin:/sbin\" ldconfig -n /usr/local/lib\n",
            "----------------------------------------------------------------------\n",
            "Libraries have been installed in:\n",
            "   /usr/local/lib\n",
            "\n",
            "If you ever happen to want to link against installed libraries\n",
            "in a given directory, LIBDIR, you must either use libtool, and\n",
            "specify the full pathname of the library, or use the `-LLIBDIR'\n",
            "flag during linking and do at least one of the following:\n",
            "   - add LIBDIR to the `LD_LIBRARY_PATH' environment variable\n",
            "     during execution\n",
            "   - add LIBDIR to the `LD_RUN_PATH' environment variable\n",
            "     during linking\n",
            "   - use the `-Wl,-rpath -Wl,LIBDIR' linker flag\n",
            "   - have your system administrator add LIBDIR to `/etc/ld.so.conf'\n",
            "\n",
            "See any operating system documentation about shared libraries for\n",
            "more information, such as the ld(1) and ld.so(8) manual pages.\n",
            "----------------------------------------------------------------------\n",
            "make[2]: Nothing to be done for 'install-data-am'.\n",
            "make[2]: Leaving directory '/content/spatialindex-src-1.8.5'\n",
            "make[1]: Leaving directory '/content/spatialindex-src-1.8.5'\n",
            "Making install in test\n",
            "make[1]: Entering directory '/content/spatialindex-src-1.8.5/test'\n",
            "Making install in geometry\n",
            "make[2]: Entering directory '/content/spatialindex-src-1.8.5/test/geometry'\n",
            "make[3]: Entering directory '/content/spatialindex-src-1.8.5/test/geometry'\n",
            "make[3]: Nothing to be done for 'install-exec-am'.\n",
            "make[3]: Nothing to be done for 'install-data-am'.\n",
            "make[3]: Leaving directory '/content/spatialindex-src-1.8.5/test/geometry'\n",
            "make[2]: Leaving directory '/content/spatialindex-src-1.8.5/test/geometry'\n",
            "Making install in rtree\n",
            "make[2]: Entering directory '/content/spatialindex-src-1.8.5/test/rtree'\n",
            "make[3]: Entering directory '/content/spatialindex-src-1.8.5/test/rtree'\n",
            "make[3]: Nothing to be done for 'install-exec-am'.\n",
            "make[3]: Nothing to be done for 'install-data-am'.\n",
            "make[3]: Leaving directory '/content/spatialindex-src-1.8.5/test/rtree'\n",
            "make[2]: Leaving directory '/content/spatialindex-src-1.8.5/test/rtree'\n",
            "Making install in mvrtree\n",
            "make[2]: Entering directory '/content/spatialindex-src-1.8.5/test/mvrtree'\n",
            "make[3]: Entering directory '/content/spatialindex-src-1.8.5/test/mvrtree'\n",
            "make[3]: Nothing to be done for 'install-exec-am'.\n",
            "make[3]: Nothing to be done for 'install-data-am'.\n",
            "make[3]: Leaving directory '/content/spatialindex-src-1.8.5/test/mvrtree'\n",
            "make[2]: Leaving directory '/content/spatialindex-src-1.8.5/test/mvrtree'\n",
            "Making install in tprtree\n",
            "make[2]: Entering directory '/content/spatialindex-src-1.8.5/test/tprtree'\n",
            "make[3]: Entering directory '/content/spatialindex-src-1.8.5/test/tprtree'\n",
            "make[3]: Nothing to be done for 'install-exec-am'.\n",
            "make[3]: Nothing to be done for 'install-data-am'.\n",
            "make[3]: Leaving directory '/content/spatialindex-src-1.8.5/test/tprtree'\n",
            "make[2]: Leaving directory '/content/spatialindex-src-1.8.5/test/tprtree'\n",
            "make[2]: Entering directory '/content/spatialindex-src-1.8.5/test'\n",
            "make[3]: Entering directory '/content/spatialindex-src-1.8.5/test'\n",
            "make[3]: Nothing to be done for 'install-exec-am'.\n",
            "make[3]: Nothing to be done for 'install-data-am'.\n",
            "make[3]: Leaving directory '/content/spatialindex-src-1.8.5/test'\n",
            "make[2]: Leaving directory '/content/spatialindex-src-1.8.5/test'\n",
            "make[1]: Leaving directory '/content/spatialindex-src-1.8.5/test'\n",
            "Making install in include\n",
            "make[1]: Entering directory '/content/spatialindex-src-1.8.5/include'\n",
            "make[2]: Entering directory '/content/spatialindex-src-1.8.5/include'\n",
            "make[2]: Nothing to be done for 'install-exec-am'.\n",
            " /bin/mkdir -p '/usr/local/include'\n",
            " /bin/mkdir -p '/usr/local/include/spatialindex/tools'\n",
            " /usr/bin/install -c -m 644  spatialindex/tools/PointerPool.h spatialindex/tools/PoolPointer.h spatialindex/tools/rand48.h spatialindex/tools/SmartPointer.h spatialindex/tools/Tools.h '/usr/local/include/spatialindex/tools'\n",
            " /bin/mkdir -p '/usr/local/include/spatialindex'\n",
            " /usr/bin/install -c -m 644  spatialindex/SpatialIndex.h spatialindex/RTree.h spatialindex/MVRTree.h spatialindex/TPRTree.h spatialindex/Point.h spatialindex/Region.h spatialindex/LineSegment.h spatialindex/TimePoint.h spatialindex/TimeRegion.h spatialindex/MovingPoint.h spatialindex/MovingRegion.h spatialindex/Version.h '/usr/local/include/spatialindex'\n",
            " /bin/mkdir -p '/usr/local/include/spatialindex/capi'\n",
            " /usr/bin/install -c -m 644  spatialindex/capi/BoundsQuery.h spatialindex/capi/CountVisitor.h spatialindex/capi/CustomStorage.h spatialindex/capi/DataStream.h spatialindex/capi/Error.h spatialindex/capi/IdVisitor.h spatialindex/capi/Index.h spatialindex/capi/LeafQuery.h spatialindex/capi/ObjVisitor.h spatialindex/capi/sidx_api.h spatialindex/capi/sidx_export.h spatialindex/capi/sidx_config.h spatialindex/capi/sidx_impl.h spatialindex/capi/Utility.h '/usr/local/include/spatialindex/capi'\n",
            "make[2]: Leaving directory '/content/spatialindex-src-1.8.5/include'\n",
            "make[1]: Leaving directory '/content/spatialindex-src-1.8.5/include'\n"
          ]
        }
      ]
    },
    {
      "cell_type": "code",
      "source": [
        "!pip install rtree"
      ],
      "metadata": {
        "colab": {
          "base_uri": "https://localhost:8080/"
        },
        "id": "U7c-aCs7NBpC",
        "outputId": "97ea6b41-4d9e-48cc-d5c9-9b6d57e05208"
      },
      "execution_count": 7,
      "outputs": [
        {
          "output_type": "stream",
          "name": "stdout",
          "text": [
            "Collecting rtree\n",
            "  Downloading Rtree-1.0.0-cp37-cp37m-manylinux_2_17_x86_64.manylinux2014_x86_64.whl (1.0 MB)\n",
            "\u001b[?25l\r\u001b[K     |▎                               | 10 kB 22.5 MB/s eta 0:00:01\r\u001b[K     |▋                               | 20 kB 15.1 MB/s eta 0:00:01\r\u001b[K     |█                               | 30 kB 10.7 MB/s eta 0:00:01\r\u001b[K     |█▎                              | 40 kB 9.2 MB/s eta 0:00:01\r\u001b[K     |█▋                              | 51 kB 4.8 MB/s eta 0:00:01\r\u001b[K     |██                              | 61 kB 5.6 MB/s eta 0:00:01\r\u001b[K     |██▎                             | 71 kB 5.4 MB/s eta 0:00:01\r\u001b[K     |██▌                             | 81 kB 5.2 MB/s eta 0:00:01\r\u001b[K     |██▉                             | 92 kB 5.7 MB/s eta 0:00:01\r\u001b[K     |███▏                            | 102 kB 5.3 MB/s eta 0:00:01\r\u001b[K     |███▌                            | 112 kB 5.3 MB/s eta 0:00:01\r\u001b[K     |███▉                            | 122 kB 5.3 MB/s eta 0:00:01\r\u001b[K     |████▏                           | 133 kB 5.3 MB/s eta 0:00:01\r\u001b[K     |████▌                           | 143 kB 5.3 MB/s eta 0:00:01\r\u001b[K     |████▊                           | 153 kB 5.3 MB/s eta 0:00:01\r\u001b[K     |█████                           | 163 kB 5.3 MB/s eta 0:00:01\r\u001b[K     |█████▍                          | 174 kB 5.3 MB/s eta 0:00:01\r\u001b[K     |█████▊                          | 184 kB 5.3 MB/s eta 0:00:01\r\u001b[K     |██████                          | 194 kB 5.3 MB/s eta 0:00:01\r\u001b[K     |██████▍                         | 204 kB 5.3 MB/s eta 0:00:01\r\u001b[K     |██████▊                         | 215 kB 5.3 MB/s eta 0:00:01\r\u001b[K     |███████                         | 225 kB 5.3 MB/s eta 0:00:01\r\u001b[K     |███████▎                        | 235 kB 5.3 MB/s eta 0:00:01\r\u001b[K     |███████▋                        | 245 kB 5.3 MB/s eta 0:00:01\r\u001b[K     |████████                        | 256 kB 5.3 MB/s eta 0:00:01\r\u001b[K     |████████▎                       | 266 kB 5.3 MB/s eta 0:00:01\r\u001b[K     |████████▋                       | 276 kB 5.3 MB/s eta 0:00:01\r\u001b[K     |█████████                       | 286 kB 5.3 MB/s eta 0:00:01\r\u001b[K     |█████████▏                      | 296 kB 5.3 MB/s eta 0:00:01\r\u001b[K     |█████████▌                      | 307 kB 5.3 MB/s eta 0:00:01\r\u001b[K     |█████████▉                      | 317 kB 5.3 MB/s eta 0:00:01\r\u001b[K     |██████████▏                     | 327 kB 5.3 MB/s eta 0:00:01\r\u001b[K     |██████████▌                     | 337 kB 5.3 MB/s eta 0:00:01\r\u001b[K     |██████████▉                     | 348 kB 5.3 MB/s eta 0:00:01\r\u001b[K     |███████████▏                    | 358 kB 5.3 MB/s eta 0:00:01\r\u001b[K     |███████████▌                    | 368 kB 5.3 MB/s eta 0:00:01\r\u001b[K     |███████████▊                    | 378 kB 5.3 MB/s eta 0:00:01\r\u001b[K     |████████████                    | 389 kB 5.3 MB/s eta 0:00:01\r\u001b[K     |████████████▍                   | 399 kB 5.3 MB/s eta 0:00:01\r\u001b[K     |████████████▊                   | 409 kB 5.3 MB/s eta 0:00:01\r\u001b[K     |█████████████                   | 419 kB 5.3 MB/s eta 0:00:01\r\u001b[K     |█████████████▍                  | 430 kB 5.3 MB/s eta 0:00:01\r\u001b[K     |█████████████▊                  | 440 kB 5.3 MB/s eta 0:00:01\r\u001b[K     |██████████████                  | 450 kB 5.3 MB/s eta 0:00:01\r\u001b[K     |██████████████▎                 | 460 kB 5.3 MB/s eta 0:00:01\r\u001b[K     |██████████████▋                 | 471 kB 5.3 MB/s eta 0:00:01\r\u001b[K     |███████████████                 | 481 kB 5.3 MB/s eta 0:00:01\r\u001b[K     |███████████████▎                | 491 kB 5.3 MB/s eta 0:00:01\r\u001b[K     |███████████████▋                | 501 kB 5.3 MB/s eta 0:00:01\r\u001b[K     |████████████████                | 512 kB 5.3 MB/s eta 0:00:01\r\u001b[K     |████████████████▏               | 522 kB 5.3 MB/s eta 0:00:01\r\u001b[K     |████████████████▌               | 532 kB 5.3 MB/s eta 0:00:01\r\u001b[K     |████████████████▉               | 542 kB 5.3 MB/s eta 0:00:01\r\u001b[K     |█████████████████▏              | 552 kB 5.3 MB/s eta 0:00:01\r\u001b[K     |█████████████████▌              | 563 kB 5.3 MB/s eta 0:00:01\r\u001b[K     |█████████████████▉              | 573 kB 5.3 MB/s eta 0:00:01\r\u001b[K     |██████████████████▏             | 583 kB 5.3 MB/s eta 0:00:01\r\u001b[K     |██████████████████▍             | 593 kB 5.3 MB/s eta 0:00:01\r\u001b[K     |██████████████████▊             | 604 kB 5.3 MB/s eta 0:00:01\r\u001b[K     |███████████████████             | 614 kB 5.3 MB/s eta 0:00:01\r\u001b[K     |███████████████████▍            | 624 kB 5.3 MB/s eta 0:00:01\r\u001b[K     |███████████████████▊            | 634 kB 5.3 MB/s eta 0:00:01\r\u001b[K     |████████████████████            | 645 kB 5.3 MB/s eta 0:00:01\r\u001b[K     |████████████████████▍           | 655 kB 5.3 MB/s eta 0:00:01\r\u001b[K     |████████████████████▋           | 665 kB 5.3 MB/s eta 0:00:01\r\u001b[K     |█████████████████████           | 675 kB 5.3 MB/s eta 0:00:01\r\u001b[K     |█████████████████████▎          | 686 kB 5.3 MB/s eta 0:00:01\r\u001b[K     |█████████████████████▋          | 696 kB 5.3 MB/s eta 0:00:01\r\u001b[K     |██████████████████████          | 706 kB 5.3 MB/s eta 0:00:01\r\u001b[K     |██████████████████████▎         | 716 kB 5.3 MB/s eta 0:00:01\r\u001b[K     |██████████████████████▋         | 727 kB 5.3 MB/s eta 0:00:01\r\u001b[K     |███████████████████████         | 737 kB 5.3 MB/s eta 0:00:01\r\u001b[K     |███████████████████████▏        | 747 kB 5.3 MB/s eta 0:00:01\r\u001b[K     |███████████████████████▌        | 757 kB 5.3 MB/s eta 0:00:01\r\u001b[K     |███████████████████████▉        | 768 kB 5.3 MB/s eta 0:00:01\r\u001b[K     |████████████████████████▏       | 778 kB 5.3 MB/s eta 0:00:01\r\u001b[K     |████████████████████████▌       | 788 kB 5.3 MB/s eta 0:00:01\r\u001b[K     |████████████████████████▉       | 798 kB 5.3 MB/s eta 0:00:01\r\u001b[K     |█████████████████████████▏      | 808 kB 5.3 MB/s eta 0:00:01\r\u001b[K     |█████████████████████████▍      | 819 kB 5.3 MB/s eta 0:00:01\r\u001b[K     |█████████████████████████▊      | 829 kB 5.3 MB/s eta 0:00:01\r\u001b[K     |██████████████████████████      | 839 kB 5.3 MB/s eta 0:00:01\r\u001b[K     |██████████████████████████▍     | 849 kB 5.3 MB/s eta 0:00:01\r\u001b[K     |██████████████████████████▊     | 860 kB 5.3 MB/s eta 0:00:01\r\u001b[K     |███████████████████████████     | 870 kB 5.3 MB/s eta 0:00:01\r\u001b[K     |███████████████████████████▍    | 880 kB 5.3 MB/s eta 0:00:01\r\u001b[K     |███████████████████████████▋    | 890 kB 5.3 MB/s eta 0:00:01\r\u001b[K     |████████████████████████████    | 901 kB 5.3 MB/s eta 0:00:01\r\u001b[K     |████████████████████████████▎   | 911 kB 5.3 MB/s eta 0:00:01\r\u001b[K     |████████████████████████████▋   | 921 kB 5.3 MB/s eta 0:00:01\r\u001b[K     |█████████████████████████████   | 931 kB 5.3 MB/s eta 0:00:01\r\u001b[K     |█████████████████████████████▎  | 942 kB 5.3 MB/s eta 0:00:01\r\u001b[K     |█████████████████████████████▋  | 952 kB 5.3 MB/s eta 0:00:01\r\u001b[K     |█████████████████████████████▉  | 962 kB 5.3 MB/s eta 0:00:01\r\u001b[K     |██████████████████████████████▏ | 972 kB 5.3 MB/s eta 0:00:01\r\u001b[K     |██████████████████████████████▌ | 983 kB 5.3 MB/s eta 0:00:01\r\u001b[K     |██████████████████████████████▉ | 993 kB 5.3 MB/s eta 0:00:01\r\u001b[K     |███████████████████████████████▏| 1.0 MB 5.3 MB/s eta 0:00:01\r\u001b[K     |███████████████████████████████▌| 1.0 MB 5.3 MB/s eta 0:00:01\r\u001b[K     |███████████████████████████████▉| 1.0 MB 5.3 MB/s eta 0:00:01\r\u001b[K     |████████████████████████████████| 1.0 MB 5.3 MB/s \n",
            "\u001b[?25hRequirement already satisfied: typing-extensions>=3.7 in /usr/local/lib/python3.7/dist-packages (from rtree) (4.2.0)\n",
            "Installing collected packages: rtree\n",
            "Successfully installed rtree-1.0.0\n"
          ]
        }
      ]
    },
    {
      "cell_type": "code",
      "source": [
        "!ldconfig"
      ],
      "metadata": {
        "colab": {
          "base_uri": "https://localhost:8080/"
        },
        "id": "dc1f0iiuNCek",
        "outputId": "0d92bea5-a792-4cf4-97d5-f9ceee3c9a0b"
      },
      "execution_count": 8,
      "outputs": [
        {
          "output_type": "stream",
          "name": "stdout",
          "text": [
            "/sbin/ldconfig.real: /usr/local/lib/python3.7/dist-packages/ideep4py/lib/libmkldnn.so.0 is not a symbolic link\n",
            "\n"
          ]
        }
      ]
    },
    {
      "cell_type": "code",
      "source": [
        "from rtree import index\n",
        "from rtree.index import Rtree"
      ],
      "metadata": {
        "id": "tnE89t-HNDu_"
      },
      "execution_count": 9,
      "outputs": []
    },
    {
      "cell_type": "code",
      "source": [
        "pip install pandas geopandas geopy"
      ],
      "metadata": {
        "colab": {
          "base_uri": "https://localhost:8080/"
        },
        "id": "DLQw6KeyNJ5D",
        "outputId": "35d9a6ad-f2cc-450f-d9c9-6eedcbf113f7"
      },
      "execution_count": 10,
      "outputs": [
        {
          "output_type": "stream",
          "name": "stdout",
          "text": [
            "Requirement already satisfied: pandas in /usr/local/lib/python3.7/dist-packages (1.3.5)\n",
            "Collecting geopandas\n",
            "  Downloading geopandas-0.10.2-py2.py3-none-any.whl (1.0 MB)\n",
            "\u001b[K     |████████████████████████████████| 1.0 MB 4.5 MB/s \n",
            "\u001b[?25hRequirement already satisfied: geopy in /usr/local/lib/python3.7/dist-packages (1.17.0)\n",
            "Requirement already satisfied: numpy>=1.17.3 in /usr/local/lib/python3.7/dist-packages (from pandas) (1.21.6)\n",
            "Requirement already satisfied: pytz>=2017.3 in /usr/local/lib/python3.7/dist-packages (from pandas) (2022.1)\n",
            "Requirement already satisfied: python-dateutil>=2.7.3 in /usr/local/lib/python3.7/dist-packages (from pandas) (2.8.2)\n",
            "Requirement already satisfied: six>=1.5 in /usr/local/lib/python3.7/dist-packages (from python-dateutil>=2.7.3->pandas) (1.15.0)\n",
            "Collecting pyproj>=2.2.0\n",
            "  Downloading pyproj-3.2.1-cp37-cp37m-manylinux2010_x86_64.whl (6.3 MB)\n",
            "\u001b[K     |████████████████████████████████| 6.3 MB 42.3 MB/s \n",
            "\u001b[?25hRequirement already satisfied: shapely>=1.6 in /usr/local/lib/python3.7/dist-packages (from geopandas) (1.8.1.post1)\n",
            "Collecting fiona>=1.8\n",
            "  Downloading Fiona-1.8.21-cp37-cp37m-manylinux2014_x86_64.whl (16.7 MB)\n",
            "\u001b[K     |████████████████████████████████| 16.7 MB 41.6 MB/s \n",
            "\u001b[?25hCollecting munch\n",
            "  Downloading munch-2.5.0-py2.py3-none-any.whl (10 kB)\n",
            "Collecting click-plugins>=1.0\n",
            "  Downloading click_plugins-1.1.1-py2.py3-none-any.whl (7.5 kB)\n",
            "Requirement already satisfied: attrs>=17 in /usr/local/lib/python3.7/dist-packages (from fiona>=1.8->geopandas) (21.4.0)\n",
            "Requirement already satisfied: setuptools in /usr/local/lib/python3.7/dist-packages (from fiona>=1.8->geopandas) (57.4.0)\n",
            "Requirement already satisfied: click>=4.0 in /usr/local/lib/python3.7/dist-packages (from fiona>=1.8->geopandas) (7.1.2)\n",
            "Requirement already satisfied: certifi in /usr/local/lib/python3.7/dist-packages (from fiona>=1.8->geopandas) (2021.10.8)\n",
            "Collecting cligj>=0.5\n",
            "  Downloading cligj-0.7.2-py3-none-any.whl (7.1 kB)\n",
            "Requirement already satisfied: geographiclib<2,>=1.49 in /usr/local/lib/python3.7/dist-packages (from geopy) (1.52)\n",
            "Installing collected packages: munch, cligj, click-plugins, pyproj, fiona, geopandas\n",
            "Successfully installed click-plugins-1.1.1 cligj-0.7.2 fiona-1.8.21 geopandas-0.10.2 munch-2.5.0 pyproj-3.2.1\n"
          ]
        }
      ]
    },
    {
      "cell_type": "code",
      "source": [
        "from geopandas.tools import geocode\n",
        "from geopy.geocoders import Nominatim\n",
        "import pandas as pd\n",
        "import geopandas as gpd\n",
        "import geopy"
      ],
      "metadata": {
        "id": "R9GUm68dNbr9"
      },
      "execution_count": 11,
      "outputs": []
    },
    {
      "cell_type": "code",
      "source": [
        "data = pd.ExcelFile(\"/content/drive/MyDrive/Flexatel_probation/script/Portfolio2.xlsx\")\n",
        "df = pd.read_excel(data)"
      ],
      "metadata": {
        "id": "OGWFOa4LNiUN"
      },
      "execution_count": 12,
      "outputs": []
    },
    {
      "cell_type": "code",
      "source": [
        "locator = Nominatim(user_agent=\"my_request\")"
      ],
      "metadata": {
        "id": "f0yvgluQNknL"
      },
      "execution_count": 13,
      "outputs": []
    },
    {
      "cell_type": "code",
      "source": [
        "# датафрэйм с нулевыми координатами\n",
        "new_df = df[df['Y_LAT'].isnull()]"
      ],
      "metadata": {
        "id": "xiRYBgfhNrEU"
      },
      "execution_count": 14,
      "outputs": []
    },
    {
      "cell_type": "code",
      "source": [
        "# геокодировали адреса, там где нулевые координаты. \n",
        "geocode = locator.geocode\n",
        "new_df['location'] = new_df['address'].apply(geocode)\n",
        "new_df['point'] = new_df['location'].apply(lambda loc: tuple(loc.point) if loc else None)"
      ],
      "metadata": {
        "colab": {
          "base_uri": "https://localhost:8080/"
        },
        "id": "h4qCNZqGNsri",
        "outputId": "8638037c-07c6-4660-bbb6-ed4024a507b1"
      },
      "execution_count": 15,
      "outputs": [
        {
          "output_type": "stream",
          "name": "stderr",
          "text": [
            "/usr/local/lib/python3.7/dist-packages/ipykernel_launcher.py:3: SettingWithCopyWarning: \n",
            "A value is trying to be set on a copy of a slice from a DataFrame.\n",
            "Try using .loc[row_indexer,col_indexer] = value instead\n",
            "\n",
            "See the caveats in the documentation: https://pandas.pydata.org/pandas-docs/stable/user_guide/indexing.html#returning-a-view-versus-a-copy\n",
            "  This is separate from the ipykernel package so we can avoid doing imports until\n",
            "/usr/local/lib/python3.7/dist-packages/ipykernel_launcher.py:4: SettingWithCopyWarning: \n",
            "A value is trying to be set on a copy of a slice from a DataFrame.\n",
            "Try using .loc[row_indexer,col_indexer] = value instead\n",
            "\n",
            "See the caveats in the documentation: https://pandas.pydata.org/pandas-docs/stable/user_guide/indexing.html#returning-a-view-versus-a-copy\n",
            "  after removing the cwd from sys.path.\n"
          ]
        }
      ]
    },
    {
      "cell_type": "code",
      "source": [
        "del new_df['Y_LAT']\n",
        "del new_df['X_LON']\n",
        "new_df = new_df.dropna()"
      ],
      "metadata": {
        "id": "Gllpb1SgNxT-"
      },
      "execution_count": 16,
      "outputs": []
    },
    {
      "cell_type": "code",
      "source": [
        "new_df[['Y_LAT_x', 'X_LON_x', 'altitude']] = pd.DataFrame(new_df['point'].tolist(), index=df.index)"
      ],
      "metadata": {
        "id": "spXtAsEUN3K2"
      },
      "execution_count": 17,
      "outputs": []
    },
    {
      "cell_type": "code",
      "source": [
        "df = df.merge(new_df, on='name', how='left')"
      ],
      "metadata": {
        "id": "BVpk9IdrN6NC"
      },
      "execution_count": 18,
      "outputs": []
    },
    {
      "cell_type": "code",
      "source": [
        "df['Y_LAT'] = df['Y_LAT'].fillna(df['Y_LAT_x']) \n",
        "df['X_LON'] = df['X_LON'].fillna(df['X_LON_x']) "
      ],
      "metadata": {
        "id": "I0hOtAkUN7Qh"
      },
      "execution_count": 19,
      "outputs": []
    },
    {
      "cell_type": "code",
      "source": [
        "new_gdf = gpd.GeoDataFrame(df, crs=\"EPSG:4326\", geometry=gpd.points_from_xy(df.X_LON, df.Y_LAT))\n",
        "new_gdf.plot()"
      ],
      "metadata": {
        "colab": {
          "base_uri": "https://localhost:8080/",
          "height": 282
        },
        "id": "aWQ52nI0N-Zf",
        "outputId": "4ec7d385-9bf3-4b63-81c9-aa6850b02879"
      },
      "execution_count": 20,
      "outputs": [
        {
          "output_type": "execute_result",
          "data": {
            "text/plain": [
              "<matplotlib.axes._subplots.AxesSubplot at 0x7f2f12fc0ed0>"
            ]
          },
          "metadata": {},
          "execution_count": 20
        },
        {
          "output_type": "display_data",
          "data": {
            "text/plain": [
              "<Figure size 432x288 with 1 Axes>"
            ],
            "image/png": "[encoded data removed]"
          },
          "metadata": {
            "needs_background": "light"
          }
        }
      ]
    },
    {
      "cell_type": "code",
      "source": [
        "russia = gpd.read_file('/content/drive/MyDrive/Flexatel_probation/script/admpol.shp')"
      ],
      "metadata": {
        "id": "mBzUkhMwOBTn"
      },
      "execution_count": 21,
      "outputs": []
    },
    {
      "cell_type": "code",
      "source": [
        "russia_new = russia[['geometry', 'name']].to_crs('epsg:4326')"
      ],
      "metadata": {
        "id": "Dwm1njCJOCh1"
      },
      "execution_count": 22,
      "outputs": []
    },
    {
      "cell_type": "code",
      "source": [
        "russia_new.plot()"
      ],
      "metadata": {
        "colab": {
          "base_uri": "https://localhost:8080/",
          "height": 145
        },
        "id": "vWM1kQ5nOETZ",
        "outputId": "c6f89b44-0b8a-498a-95bb-0ed7e0085514"
      },
      "execution_count": 23,
      "outputs": [
        {
          "output_type": "execute_result",
          "data": {
            "text/plain": [
              "<matplotlib.axes._subplots.AxesSubplot at 0x7f2f12979950>"
            ]
          },
          "metadata": {},
          "execution_count": 23
        },
        {
          "output_type": "display_data",
          "data": {
            "text/plain": [
              "<Figure size 432x288 with 1 Axes>"
            ],
            "image/png": "[encoded data removed]"
          },
          "metadata": {
            "needs_background": "light"
          }
        }
      ]
    },
    {
      "cell_type": "code",
      "source": [
        "adress = gpd.sjoin(new_gdf, russia_new)"
      ],
      "metadata": {
        "id": "_J_OBKSdOG4x"
      },
      "execution_count": 24,
      "outputs": []
    },
    {
      "cell_type": "code",
      "source": [
        "adress = adress[['objecttype_x','Y_LAT','X_LON','name_left','storyes_x','material_x','address_x','name_right']]"
      ],
      "metadata": {
        "id": "Um9Xox9jO6IU"
      },
      "execution_count": 29,
      "outputs": []
    },
    {
      "cell_type": "code",
      "source": [
        "adress.to_file('/content/drive/MyDrive/Flexatel_probation/adres_new.shp')  "
      ],
      "metadata": {
        "id": "LwFzDeXnOJdg"
      },
      "execution_count": null,
      "outputs": []
    },
    {
      "cell_type": "markdown",
      "source": [
        ""
      ],
      "metadata": {
        "id": "bXfKO1PgNKng"
      }
    },
    {
      "cell_type": "markdown",
      "source": [
        ""
      ],
      "metadata": {
        "id": "Ad3E7ESkNsdR"
      }
    },
    {
      "cell_type": "markdown",
      "source": [
        ""
      ],
      "metadata": {
        "id": "KQJeKm_lNJxY"
      }
    }
  ]
}